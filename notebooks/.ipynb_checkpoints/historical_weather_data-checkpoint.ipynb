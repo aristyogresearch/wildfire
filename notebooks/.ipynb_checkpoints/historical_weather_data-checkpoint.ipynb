{
 "cells": [
  {
   "cell_type": "markdown",
   "metadata": {},
   "source": [
    "### Goal ###\n",
    "Find the nearest [California Data Exchange Center](https://cdec.water.ca.gov/) weather station to each of our California bins. This information will be used to assign each bin weather variable values."
   ]
  },
  {
   "cell_type": "code",
   "execution_count": 59,
   "metadata": {},
   "outputs": [
    {
     "name": "stdout",
     "output_type": "stream",
     "text": [
      "The memory_profiler extension is already loaded. To reload it, use:\n",
      "  %reload_ext memory_profiler\n"
     ]
    }
   ],
   "source": [
    "import pandas as pd\n",
    "import numpy as np\n",
    "import matplotlib.pyplot as plt\n",
    "from multiprocessing import Pool\n",
    "%matplotlib inline\n",
    "%load_ext memory_profiler"
   ]
  },
  {
   "cell_type": "markdown",
   "metadata": {},
   "source": [
    "Lets load the station locations and the bins and take a look."
   ]
  },
  {
   "cell_type": "code",
   "execution_count": 2,
   "metadata": {},
   "outputs": [
    {
     "data": {
      "image/png": "[encoded data removed]",
      "text/plain": [
       "<Figure size 576x576 with 1 Axes>"
      ]
     },
     "metadata": {
      "needs_background": "light"
     },
     "output_type": "display_data"
    }
   ],
   "source": [
    "stations = pd.read_csv('../data/CDEC_weather_station_data/target_stations.csv')\n",
    "\n",
    "# Rename columns to project standards\n",
    "stations.columns = ['station','elevation', 'lat', 'long']\n",
    "\n",
    "# There is one station which has coordinates 0, 0. Get rid of it\n",
    "stations = stations[stations.long != 0]\n",
    "\n",
    "bins = pd.read_csv('../data/spatial_data/california_bins.csv')\n",
    "\n",
    "plt.rcParams[\"figure.figsize\"] = (8,8)\n",
    "plt.scatter(x = bins['long'], y = bins['lat'], color = 'black', s = 2, label = 'bins')\n",
    "plt.scatter(x = stations['long'], y = stations['lat'], color = 'green', s = 2, label = 'bins')\n",
    "plt.axis('equal')\n",
    "plt.xlabel('longitude')\n",
    "plt.ylabel('latitude')\n",
    "plt.title('Weather station locations')\n",
    "plt.legend()\n",
    "plt.show()"
   ]
  },
  {
   "cell_type": "markdown",
   "metadata": {},
   "source": [
    "Since we have many bins which do not contain a weather monitoring station, the next step is to fill in their values from the nearest station. First find the nearest station to each bin. To do this we will use scipy.spatial."
   ]
  },
  {
   "cell_type": "code",
   "execution_count": 3,
   "metadata": {},
   "outputs": [
    {
     "data": {
      "text/plain": [
       "array([[-117.48,   33.52],\n",
       "       [-116.48,   33.52],\n",
       "       [-115.48,   33.52],\n",
       "       [-120.48,   34.52],\n",
       "       [-119.48,   34.52],\n",
       "       [-118.48,   34.52],\n",
       "       [-117.48,   34.52],\n",
       "       [-116.48,   34.52],\n",
       "       [-115.48,   34.52],\n",
       "       [-114.48,   34.52],\n",
       "       [-120.48,   35.52],\n",
       "       [-119.48,   35.52],\n",
       "       [-118.48,   35.52],\n",
       "       [-117.48,   35.52],\n",
       "       [-116.48,   35.52],\n",
       "       [-115.48,   35.52],\n",
       "       [-121.48,   36.52],\n",
       "       [-120.48,   36.52],\n",
       "       [-119.48,   36.52],\n",
       "       [-118.48,   36.52],\n",
       "       [-117.48,   36.52],\n",
       "       [-122.48,   37.52],\n",
       "       [-121.48,   37.52],\n",
       "       [-120.48,   37.52],\n",
       "       [-119.48,   37.52],\n",
       "       [-118.48,   37.52],\n",
       "       [-122.48,   38.52],\n",
       "       [-121.48,   38.52],\n",
       "       [-120.48,   38.52],\n",
       "       [-119.48,   38.52],\n",
       "       [-123.48,   39.52],\n",
       "       [-122.48,   39.52],\n",
       "       [-121.48,   39.52],\n",
       "       [-120.48,   39.52],\n",
       "       [-123.48,   40.52],\n",
       "       [-122.48,   40.52],\n",
       "       [-121.48,   40.52],\n",
       "       [-120.48,   40.52],\n",
       "       [-123.48,   41.52],\n",
       "       [-122.48,   41.52],\n",
       "       [-121.48,   41.52],\n",
       "       [-120.48,   41.52]])"
      ]
     },
     "execution_count": 3,
     "metadata": {},
     "output_type": "execute_result"
    }
   ],
   "source": [
    "bin_array = np.column_stack([bins['long'], bins['lat']])\n",
    "bin_array"
   ]
  },
  {
   "cell_type": "code",
   "execution_count": 4,
   "metadata": {},
   "outputs": [
    {
     "data": {
      "text/plain": [
       "array([[-119.505  ,   37.151  ],\n",
       "       [-118.2    ,   34.446  ],\n",
       "       [-120.792  ,   41.237  ],\n",
       "       ...,\n",
       "       [-123.358  ,   39.42767],\n",
       "       [-123.355  ,   39.43056],\n",
       "       [-120.233  ,   38.847  ]])"
      ]
     },
     "execution_count": 4,
     "metadata": {},
     "output_type": "execute_result"
    }
   ],
   "source": [
    "station_array = np.column_stack([stations['long'], stations['lat']])\n",
    "station_array"
   ]
  },
  {
   "cell_type": "code",
   "execution_count": 5,
   "metadata": {},
   "outputs": [],
   "source": [
    "from scipy import spatial\n",
    "\n",
    "station_tree = spatial.cKDTree(station_array)\n",
    "dist, indexes = station_tree.query(bin_array)"
   ]
  },
  {
   "cell_type": "code",
   "execution_count": 6,
   "metadata": {},
   "outputs": [],
   "source": [
    "nearest_station_names = []\n",
    "for index in indexes:\n",
    "    nearest_station_names.append(stations.iloc[index, 0])"
   ]
  },
  {
   "cell_type": "code",
   "execution_count": 7,
   "metadata": {},
   "outputs": [
    {
     "data": {
      "text/html": [
       "<div>\n",
       "<style scoped>\n",
       "    .dataframe tbody tr th:only-of-type {\n",
       "        vertical-align: middle;\n",
       "    }\n",
       "\n",
       "    .dataframe tbody tr th {\n",
       "        vertical-align: top;\n",
       "    }\n",
       "\n",
       "    .dataframe thead th {\n",
       "        text-align: right;\n",
       "    }\n",
       "</style>\n",
       "<table border=\"1\" class=\"dataframe\">\n",
       "  <thead>\n",
       "    <tr style=\"text-align: right;\">\n",
       "      <th></th>\n",
       "      <th>long</th>\n",
       "      <th>lat</th>\n",
       "      <th>nearest_station_name</th>\n",
       "    </tr>\n",
       "  </thead>\n",
       "  <tbody>\n",
       "    <tr>\n",
       "      <td>0</td>\n",
       "      <td>-117.48</td>\n",
       "      <td>33.52</td>\n",
       "      <td>BEC</td>\n",
       "    </tr>\n",
       "    <tr>\n",
       "      <td>1</td>\n",
       "      <td>-116.48</td>\n",
       "      <td>33.52</td>\n",
       "      <td>ANZ</td>\n",
       "    </tr>\n",
       "    <tr>\n",
       "      <td>2</td>\n",
       "      <td>-115.48</td>\n",
       "      <td>33.52</td>\n",
       "      <td>CAU</td>\n",
       "    </tr>\n",
       "    <tr>\n",
       "      <td>3</td>\n",
       "      <td>-120.48</td>\n",
       "      <td>34.52</td>\n",
       "      <td>VAN</td>\n",
       "    </tr>\n",
       "    <tr>\n",
       "      <td>4</td>\n",
       "      <td>-119.48</td>\n",
       "      <td>34.52</td>\n",
       "      <td>MTC</td>\n",
       "    </tr>\n",
       "  </tbody>\n",
       "</table>\n",
       "</div>"
      ],
      "text/plain": [
       "     long    lat nearest_station_name\n",
       "0 -117.48  33.52                  BEC\n",
       "1 -116.48  33.52                  ANZ\n",
       "2 -115.48  33.52                  CAU\n",
       "3 -120.48  34.52                  VAN\n",
       "4 -119.48  34.52                  MTC"
      ]
     },
     "execution_count": 7,
     "metadata": {},
     "output_type": "execute_result"
    }
   ],
   "source": [
    "bins['nearest_station_name'] = nearest_station_names\n",
    "bins.head()"
   ]
  },
  {
   "cell_type": "markdown",
   "metadata": {},
   "source": [
    "Starting with the temperature dataset as a test case, now we will make an hourly time series spanning from 2006 to 2016 and assign each bin a temprature from it's nearest station each hour. "
   ]
  },
  {
   "cell_type": "code",
   "execution_count": 65,
   "metadata": {},
   "outputs": [
    {
     "data": {
      "text/html": [
       "<div>\n",
       "<style scoped>\n",
       "    .dataframe tbody tr th:only-of-type {\n",
       "        vertical-align: middle;\n",
       "    }\n",
       "\n",
       "    .dataframe tbody tr th {\n",
       "        vertical-align: top;\n",
       "    }\n",
       "\n",
       "    .dataframe thead th {\n",
       "        text-align: right;\n",
       "    }\n",
       "</style>\n",
       "<table border=\"1\" class=\"dataframe\">\n",
       "  <thead>\n",
       "    <tr style=\"text-align: right;\">\n",
       "      <th></th>\n",
       "      <th>STATION_ID</th>\n",
       "      <th>DURATION</th>\n",
       "      <th>SENSOR_NUMBER</th>\n",
       "      <th>SENSOR_TYPE</th>\n",
       "      <th>DATE_TIME</th>\n",
       "      <th>OBS_DATE</th>\n",
       "      <th>VALUE</th>\n",
       "      <th>DATA_FLAG</th>\n",
       "      <th>UNITS</th>\n",
       "    </tr>\n",
       "  </thead>\n",
       "  <tbody>\n",
       "    <tr>\n",
       "      <td>0</td>\n",
       "      <td>ACN</td>\n",
       "      <td>H</td>\n",
       "      <td>4</td>\n",
       "      <td>TEMP</td>\n",
       "      <td>20150101 2300</td>\n",
       "      <td>20150101 2300</td>\n",
       "      <td>31</td>\n",
       "      <td></td>\n",
       "      <td>DEG F</td>\n",
       "    </tr>\n",
       "    <tr>\n",
       "      <td>1</td>\n",
       "      <td>ACN</td>\n",
       "      <td>H</td>\n",
       "      <td>4</td>\n",
       "      <td>TEMP</td>\n",
       "      <td>20150102 0000</td>\n",
       "      <td>20150102 0000</td>\n",
       "      <td>30</td>\n",
       "      <td></td>\n",
       "      <td>DEG F</td>\n",
       "    </tr>\n",
       "    <tr>\n",
       "      <td>2</td>\n",
       "      <td>ACN</td>\n",
       "      <td>H</td>\n",
       "      <td>4</td>\n",
       "      <td>TEMP</td>\n",
       "      <td>20150102 0100</td>\n",
       "      <td>20150102 0100</td>\n",
       "      <td>29</td>\n",
       "      <td></td>\n",
       "      <td>DEG F</td>\n",
       "    </tr>\n",
       "    <tr>\n",
       "      <td>3</td>\n",
       "      <td>ACN</td>\n",
       "      <td>H</td>\n",
       "      <td>4</td>\n",
       "      <td>TEMP</td>\n",
       "      <td>20150102 0200</td>\n",
       "      <td>20150102 0200</td>\n",
       "      <td>30</td>\n",
       "      <td></td>\n",
       "      <td>DEG F</td>\n",
       "    </tr>\n",
       "    <tr>\n",
       "      <td>4</td>\n",
       "      <td>ACN</td>\n",
       "      <td>H</td>\n",
       "      <td>4</td>\n",
       "      <td>TEMP</td>\n",
       "      <td>20150102 0300</td>\n",
       "      <td>20150102 0300</td>\n",
       "      <td>33</td>\n",
       "      <td></td>\n",
       "      <td>DEG F</td>\n",
       "    </tr>\n",
       "  </tbody>\n",
       "</table>\n",
       "</div>"
      ],
      "text/plain": [
       "  STATION_ID DURATION  SENSOR_NUMBER SENSOR_TYPE      DATE_TIME  \\\n",
       "0        ACN        H              4        TEMP  20150101 2300   \n",
       "1        ACN        H              4        TEMP  20150102 0000   \n",
       "2        ACN        H              4        TEMP  20150102 0100   \n",
       "3        ACN        H              4        TEMP  20150102 0200   \n",
       "4        ACN        H              4        TEMP  20150102 0300   \n",
       "\n",
       "        OBS_DATE VALUE DATA_FLAG  UNITS  \n",
       "0  20150101 2300    31            DEG F  \n",
       "1  20150102 0000    30            DEG F  \n",
       "2  20150102 0100    29            DEG F  \n",
       "3  20150102 0200    30            DEG F  \n",
       "4  20150102 0300    33            DEG F  "
      ]
     },
     "execution_count": 65,
     "metadata": {},
     "output_type": "execute_result"
    }
   ],
   "source": [
    "temp_data = pd.read_csv('../data/training_data/weather_data/TEMP_1yr.csv', low_memory = False)\n",
    "temp_data.head()"
   ]
  },
  {
   "cell_type": "markdown",
   "metadata": {},
   "source": [
    "Plan here is to multiindex the weather data by station and datetime so when building the final training dataset each bin can ask for data from its nearest station at a particular time. Lets trim some of the fat first. In order to make the weather data more managable, we will resampple with a 6 hour resolution. This will effectivly make the dataset 6x smaller."
   ]
  },
  {
   "cell_type": "code",
   "execution_count": 66,
   "metadata": {},
   "outputs": [
    {
     "data": {
      "text/html": [
       "<div>\n",
       "<style scoped>\n",
       "    .dataframe tbody tr th:only-of-type {\n",
       "        vertical-align: middle;\n",
       "    }\n",
       "\n",
       "    .dataframe tbody tr th {\n",
       "        vertical-align: top;\n",
       "    }\n",
       "\n",
       "    .dataframe thead th {\n",
       "        text-align: right;\n",
       "    }\n",
       "</style>\n",
       "<table border=\"1\" class=\"dataframe\">\n",
       "  <thead>\n",
       "    <tr style=\"text-align: right;\">\n",
       "      <th></th>\n",
       "      <th>STATION_ID</th>\n",
       "      <th>VALUE</th>\n",
       "    </tr>\n",
       "    <tr>\n",
       "      <th>OBS_DATE</th>\n",
       "      <th></th>\n",
       "      <th></th>\n",
       "    </tr>\n",
       "  </thead>\n",
       "  <tbody>\n",
       "    <tr>\n",
       "      <td>2015-01-01 23:00:00</td>\n",
       "      <td>ACN</td>\n",
       "      <td>31</td>\n",
       "    </tr>\n",
       "    <tr>\n",
       "      <td>2015-01-02 00:00:00</td>\n",
       "      <td>ACN</td>\n",
       "      <td>30</td>\n",
       "    </tr>\n",
       "    <tr>\n",
       "      <td>2015-01-02 01:00:00</td>\n",
       "      <td>ACN</td>\n",
       "      <td>29</td>\n",
       "    </tr>\n",
       "    <tr>\n",
       "      <td>2015-01-02 02:00:00</td>\n",
       "      <td>ACN</td>\n",
       "      <td>30</td>\n",
       "    </tr>\n",
       "    <tr>\n",
       "      <td>2015-01-02 03:00:00</td>\n",
       "      <td>ACN</td>\n",
       "      <td>33</td>\n",
       "    </tr>\n",
       "  </tbody>\n",
       "</table>\n",
       "</div>"
      ],
      "text/plain": [
       "                    STATION_ID VALUE\n",
       "OBS_DATE                            \n",
       "2015-01-01 23:00:00        ACN    31\n",
       "2015-01-02 00:00:00        ACN    30\n",
       "2015-01-02 01:00:00        ACN    29\n",
       "2015-01-02 02:00:00        ACN    30\n",
       "2015-01-02 03:00:00        ACN    33"
      ]
     },
     "execution_count": 66,
     "metadata": {},
     "output_type": "execute_result"
    }
   ],
   "source": [
    "temp_data = temp_data.drop(['DURATION', 'SENSOR_NUMBER', 'SENSOR_TYPE', 'DATE_TIME', 'DATA_FLAG', 'UNITS'], axis = 1)\n",
    "temp_data = temp_data[temp_data.VALUE != '---']\n",
    "temp_data['OBS_DATE'] = pd.to_datetime(temp_data['OBS_DATE'])\n",
    "temp_data = temp_data.set_index(['OBS_DATE'])\n",
    "temp_data.head()"
   ]
  },
  {
   "cell_type": "code",
   "execution_count": null,
   "metadata": {},
   "outputs": [],
   "source": [
    "temp_data.loc[:,'VALUE'] = temp_data['VALUE'].apply(pd.to_numeric, errors='coerce')\n",
    "temp_data.head()\n",
    "#temp_data.loc[:,'resampled_value'] = temp_data.VALUE.rolling('6H').mean()\n",
    "#temp_data = temp_data.drop(['VALUE'], axis = 1)\n",
    "#binned_temp_data = temp_data.iloc[::6, :]\n",
    "#binned_temp_data.head()"
   ]
  },
  {
   "cell_type": "code",
   "execution_count": null,
   "metadata": {},
   "outputs": [],
   "source": [
    "stations = temp_data['STATION_ID'].unique().tolist()\n",
    "type(stations)"
   ]
  },
  {
   "cell_type": "code",
   "execution_count": null,
   "metadata": {},
   "outputs": [],
   "source": []
  },
  {
   "cell_type": "code",
   "execution_count": 64,
   "metadata": {},
   "outputs": [
    {
     "ename": "ValueError",
     "evalue": "index must be monotonic",
     "output_type": "error",
     "traceback": [
      "\u001b[0;31m---------------------------------------------------------------------------\u001b[0m",
      "\u001b[0;31mRemoteTraceback\u001b[0m                           Traceback (most recent call last)",
      "\u001b[0;31mRemoteTraceback\u001b[0m: \n\"\"\"\nTraceback (most recent call last):\n  File \"/home/siderealyear/anaconda3/envs/wildfire/lib/python3.6/site-packages/pandas/core/groupby/groupby.py\", line 725, in apply\n    result = self._python_apply_general(f)\n  File \"/home/siderealyear/anaconda3/envs/wildfire/lib/python3.6/site-packages/pandas/core/groupby/groupby.py\", line 742, in _python_apply_general\n    keys, values, mutated = self.grouper.apply(f, self._selected_obj, self.axis)\n  File \"/home/siderealyear/anaconda3/envs/wildfire/lib/python3.6/site-packages/pandas/core/groupby/ops.py\", line 237, in apply\n    res = f(group)\n  File \"<ipython-input-64-1f14d8b10c2d>\", line 4, in downsample_timeseries\n    grouped_data.loc[:,'resampled_value'] = grouped_data.VALUE.rolling('6H').mean()\n  File \"/home/siderealyear/anaconda3/envs/wildfire/lib/python3.6/site-packages/pandas/core/generic.py\", line 10769, in rolling\n    closed=closed,\n  File \"/home/siderealyear/anaconda3/envs/wildfire/lib/python3.6/site-packages/pandas/core/window.py\", line 2849, in rolling\n    return Rolling(obj, **kwds)\n  File \"/home/siderealyear/anaconda3/envs/wildfire/lib/python3.6/site-packages/pandas/core/window.py\", line 93, in __init__\n    self.validate()\n  File \"/home/siderealyear/anaconda3/envs/wildfire/lib/python3.6/site-packages/pandas/core/window.py\", line 1717, in validate\n    self._validate_monotonic()\n  File \"/home/siderealyear/anaconda3/envs/wildfire/lib/python3.6/site-packages/pandas/core/window.py\", line 1753, in _validate_monotonic\n    raise ValueError(\"{0} must be \" \"monotonic\".format(formatted))\nValueError: index must be monotonic\n\nDuring handling of the above exception, another exception occurred:\n\nTraceback (most recent call last):\n  File \"/home/siderealyear/anaconda3/envs/wildfire/lib/python3.6/multiprocessing/pool.py\", line 119, in worker\n    result = (True, func(*args, **kwds))\n  File \"/home/siderealyear/anaconda3/envs/wildfire/lib/python3.6/multiprocessing/pool.py\", line 44, in mapstar\n    return list(map(*args))\n  File \"<ipython-input-64-1f14d8b10c2d>\", line 12, in group_timeseries_data\n    return grouped_data.apply(downsample_timeseries)\n  File \"/home/siderealyear/anaconda3/envs/wildfire/lib/python3.6/site-packages/pandas/core/groupby/groupby.py\", line 737, in apply\n    return self._python_apply_general(f)\n  File \"/home/siderealyear/anaconda3/envs/wildfire/lib/python3.6/site-packages/pandas/core/groupby/groupby.py\", line 742, in _python_apply_general\n    keys, values, mutated = self.grouper.apply(f, self._selected_obj, self.axis)\n  File \"/home/siderealyear/anaconda3/envs/wildfire/lib/python3.6/site-packages/pandas/core/groupby/ops.py\", line 237, in apply\n    res = f(group)\n  File \"<ipython-input-64-1f14d8b10c2d>\", line 4, in downsample_timeseries\n    grouped_data.loc[:,'resampled_value'] = grouped_data.VALUE.rolling('6H').mean()\n  File \"/home/siderealyear/anaconda3/envs/wildfire/lib/python3.6/site-packages/pandas/core/generic.py\", line 10769, in rolling\n    closed=closed,\n  File \"/home/siderealyear/anaconda3/envs/wildfire/lib/python3.6/site-packages/pandas/core/window.py\", line 2849, in rolling\n    return Rolling(obj, **kwds)\n  File \"/home/siderealyear/anaconda3/envs/wildfire/lib/python3.6/site-packages/pandas/core/window.py\", line 93, in __init__\n    self.validate()\n  File \"/home/siderealyear/anaconda3/envs/wildfire/lib/python3.6/site-packages/pandas/core/window.py\", line 1717, in validate\n    self._validate_monotonic()\n  File \"/home/siderealyear/anaconda3/envs/wildfire/lib/python3.6/site-packages/pandas/core/window.py\", line 1753, in _validate_monotonic\n    raise ValueError(\"{0} must be \" \"monotonic\".format(formatted))\nValueError: index must be monotonic\n\"\"\"",
      "\nThe above exception was the direct cause of the following exception:\n",
      "\u001b[0;31mValueError\u001b[0m                                Traceback (most recent call last)",
      "\u001b[0;32m<ipython-input-64-1f14d8b10c2d>\u001b[0m in \u001b[0;36m<module>\u001b[0;34m\u001b[0m\n\u001b[1;32m     22\u001b[0m     \u001b[0;32mreturn\u001b[0m \u001b[0mresult\u001b[0m\u001b[0;34m\u001b[0m\u001b[0;34m\u001b[0m\u001b[0m\n\u001b[1;32m     23\u001b[0m \u001b[0;34m\u001b[0m\u001b[0m\n\u001b[0;32m---> 24\u001b[0;31m \u001b[0mbinned_temp_data\u001b[0m \u001b[0;34m=\u001b[0m \u001b[0mparallelize\u001b[0m\u001b[0;34m(\u001b[0m\u001b[0mstations\u001b[0m\u001b[0;34m,\u001b[0m \u001b[0mgroup_timeseries_data\u001b[0m\u001b[0;34m)\u001b[0m\u001b[0;34m\u001b[0m\u001b[0;34m\u001b[0m\u001b[0m\n\u001b[0m\u001b[1;32m     25\u001b[0m \u001b[0;34m\u001b[0m\u001b[0m\n\u001b[1;32m     26\u001b[0m \u001b[0;34m\u001b[0m\u001b[0m\n",
      "\u001b[0;32m<ipython-input-64-1f14d8b10c2d>\u001b[0m in \u001b[0;36mparallelize\u001b[0;34m(stations, func, n_cores)\u001b[0m\n\u001b[1;32m     17\u001b[0m     \u001b[0mstations_split\u001b[0m \u001b[0;34m=\u001b[0m \u001b[0mnp\u001b[0m\u001b[0;34m.\u001b[0m\u001b[0marray_split\u001b[0m\u001b[0;34m(\u001b[0m\u001b[0mstations\u001b[0m\u001b[0;34m,\u001b[0m \u001b[0mn_cores\u001b[0m\u001b[0;34m)\u001b[0m\u001b[0;34m\u001b[0m\u001b[0;34m\u001b[0m\u001b[0m\n\u001b[1;32m     18\u001b[0m     \u001b[0mpool\u001b[0m \u001b[0;34m=\u001b[0m \u001b[0mPool\u001b[0m\u001b[0;34m(\u001b[0m\u001b[0mn_cores\u001b[0m\u001b[0;34m)\u001b[0m\u001b[0;34m\u001b[0m\u001b[0;34m\u001b[0m\u001b[0m\n\u001b[0;32m---> 19\u001b[0;31m     \u001b[0mresult\u001b[0m \u001b[0;34m=\u001b[0m \u001b[0mpd\u001b[0m\u001b[0;34m.\u001b[0m\u001b[0mconcat\u001b[0m\u001b[0;34m(\u001b[0m\u001b[0mpool\u001b[0m\u001b[0;34m.\u001b[0m\u001b[0mmap\u001b[0m\u001b[0;34m(\u001b[0m\u001b[0mfunc\u001b[0m\u001b[0;34m,\u001b[0m \u001b[0mstations_split\u001b[0m\u001b[0;34m)\u001b[0m\u001b[0;34m)\u001b[0m\u001b[0;34m\u001b[0m\u001b[0;34m\u001b[0m\u001b[0m\n\u001b[0m\u001b[1;32m     20\u001b[0m     \u001b[0mpool\u001b[0m\u001b[0;34m.\u001b[0m\u001b[0mclose\u001b[0m\u001b[0;34m(\u001b[0m\u001b[0;34m)\u001b[0m\u001b[0;34m\u001b[0m\u001b[0;34m\u001b[0m\u001b[0m\n\u001b[1;32m     21\u001b[0m     \u001b[0mpool\u001b[0m\u001b[0;34m.\u001b[0m\u001b[0mjoin\u001b[0m\u001b[0;34m(\u001b[0m\u001b[0;34m)\u001b[0m\u001b[0;34m\u001b[0m\u001b[0;34m\u001b[0m\u001b[0m\n",
      "\u001b[0;32m~/anaconda3/envs/wildfire/lib/python3.6/multiprocessing/pool.py\u001b[0m in \u001b[0;36mmap\u001b[0;34m(self, func, iterable, chunksize)\u001b[0m\n\u001b[1;32m    264\u001b[0m         \u001b[0;32min\u001b[0m \u001b[0ma\u001b[0m \u001b[0mlist\u001b[0m \u001b[0mthat\u001b[0m \u001b[0;32mis\u001b[0m \u001b[0mreturned\u001b[0m\u001b[0;34m.\u001b[0m\u001b[0;34m\u001b[0m\u001b[0;34m\u001b[0m\u001b[0m\n\u001b[1;32m    265\u001b[0m         '''\n\u001b[0;32m--> 266\u001b[0;31m         \u001b[0;32mreturn\u001b[0m \u001b[0mself\u001b[0m\u001b[0;34m.\u001b[0m\u001b[0m_map_async\u001b[0m\u001b[0;34m(\u001b[0m\u001b[0mfunc\u001b[0m\u001b[0;34m,\u001b[0m \u001b[0miterable\u001b[0m\u001b[0;34m,\u001b[0m \u001b[0mmapstar\u001b[0m\u001b[0;34m,\u001b[0m \u001b[0mchunksize\u001b[0m\u001b[0;34m)\u001b[0m\u001b[0;34m.\u001b[0m\u001b[0mget\u001b[0m\u001b[0;34m(\u001b[0m\u001b[0;34m)\u001b[0m\u001b[0;34m\u001b[0m\u001b[0;34m\u001b[0m\u001b[0m\n\u001b[0m\u001b[1;32m    267\u001b[0m \u001b[0;34m\u001b[0m\u001b[0m\n\u001b[1;32m    268\u001b[0m     \u001b[0;32mdef\u001b[0m \u001b[0mstarmap\u001b[0m\u001b[0;34m(\u001b[0m\u001b[0mself\u001b[0m\u001b[0;34m,\u001b[0m \u001b[0mfunc\u001b[0m\u001b[0;34m,\u001b[0m \u001b[0miterable\u001b[0m\u001b[0;34m,\u001b[0m \u001b[0mchunksize\u001b[0m\u001b[0;34m=\u001b[0m\u001b[0;32mNone\u001b[0m\u001b[0;34m)\u001b[0m\u001b[0;34m:\u001b[0m\u001b[0;34m\u001b[0m\u001b[0;34m\u001b[0m\u001b[0m\n",
      "\u001b[0;32m~/anaconda3/envs/wildfire/lib/python3.6/multiprocessing/pool.py\u001b[0m in \u001b[0;36mget\u001b[0;34m(self, timeout)\u001b[0m\n\u001b[1;32m    642\u001b[0m             \u001b[0;32mreturn\u001b[0m \u001b[0mself\u001b[0m\u001b[0;34m.\u001b[0m\u001b[0m_value\u001b[0m\u001b[0;34m\u001b[0m\u001b[0;34m\u001b[0m\u001b[0m\n\u001b[1;32m    643\u001b[0m         \u001b[0;32melse\u001b[0m\u001b[0;34m:\u001b[0m\u001b[0;34m\u001b[0m\u001b[0;34m\u001b[0m\u001b[0m\n\u001b[0;32m--> 644\u001b[0;31m             \u001b[0;32mraise\u001b[0m \u001b[0mself\u001b[0m\u001b[0;34m.\u001b[0m\u001b[0m_value\u001b[0m\u001b[0;34m\u001b[0m\u001b[0;34m\u001b[0m\u001b[0m\n\u001b[0m\u001b[1;32m    645\u001b[0m \u001b[0;34m\u001b[0m\u001b[0m\n\u001b[1;32m    646\u001b[0m     \u001b[0;32mdef\u001b[0m \u001b[0m_set\u001b[0m\u001b[0;34m(\u001b[0m\u001b[0mself\u001b[0m\u001b[0;34m,\u001b[0m \u001b[0mi\u001b[0m\u001b[0;34m,\u001b[0m \u001b[0mobj\u001b[0m\u001b[0;34m)\u001b[0m\u001b[0;34m:\u001b[0m\u001b[0;34m\u001b[0m\u001b[0;34m\u001b[0m\u001b[0m\n",
      "\u001b[0;31mValueError\u001b[0m: index must be monotonic"
     ]
    }
   ],
   "source": [
    "n_threads = 14\n",
    "\n",
    "def downsample_timeseries(grouped_data):\n",
    "    grouped_data.loc[:,'resampled_value'] = grouped_data.VALUE.rolling('6H').mean()\n",
    "    grouped_data = grouped_data.drop(['VALUE'], axis = 1)\n",
    "    return grouped_data.iloc[::6, :]\n",
    "\n",
    "def group_timeseries_data(stations):\n",
    "    data = temp_data.loc[temp_data['STATION_ID'].isin(stations)]\n",
    "    grouped_data = data.groupby('STATION_ID')\n",
    "    return grouped_data.apply(downsample_timeseries)\n",
    "    \n",
    "def parallelize(stations, func, n_cores = n_threads):\n",
    "    '''Parallelizes downsampling, takes list of stations and\n",
    "    splits up the downsampling fuction over avalibile threads'''\n",
    "    stations_split = np.array_split(stations, n_cores)\n",
    "    pool = Pool(n_cores)\n",
    "    result = pd.concat(pool.map(func, stations_split))\n",
    "    pool.close()\n",
    "    pool.join()\n",
    "    return result\n",
    "    \n",
    "binned_temp_data = parallelize(stations, group_timeseries_data)\n",
    "\n",
    "\n",
    "# def point_in_california(point):\n",
    "#     '''Takes point and returns point if in california'''\n",
    "#     coord = Point(point['long'], point['lat'])\n",
    "#     if coord.within(california) == True:\n",
    "#         return point\n",
    "#     else:\n",
    "#         return empty\n",
    "    \n",
    "# def cull_points(points):\n",
    "#     '''Takes a dataframe containing long, lat points and \n",
    "#     uses apply find points which fall in California'''\n",
    "#     keepers = points.apply(point_in_california, axis=1)\n",
    "#     return keepers\n",
    "    \n",
    "# def parallelize(df, func, n_cores = n_threads):\n",
    "#     '''Parallelizes point picking, takes dataframe of points\n",
    "#     and splits up the cull fuction over avalibile threads'''\n",
    "#     df_split = np.array_split(df, n_cores)\n",
    "#     pool = Pool(n_cores)\n",
    "#     df = pd.concat(pool.map(func, df_split))\n",
    "#     pool.close()\n",
    "#     pool.join()\n",
    "#     return df\n",
    "\n",
    "# keeper_bins = parallelize(bins, cull_points).dropna()\n",
    "# keeper_bins.to_csv('../data/spatial_data/california_bins.csv', index = None, header = True)"
   ]
  },
  {
   "cell_type": "code",
   "execution_count": null,
   "metadata": {},
   "outputs": [],
   "source": [
    "temp_data = temp_data.set_index(['STATION_ID', 'OBS_DATE'])\n",
    "temp_data = temp_data.sort_index()\n",
    "temp_data = temp_data.drop_duplicates()\n",
    "temp_data.head()"
   ]
  },
  {
   "cell_type": "code",
   "execution_count": null,
   "metadata": {},
   "outputs": [],
   "source": [
    "time_series = pd.date_range(\"2011-01-01 23:00:00\", \"2016-01-01 23:00:00\", freq = \"60min\")\n",
    "time_series = time_series.to_series()\n",
    "time_series.head()"
   ]
  },
  {
   "cell_type": "markdown",
   "metadata": {},
   "source": [
    "Now we make a dataframe of 'noxels' or n-dimentional voxels. Each row will be a bin at a specific time. Once we have this dataframe, we can go back though and assign weather variable values to each noxel."
   ]
  },
  {
   "cell_type": "code",
   "execution_count": null,
   "metadata": {},
   "outputs": [],
   "source": [
    "def apply_to_bins(time_series, bins):\n",
    "    return bins.assign(time = time_series)\n",
    "\n",
    "%memit noxels = pd.concat(time_series.apply(apply_to_bins, args = (bins,)).tolist())\n",
    "noxels.head()"
   ]
  },
  {
   "cell_type": "code",
   "execution_count": null,
   "metadata": {},
   "outputs": [],
   "source": [
    "len(noxels)"
   ]
  },
  {
   "cell_type": "code",
   "execution_count": null,
   "metadata": {},
   "outputs": [],
   "source": [
    "# noxels.to_csv('../data/spatial_data/noxels.csv', index = None, header = True)"
   ]
  },
  {
   "cell_type": "markdown",
   "metadata": {},
   "source": [
    "**Note:** Do not run the code below with the full dataset. It will fill all ~47 ish gigs of avalible headnode system memory, start swapping and then lock."
   ]
  },
  {
   "cell_type": "code",
   "execution_count": null,
   "metadata": {},
   "outputs": [],
   "source": [
    "def assign_data(noxels, temp_data):\n",
    "    return noxels.assign(temp = temp_data.loc[(noxels['station_name'], noxels['time'])])\n",
    "\n",
    "%memit noxels = pd.concat(noxels.apply(assign_data, args=(temp_data,)).tolist())\n",
    "noxels.head()"
   ]
  },
  {
   "cell_type": "code",
   "execution_count": null,
   "metadata": {},
   "outputs": [],
   "source": []
  }
 ],
 "metadata": {
  "kernelspec": {
   "display_name": "Python 3",
   "language": "python",
   "name": "python3"
  },
  "language_info": {
   "codemirror_mode": {
    "name": "ipython",
    "version": 3
   },
   "file_extension": ".py",
   "mimetype": "text/x-python",
   "name": "python",
   "nbconvert_exporter": "python",
   "pygments_lexer": "ipython3",
   "version": "3.6.9"
  }
 },
 "nbformat": 4,
 "nbformat_minor": 2
}
