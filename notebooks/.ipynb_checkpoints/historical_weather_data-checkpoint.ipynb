{
 "cells": [
  {
   "cell_type": "markdown",
   "metadata": {},
   "source": [
    "### Goal ###\n",
    "Find the nearest [California Data Exchange Center](https://cdec.water.ca.gov/) weather station to each of our California bins. This information will be used to assign each bin weather variable values."
   ]
  },
  {
   "cell_type": "code",
   "execution_count": 18,
   "metadata": {},
   "outputs": [
    {
     "name": "stdout",
     "output_type": "stream",
     "text": [
      "The memory_profiler extension is already loaded. To reload it, use:\n",
      "  %reload_ext memory_profiler\n"
     ]
    }
   ],
   "source": [
    "import pandas as pd\n",
    "import numpy as np\n",
    "import matplotlib.pyplot as plt\n",
    "from multiprocessing import Pool\n",
    "%matplotlib inline\n",
    "%load_ext memory_profiler"
   ]
  },
  {
   "cell_type": "markdown",
   "metadata": {},
   "source": [
    "Since we have many bins which do not contain a weather monitoring station, the next step is to fill in their values from the nearest station. First find the nearest station to each bin. To do this we will use scipy.spatial."
   ]
  },
  {
   "cell_type": "code",
   "execution_count": 19,
   "metadata": {},
   "outputs": [
    {
     "data": {
      "text/html": [
       "<div>\n",
       "<style scoped>\n",
       "    .dataframe tbody tr th:only-of-type {\n",
       "        vertical-align: middle;\n",
       "    }\n",
       "\n",
       "    .dataframe tbody tr th {\n",
       "        vertical-align: top;\n",
       "    }\n",
       "\n",
       "    .dataframe thead th {\n",
       "        text-align: right;\n",
       "    }\n",
       "</style>\n",
       "<table border=\"1\" class=\"dataframe\">\n",
       "  <thead>\n",
       "    <tr style=\"text-align: right;\">\n",
       "      <th></th>\n",
       "      <th>station</th>\n",
       "      <th>elevation</th>\n",
       "      <th>lat</th>\n",
       "      <th>long</th>\n",
       "    </tr>\n",
       "  </thead>\n",
       "  <tbody>\n",
       "    <tr>\n",
       "      <td>0</td>\n",
       "      <td>AGW</td>\n",
       "      <td>1000</td>\n",
       "      <td>37.15100</td>\n",
       "      <td>-119.50500</td>\n",
       "    </tr>\n",
       "    <tr>\n",
       "      <td>1</td>\n",
       "      <td>ACN</td>\n",
       "      <td>2600</td>\n",
       "      <td>34.44600</td>\n",
       "      <td>-118.20000</td>\n",
       "    </tr>\n",
       "    <tr>\n",
       "      <td>2</td>\n",
       "      <td>ADM</td>\n",
       "      <td>6200</td>\n",
       "      <td>41.23700</td>\n",
       "      <td>-120.79200</td>\n",
       "    </tr>\n",
       "    <tr>\n",
       "      <td>3</td>\n",
       "      <td>AGP</td>\n",
       "      <td>9450</td>\n",
       "      <td>37.72663</td>\n",
       "      <td>-119.14173</td>\n",
       "    </tr>\n",
       "    <tr>\n",
       "      <td>4</td>\n",
       "      <td>ALD</td>\n",
       "      <td>923</td>\n",
       "      <td>40.23200</td>\n",
       "      <td>-123.71200</td>\n",
       "    </tr>\n",
       "  </tbody>\n",
       "</table>\n",
       "</div>"
      ],
      "text/plain": [
       "  station  elevation       lat       long\n",
       "0     AGW       1000  37.15100 -119.50500\n",
       "1     ACN       2600  34.44600 -118.20000\n",
       "2     ADM       6200  41.23700 -120.79200\n",
       "3     AGP       9450  37.72663 -119.14173\n",
       "4     ALD        923  40.23200 -123.71200"
      ]
     },
     "execution_count": 19,
     "metadata": {},
     "output_type": "execute_result"
    }
   ],
   "source": [
    "bins = pd.read_csv('../data/spatial_data/california_bins.csv')\n",
    "stations = pd.read_csv('../data/CDEC_weather_station_data/target_stations.csv')\n",
    "stations.columns = ['station','elevation', 'lat', 'long']\n",
    "stations = stations[stations.long != 0]\n",
    "bin_array = np.column_stack([bins['long'], bins['lat']])\n",
    "station_array = np.column_stack([stations['long'], stations['lat']])\n",
    "stations.head()"
   ]
  },
  {
   "cell_type": "code",
   "execution_count": 20,
   "metadata": {},
   "outputs": [
    {
     "data": {
      "text/html": [
       "<div>\n",
       "<style scoped>\n",
       "    .dataframe tbody tr th:only-of-type {\n",
       "        vertical-align: middle;\n",
       "    }\n",
       "\n",
       "    .dataframe tbody tr th {\n",
       "        vertical-align: top;\n",
       "    }\n",
       "\n",
       "    .dataframe thead th {\n",
       "        text-align: right;\n",
       "    }\n",
       "</style>\n",
       "<table border=\"1\" class=\"dataframe\">\n",
       "  <thead>\n",
       "    <tr style=\"text-align: right;\">\n",
       "      <th></th>\n",
       "      <th>long</th>\n",
       "      <th>lat</th>\n",
       "      <th>nearest_station_name</th>\n",
       "    </tr>\n",
       "  </thead>\n",
       "  <tbody>\n",
       "    <tr>\n",
       "      <td>0</td>\n",
       "      <td>-116.98</td>\n",
       "      <td>33.02</td>\n",
       "      <td>ELC</td>\n",
       "    </tr>\n",
       "    <tr>\n",
       "      <td>1</td>\n",
       "      <td>-116.48</td>\n",
       "      <td>33.02</td>\n",
       "      <td>JUL</td>\n",
       "    </tr>\n",
       "    <tr>\n",
       "      <td>2</td>\n",
       "      <td>-115.98</td>\n",
       "      <td>33.02</td>\n",
       "      <td>FIS</td>\n",
       "    </tr>\n",
       "    <tr>\n",
       "      <td>3</td>\n",
       "      <td>-115.48</td>\n",
       "      <td>33.02</td>\n",
       "      <td>CAU</td>\n",
       "    </tr>\n",
       "    <tr>\n",
       "      <td>4</td>\n",
       "      <td>-114.98</td>\n",
       "      <td>33.02</td>\n",
       "      <td>CAU</td>\n",
       "    </tr>\n",
       "  </tbody>\n",
       "</table>\n",
       "</div>"
      ],
      "text/plain": [
       "     long    lat nearest_station_name\n",
       "0 -116.98  33.02                  ELC\n",
       "1 -116.48  33.02                  JUL\n",
       "2 -115.98  33.02                  FIS\n",
       "3 -115.48  33.02                  CAU\n",
       "4 -114.98  33.02                  CAU"
      ]
     },
     "execution_count": 20,
     "metadata": {},
     "output_type": "execute_result"
    }
   ],
   "source": [
    "from scipy import spatial\n",
    "\n",
    "station_tree = spatial.cKDTree(station_array)\n",
    "dist, indexes = station_tree.query(bin_array)\n",
    "\n",
    "nearest_station_names = []\n",
    "for index in indexes:\n",
    "    nearest_station_names.append(stations.iloc[index, 0])\n",
    "    \n",
    "bins['nearest_station_name'] = nearest_station_names\n",
    "bins.head()"
   ]
  },
  {
   "cell_type": "markdown",
   "metadata": {},
   "source": [
    "Starting with the temperature dataset as a test case, now we will make an hourly time series spanning from 2006 to 2016 and assign each bin a temprature from it's nearest station each hour. "
   ]
  },
  {
   "cell_type": "code",
   "execution_count": 21,
   "metadata": {},
   "outputs": [
    {
     "name": "stdout",
     "output_type": "stream",
     "text": [
      "<class 'pandas.core.frame.DataFrame'>\n",
      "DatetimeIndex: 30650 entries, 2015-01-01 23:00:00 to 2015-01-02 23:00:00\n",
      "Data columns (total 2 columns):\n",
      "STATION_ID    30650 non-null object\n",
      "VALUE         30650 non-null int64\n",
      "dtypes: int64(1), object(1)\n",
      "memory usage: 718.4+ KB\n"
     ]
    }
   ],
   "source": [
    "# Annoying, but here goes...\n",
    "import warnings\n",
    "warnings.simplefilter(action='ignore', category=FutureWarning)\n",
    "\n",
    "temp_data = pd.read_csv(\"../data/training_data/weather_data/TEMP_1d.csv\", parse_dates=['OBS_DATE'], usecols = [\"STATION_ID\", \"OBS_DATE\", \"VALUE\"], index_col = \"OBS_DATE\")\n",
    "temp_data = temp_data[temp_data.VALUE != '---']\n",
    "temp_data.info()"
   ]
  },
  {
   "cell_type": "markdown",
   "metadata": {},
   "source": [
    "Here is an example of a station which does not report regularly on the hour. I am sure there are many other cases of this in the dataset. There are also almost certainly missing values. To fix this, we will resample and interpolate to a regular hourly frequency over the whole dataset."
   ]
  },
  {
   "cell_type": "code",
   "execution_count": 22,
   "metadata": {},
   "outputs": [
    {
     "data": {
      "text/html": [
       "<div>\n",
       "<style scoped>\n",
       "    .dataframe tbody tr th:only-of-type {\n",
       "        vertical-align: middle;\n",
       "    }\n",
       "\n",
       "    .dataframe tbody tr th {\n",
       "        vertical-align: top;\n",
       "    }\n",
       "\n",
       "    .dataframe thead th {\n",
       "        text-align: right;\n",
       "    }\n",
       "</style>\n",
       "<table border=\"1\" class=\"dataframe\">\n",
       "  <thead>\n",
       "    <tr style=\"text-align: right;\">\n",
       "      <th></th>\n",
       "      <th>STATION_ID</th>\n",
       "      <th>VALUE</th>\n",
       "    </tr>\n",
       "    <tr>\n",
       "      <th>OBS_DATE</th>\n",
       "      <th></th>\n",
       "      <th></th>\n",
       "    </tr>\n",
       "  </thead>\n",
       "  <tbody>\n",
       "    <tr>\n",
       "      <td>2015-01-01 23:00:00</td>\n",
       "      <td>BUD</td>\n",
       "      <td>33</td>\n",
       "    </tr>\n",
       "    <tr>\n",
       "      <td>2015-01-01 23:15:00</td>\n",
       "      <td>BUD</td>\n",
       "      <td>33</td>\n",
       "    </tr>\n",
       "    <tr>\n",
       "      <td>2015-01-01 23:30:00</td>\n",
       "      <td>BUD</td>\n",
       "      <td>33</td>\n",
       "    </tr>\n",
       "    <tr>\n",
       "      <td>2015-01-01 23:45:00</td>\n",
       "      <td>BUD</td>\n",
       "      <td>33</td>\n",
       "    </tr>\n",
       "    <tr>\n",
       "      <td>2015-01-02 00:00:00</td>\n",
       "      <td>BUD</td>\n",
       "      <td>33</td>\n",
       "    </tr>\n",
       "  </tbody>\n",
       "</table>\n",
       "</div>"
      ],
      "text/plain": [
       "                    STATION_ID  VALUE\n",
       "OBS_DATE                             \n",
       "2015-01-01 23:00:00        BUD     33\n",
       "2015-01-01 23:15:00        BUD     33\n",
       "2015-01-01 23:30:00        BUD     33\n",
       "2015-01-01 23:45:00        BUD     33\n",
       "2015-01-02 00:00:00        BUD     33"
      ]
     },
     "execution_count": 22,
     "metadata": {},
     "output_type": "execute_result"
    }
   ],
   "source": [
    "bud_station = temp_data[temp_data['STATION_ID'] == 'BUD']\n",
    "bud_station.head()"
   ]
  },
  {
   "cell_type": "code",
   "execution_count": 23,
   "metadata": {},
   "outputs": [
    {
     "data": {
      "text/html": [
       "<div>\n",
       "<style scoped>\n",
       "    .dataframe tbody tr th:only-of-type {\n",
       "        vertical-align: middle;\n",
       "    }\n",
       "\n",
       "    .dataframe tbody tr th {\n",
       "        vertical-align: top;\n",
       "    }\n",
       "\n",
       "    .dataframe thead th {\n",
       "        text-align: right;\n",
       "    }\n",
       "</style>\n",
       "<table border=\"1\" class=\"dataframe\">\n",
       "  <thead>\n",
       "    <tr style=\"text-align: right;\">\n",
       "      <th></th>\n",
       "      <th>STATION_ID</th>\n",
       "      <th>VALUE</th>\n",
       "    </tr>\n",
       "    <tr>\n",
       "      <th>OBS_DATE</th>\n",
       "      <th></th>\n",
       "      <th></th>\n",
       "    </tr>\n",
       "  </thead>\n",
       "  <tbody>\n",
       "    <tr>\n",
       "      <td>2015-01-01 23:00:00</td>\n",
       "      <td>BUD</td>\n",
       "      <td>33.000000</td>\n",
       "    </tr>\n",
       "    <tr>\n",
       "      <td>2015-01-02 00:00:00</td>\n",
       "      <td>BUD</td>\n",
       "      <td>32.555556</td>\n",
       "    </tr>\n",
       "    <tr>\n",
       "      <td>2015-01-02 01:00:00</td>\n",
       "      <td>BUD</td>\n",
       "      <td>32.111111</td>\n",
       "    </tr>\n",
       "    <tr>\n",
       "      <td>2015-01-02 02:00:00</td>\n",
       "      <td>BUD</td>\n",
       "      <td>31.800000</td>\n",
       "    </tr>\n",
       "    <tr>\n",
       "      <td>2015-01-02 03:00:00</td>\n",
       "      <td>BUD</td>\n",
       "      <td>31.533333</td>\n",
       "    </tr>\n",
       "  </tbody>\n",
       "</table>\n",
       "</div>"
      ],
      "text/plain": [
       "                    STATION_ID      VALUE\n",
       "OBS_DATE                                 \n",
       "2015-01-01 23:00:00        BUD  33.000000\n",
       "2015-01-02 00:00:00        BUD  32.555556\n",
       "2015-01-02 01:00:00        BUD  32.111111\n",
       "2015-01-02 02:00:00        BUD  31.800000\n",
       "2015-01-02 03:00:00        BUD  31.533333"
      ]
     },
     "execution_count": 23,
     "metadata": {},
     "output_type": "execute_result"
    }
   ],
   "source": [
    "bud_station = bud_station.drop_duplicates()\n",
    "bud_station = bud_station.resample('min')\n",
    "bud_station = bud_station.interpolate(method = 'linear')\n",
    "bud_station = bud_station.resample('H')\n",
    "bud_station = bud_station.interpolate(method = 'linear')\n",
    "bud_station['STATION_ID'] = 'BUD'\n",
    "bud_station.head()"
   ]
  },
  {
   "cell_type": "code",
   "execution_count": 24,
   "metadata": {},
   "outputs": [
    {
     "data": {
      "text/html": [
       "<div>\n",
       "<style scoped>\n",
       "    .dataframe tbody tr th:only-of-type {\n",
       "        vertical-align: middle;\n",
       "    }\n",
       "\n",
       "    .dataframe tbody tr th {\n",
       "        vertical-align: top;\n",
       "    }\n",
       "\n",
       "    .dataframe thead th {\n",
       "        text-align: right;\n",
       "    }\n",
       "</style>\n",
       "<table border=\"1\" class=\"dataframe\">\n",
       "  <thead>\n",
       "    <tr style=\"text-align: right;\">\n",
       "      <th></th>\n",
       "      <th></th>\n",
       "      <th>VALUE</th>\n",
       "    </tr>\n",
       "    <tr>\n",
       "      <th>OBS_DATE</th>\n",
       "      <th>STATION_ID</th>\n",
       "      <th></th>\n",
       "    </tr>\n",
       "  </thead>\n",
       "  <tbody>\n",
       "    <tr>\n",
       "      <td>2015-01-01 23:00:00</td>\n",
       "      <td>ACN</td>\n",
       "      <td>31.0</td>\n",
       "    </tr>\n",
       "    <tr>\n",
       "      <td>2015-01-02 00:00:00</td>\n",
       "      <td>ACN</td>\n",
       "      <td>30.0</td>\n",
       "    </tr>\n",
       "    <tr>\n",
       "      <td>2015-01-02 01:00:00</td>\n",
       "      <td>ACN</td>\n",
       "      <td>29.0</td>\n",
       "    </tr>\n",
       "    <tr>\n",
       "      <td>2015-01-02 02:00:00</td>\n",
       "      <td>ACN</td>\n",
       "      <td>31.0</td>\n",
       "    </tr>\n",
       "    <tr>\n",
       "      <td>2015-01-02 03:00:00</td>\n",
       "      <td>ACN</td>\n",
       "      <td>33.0</td>\n",
       "    </tr>\n",
       "  </tbody>\n",
       "</table>\n",
       "</div>"
      ],
      "text/plain": [
       "                                VALUE\n",
       "OBS_DATE            STATION_ID       \n",
       "2015-01-01 23:00:00 ACN          31.0\n",
       "2015-01-02 00:00:00 ACN          30.0\n",
       "2015-01-02 01:00:00 ACN          29.0\n",
       "2015-01-02 02:00:00 ACN          31.0\n",
       "2015-01-02 03:00:00 ACN          33.0"
      ]
     },
     "execution_count": 24,
     "metadata": {},
     "output_type": "execute_result"
    }
   ],
   "source": [
    "def regularize(group):\n",
    "    group = group.drop_duplicates()\n",
    "    group = group.resample('min')\n",
    "    group = group.interpolate(method = 'linear')\n",
    "    group = group.resample('H')\n",
    "    group = group.interpolate(method = 'linear')\n",
    "    return group\n",
    "    \n",
    "grouped_temp_data = temp_data.groupby('STATION_ID')\n",
    "st_regularized_temp_data = grouped_temp_data.apply(regularize)\n",
    "\n",
    "st_regularized_temp_data['STATION_ID'] = st_regularized_temp_data.index.get_level_values(0)\n",
    "st_regularized_temp_data = st_regularized_temp_data.reset_index(level = 0, drop = True)\n",
    "st_regularized_temp_data = st_regularized_temp_data.set_index(['STATION_ID'], append = True)\n",
    "st_regularized_temp_data.head()"
   ]
  },
  {
   "cell_type": "markdown",
   "metadata": {},
   "source": [
    "Parallelize it?!"
   ]
  },
  {
   "cell_type": "code",
   "execution_count": 25,
   "metadata": {},
   "outputs": [
    {
     "data": {
      "text/html": [
       "<div>\n",
       "<style scoped>\n",
       "    .dataframe tbody tr th:only-of-type {\n",
       "        vertical-align: middle;\n",
       "    }\n",
       "\n",
       "    .dataframe tbody tr th {\n",
       "        vertical-align: top;\n",
       "    }\n",
       "\n",
       "    .dataframe thead th {\n",
       "        text-align: right;\n",
       "    }\n",
       "</style>\n",
       "<table border=\"1\" class=\"dataframe\">\n",
       "  <thead>\n",
       "    <tr style=\"text-align: right;\">\n",
       "      <th></th>\n",
       "      <th></th>\n",
       "      <th>VALUE</th>\n",
       "    </tr>\n",
       "    <tr>\n",
       "      <th>OBS_DATE</th>\n",
       "      <th>STATION_ID</th>\n",
       "      <th></th>\n",
       "    </tr>\n",
       "  </thead>\n",
       "  <tbody>\n",
       "    <tr>\n",
       "      <td>2015-01-01 23:00:00</td>\n",
       "      <td>ACN</td>\n",
       "      <td>31.0</td>\n",
       "    </tr>\n",
       "    <tr>\n",
       "      <td>2015-01-02 00:00:00</td>\n",
       "      <td>ACN</td>\n",
       "      <td>30.0</td>\n",
       "    </tr>\n",
       "    <tr>\n",
       "      <td>2015-01-02 01:00:00</td>\n",
       "      <td>ACN</td>\n",
       "      <td>29.0</td>\n",
       "    </tr>\n",
       "    <tr>\n",
       "      <td>2015-01-02 02:00:00</td>\n",
       "      <td>ACN</td>\n",
       "      <td>31.0</td>\n",
       "    </tr>\n",
       "    <tr>\n",
       "      <td>2015-01-02 03:00:00</td>\n",
       "      <td>ACN</td>\n",
       "      <td>33.0</td>\n",
       "    </tr>\n",
       "  </tbody>\n",
       "</table>\n",
       "</div>"
      ],
      "text/plain": [
       "                                VALUE\n",
       "OBS_DATE            STATION_ID       \n",
       "2015-01-01 23:00:00 ACN          31.0\n",
       "2015-01-02 00:00:00 ACN          30.0\n",
       "2015-01-02 01:00:00 ACN          29.0\n",
       "2015-01-02 02:00:00 ACN          31.0\n",
       "2015-01-02 03:00:00 ACN          33.0"
      ]
     },
     "execution_count": 25,
     "metadata": {},
     "output_type": "execute_result"
    }
   ],
   "source": [
    "n_threads = 14\n",
    "\n",
    "def regularize(group):\n",
    "    group = group.drop_duplicates()\n",
    "    group = group.resample('min')\n",
    "    group = group.interpolate(method = 'linear')\n",
    "    group = group.resample('H')\n",
    "    group = group.interpolate(method = 'linear')\n",
    "    return group\n",
    "\n",
    "def group_data(temp_data):\n",
    "    grouped_data = temp_data.groupby('STATION_ID')\n",
    "    return grouped_data.apply(regularize)\n",
    "    \n",
    "def parallelize(temp_data, func, n_cores = n_threads):\n",
    "    '''Parallelizes regularization, takes temp data and\n",
    "    splits up regularization fuction over avalibile threads'''\n",
    "    temp_data_split = np.array_split(temp_data, n_cores)\n",
    "    pool = Pool(n_cores)\n",
    "    result = pd.concat(pool.map(func, temp_data_split))\n",
    "    pool.close()\n",
    "    pool.join()\n",
    "    return result\n",
    "    \n",
    "mt_regularized_temp_data = parallelize(temp_data, group_data)\n",
    "\n",
    "mt_regularized_temp_data['STATION_ID'] = mt_regularized_temp_data.index.get_level_values(0)\n",
    "mt_regularized_temp_data = mt_regularized_temp_data.reset_index(level = 0, drop = True)\n",
    "mt_regularized_temp_data = mt_regularized_temp_data.set_index(['STATION_ID'], append = True)\n",
    "mt_regularized_temp_data.head()"
   ]
  },
  {
   "cell_type": "markdown",
   "metadata": {},
   "source": [
    "This next big block uses resampling to bin the temp. data at a resolution of six hours. In early runs I had memory issues so I added this. Hoping I won't need it in the final product. Keeping the code here I case I want to use it again."
   ]
  },
  {
   "cell_type": "code",
   "execution_count": 26,
   "metadata": {},
   "outputs": [],
   "source": [
    "# n_threads = 14\n",
    "\n",
    "# def downsample_timeseries(group):\n",
    "#     group = group.sort_index()\n",
    "#     group.loc[:,'resampled_value'] = group.VALUE.rolling('6H').mean()\n",
    "#     group = group.drop(['VALUE'], axis = 1)\n",
    "#     return group.iloc[0::12, :]\n",
    "\n",
    "# def group_timeseries_data(stations):\n",
    "#     data = temp_data.loc[temp_data['STATION_ID'].isin(stations)]\n",
    "#     grouped_data = data.groupby('STATION_ID')\n",
    "#     return grouped_data.apply(downsample_timeseries)\n",
    "    \n",
    "# def parallelize(stations, func, n_cores = n_threads):\n",
    "#     '''Parallelizes downsampling, takes list of stations and\n",
    "#     splits up the downsampling fuction over avalibile threads'''\n",
    "#     stations_split = np.array_split(stations, n_cores)\n",
    "#     pool = Pool(n_cores)\n",
    "#     result = pd.concat(pool.map(func, stations_split))\n",
    "#     pool.close()\n",
    "#     pool.join()\n",
    "#     return result\n",
    "    \n",
    "# stations = temp_data['STATION_ID'].unique().tolist()\n",
    "# binned_temp_data = parallelize(stations, group_timeseries_data)\n",
    "# binned_temp_data = binned_temp_data.reset_index(level = 0, drop = True)\n",
    "# binned_temp_data = binned_temp_data.set_index(['STATION_ID'], append = True)\n",
    "# binned_temp_data.head()"
   ]
  },
  {
   "cell_type": "code",
   "execution_count": 27,
   "metadata": {},
   "outputs": [],
   "source": [
    "#binned_temp_data.to_csv('../data/training_data/weather_data/TEMP_1yr_binned_6hr.csv')"
   ]
  },
  {
   "cell_type": "code",
   "execution_count": 28,
   "metadata": {},
   "outputs": [],
   "source": [
    "time_series = pd.date_range(\"2015-01-01 23:00:00\", \"2015-01-02 23:00:00\", freq = \"H\")\n",
    "time_series = time_series.to_series()"
   ]
  },
  {
   "cell_type": "markdown",
   "metadata": {},
   "source": [
    "Now we make a dataframe of 'noxels' or n-dimentional voxels. Each row will be a bin at a specific time. Once we have this dataframe, we can go back though and assign weather variable values to each noxel."
   ]
  },
  {
   "cell_type": "code",
   "execution_count": 29,
   "metadata": {},
   "outputs": [
    {
     "name": "stdout",
     "output_type": "stream",
     "text": [
      "peak memory: 213.32 MiB, increment: -0.25 MiB\n"
     ]
    },
    {
     "data": {
      "text/html": [
       "<div>\n",
       "<style scoped>\n",
       "    .dataframe tbody tr th:only-of-type {\n",
       "        vertical-align: middle;\n",
       "    }\n",
       "\n",
       "    .dataframe tbody tr th {\n",
       "        vertical-align: top;\n",
       "    }\n",
       "\n",
       "    .dataframe thead th {\n",
       "        text-align: right;\n",
       "    }\n",
       "</style>\n",
       "<table border=\"1\" class=\"dataframe\">\n",
       "  <thead>\n",
       "    <tr style=\"text-align: right;\">\n",
       "      <th></th>\n",
       "      <th>long</th>\n",
       "      <th>lat</th>\n",
       "      <th>nearest_station_name</th>\n",
       "      <th>time</th>\n",
       "    </tr>\n",
       "  </thead>\n",
       "  <tbody>\n",
       "    <tr>\n",
       "      <td>0</td>\n",
       "      <td>-116.98</td>\n",
       "      <td>33.02</td>\n",
       "      <td>ELC</td>\n",
       "      <td>2015-01-01 23:00:00</td>\n",
       "    </tr>\n",
       "    <tr>\n",
       "      <td>1</td>\n",
       "      <td>-116.48</td>\n",
       "      <td>33.02</td>\n",
       "      <td>JUL</td>\n",
       "      <td>2015-01-01 23:00:00</td>\n",
       "    </tr>\n",
       "    <tr>\n",
       "      <td>2</td>\n",
       "      <td>-115.98</td>\n",
       "      <td>33.02</td>\n",
       "      <td>FIS</td>\n",
       "      <td>2015-01-01 23:00:00</td>\n",
       "    </tr>\n",
       "    <tr>\n",
       "      <td>3</td>\n",
       "      <td>-115.48</td>\n",
       "      <td>33.02</td>\n",
       "      <td>CAU</td>\n",
       "      <td>2015-01-01 23:00:00</td>\n",
       "    </tr>\n",
       "    <tr>\n",
       "      <td>4</td>\n",
       "      <td>-114.98</td>\n",
       "      <td>33.02</td>\n",
       "      <td>CAU</td>\n",
       "      <td>2015-01-01 23:00:00</td>\n",
       "    </tr>\n",
       "  </tbody>\n",
       "</table>\n",
       "</div>"
      ],
      "text/plain": [
       "     long    lat nearest_station_name                time\n",
       "0 -116.98  33.02                  ELC 2015-01-01 23:00:00\n",
       "1 -116.48  33.02                  JUL 2015-01-01 23:00:00\n",
       "2 -115.98  33.02                  FIS 2015-01-01 23:00:00\n",
       "3 -115.48  33.02                  CAU 2015-01-01 23:00:00\n",
       "4 -114.98  33.02                  CAU 2015-01-01 23:00:00"
      ]
     },
     "execution_count": 29,
     "metadata": {},
     "output_type": "execute_result"
    }
   ],
   "source": [
    "def apply_to_bins(time_series, bins):\n",
    "    return bins.assign(time = time_series)\n",
    "\n",
    "%memit noxels = pd.concat(time_series.apply(apply_to_bins, args = (bins,)).tolist())\n",
    "noxels.to_csv('../data/training_data/noxels.csv', index = False)\n",
    "noxels.head()"
   ]
  },
  {
   "cell_type": "code",
   "execution_count": 32,
   "metadata": {},
   "outputs": [
    {
     "name": "stdout",
     "output_type": "stream",
     "text": [
      "<class 'pandas.core.frame.DataFrame'>\n",
      "MultiIndex: 21100 entries, (2015-01-01 23:00:00, ACN) to (2015-01-02 23:00:00, WWS)\n",
      "Data columns (total 1 columns):\n",
      "VALUE    21090 non-null float64\n",
      "dtypes: float64(1)\n",
      "memory usage: 891.5+ KB\n"
     ]
    }
   ],
   "source": [
    "mt_regularized_temp_data.info()"
   ]
  },
  {
   "cell_type": "code",
   "execution_count": 34,
   "metadata": {},
   "outputs": [
    {
     "name": "stdout",
     "output_type": "stream",
     "text": [
      "<class 'pandas.core.frame.DataFrame'>\n",
      "MultiIndex: 11105 entries, (2015-01-01 23:00:00, ACN) to (2015-01-02 19:00:00, ZEN)\n",
      "Data columns (total 1 columns):\n",
      "VALUE    11103 non-null float64\n",
      "dtypes: float64(1)\n",
      "memory usage: 464.1+ KB\n"
     ]
    }
   ],
   "source": [
    "st_regularized_temp_data.info()"
   ]
  },
  {
   "cell_type": "code",
   "execution_count": 15,
   "metadata": {},
   "outputs": [
    {
     "data": {
      "text/html": [
       "<div>\n",
       "<style scoped>\n",
       "    .dataframe tbody tr th:only-of-type {\n",
       "        vertical-align: middle;\n",
       "    }\n",
       "\n",
       "    .dataframe tbody tr th {\n",
       "        vertical-align: top;\n",
       "    }\n",
       "\n",
       "    .dataframe thead th {\n",
       "        text-align: right;\n",
       "    }\n",
       "</style>\n",
       "<table border=\"1\" class=\"dataframe\">\n",
       "  <thead>\n",
       "    <tr style=\"text-align: right;\">\n",
       "      <th></th>\n",
       "      <th>long</th>\n",
       "      <th>lat</th>\n",
       "      <th>nearest_station_name</th>\n",
       "      <th>time</th>\n",
       "      <th>temp</th>\n",
       "    </tr>\n",
       "  </thead>\n",
       "  <tbody>\n",
       "    <tr>\n",
       "      <td>1</td>\n",
       "      <td>-116.48</td>\n",
       "      <td>33.02</td>\n",
       "      <td>JUL</td>\n",
       "      <td>2015-01-01 23:00:00</td>\n",
       "      <td>[23.0]</td>\n",
       "    </tr>\n",
       "    <tr>\n",
       "      <td>2</td>\n",
       "      <td>-115.98</td>\n",
       "      <td>33.02</td>\n",
       "      <td>FIS</td>\n",
       "      <td>2015-01-01 23:00:00</td>\n",
       "      <td>[45.0]</td>\n",
       "    </tr>\n",
       "    <tr>\n",
       "      <td>3</td>\n",
       "      <td>-115.48</td>\n",
       "      <td>33.02</td>\n",
       "      <td>CAU</td>\n",
       "      <td>2015-01-01 23:00:00</td>\n",
       "      <td>[39.0]</td>\n",
       "    </tr>\n",
       "    <tr>\n",
       "      <td>4</td>\n",
       "      <td>-114.98</td>\n",
       "      <td>33.02</td>\n",
       "      <td>CAU</td>\n",
       "      <td>2015-01-01 23:00:00</td>\n",
       "      <td>[39.0]</td>\n",
       "    </tr>\n",
       "    <tr>\n",
       "      <td>5</td>\n",
       "      <td>-117.48</td>\n",
       "      <td>33.52</td>\n",
       "      <td>BEC</td>\n",
       "      <td>2015-01-01 23:00:00</td>\n",
       "      <td>[42.0]</td>\n",
       "    </tr>\n",
       "  </tbody>\n",
       "</table>\n",
       "</div>"
      ],
      "text/plain": [
       "     long    lat nearest_station_name                time    temp\n",
       "1 -116.48  33.02                  JUL 2015-01-01 23:00:00  [23.0]\n",
       "2 -115.98  33.02                  FIS 2015-01-01 23:00:00  [45.0]\n",
       "3 -115.48  33.02                  CAU 2015-01-01 23:00:00  [39.0]\n",
       "4 -114.98  33.02                  CAU 2015-01-01 23:00:00  [39.0]\n",
       "5 -117.48  33.52                  BEC 2015-01-01 23:00:00  [42.0]"
      ]
     },
     "execution_count": 15,
     "metadata": {},
     "output_type": "execute_result"
    }
   ],
   "source": [
    "n_threads = 14\n",
    "\n",
    "def try_except(row):\n",
    "    try:\n",
    "        return regularized_temp_data.loc[row['time'], row['nearest_station_name']]\n",
    "    except:\n",
    "        return np.nan\n",
    "    \n",
    "def add_data(noxels):\n",
    "    noxels['temp'] = noxels.apply(lambda row: try_except(row), axis = 1)\n",
    "    return noxels\n",
    "\n",
    "def parallelize(noxels, func, n_cores = n_threads):\n",
    "    '''Parallelizes downsampling, takes list of stations and\n",
    "    splits up the downsampling fuction over avalibile threads'''\n",
    "    noxels_split = np.array_split(noxels, n_cores)\n",
    "    pool = Pool(n_cores)\n",
    "    result = pd.concat(pool.map(func, noxels_split))\n",
    "    pool.close()\n",
    "    pool.join()\n",
    "    return result\n",
    "\n",
    "noxels = parallelize(noxels, add_data)\n",
    "noxels = noxels.dropna()\n",
    "noxels['temp'] = noxels['temp']\n",
    "noxels.to_csv('../data/training_data/noxels_TEMP.csv', index = False)\n",
    "noxels.head()"
   ]
  },
  {
   "cell_type": "code",
   "execution_count": 16,
   "metadata": {},
   "outputs": [],
   "source": [
    "noxels.to_csv('../data/training_data/noxels.csv', index = False)"
   ]
  },
  {
   "cell_type": "markdown",
   "metadata": {},
   "source": [
    "OK, so, working to a first approximation. I am worried that we a loosing a bunch of data somewhere. Lets check some lengths and see. If we filled every bin with a temperature value, then we should have bins x time_series rows in our data file..."
   ]
  },
  {
   "cell_type": "code",
   "execution_count": 17,
   "metadata": {},
   "outputs": [
    {
     "data": {
      "text/plain": [
       "67.70186335403726"
      ]
     },
     "execution_count": 17,
     "metadata": {},
     "output_type": "execute_result"
    }
   ],
   "source": [
    "(len(noxels) / (len(bins) * len(time_series))) * 100"
   ]
  },
  {
   "cell_type": "code",
   "execution_count": null,
   "metadata": {},
   "outputs": [],
   "source": []
  },
  {
   "cell_type": "code",
   "execution_count": null,
   "metadata": {},
   "outputs": [],
   "source": []
  }
 ],
 "metadata": {
  "kernelspec": {
   "display_name": "Python 3",
   "language": "python",
   "name": "python3"
  },
  "language_info": {
   "codemirror_mode": {
    "name": "ipython",
    "version": 3
   },
   "file_extension": ".py",
   "mimetype": "text/x-python",
   "name": "python",
   "nbconvert_exporter": "python",
   "pygments_lexer": "ipython3",
   "version": "3.6.9"
  }
 },
 "nbformat": 4,
 "nbformat_minor": 2
}
