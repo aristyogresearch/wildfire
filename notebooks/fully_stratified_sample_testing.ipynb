{
 "cells": [
  {
   "cell_type": "code",
   "execution_count": 2,
   "metadata": {},
   "outputs": [],
   "source": [
    "from sklearn.metrics import make_scorer\n",
    "from sklearn.metrics import f1_score\n",
    "from sklearn.metrics import average_precision_score\n",
    "from sklearn.metrics import confusion_matrix\n",
    "from sklearn.metrics import plot_confusion_matrix"
   ]
  },
  {
   "cell_type": "code",
   "execution_count": 3,
   "metadata": {},
   "outputs": [],
   "source": [
    "# Variables\n",
    "\n",
    "parent_data_file = '../data/training_data/1992-1997_training_data_daily_mean.csv'\n",
    "stratified_sample_data_file = '../python/sample.0.csv'\n",
    "\n",
    "rand_seed = 42\n",
    "classifier_jobs = 4\n",
    "optimization_jobs = 4\n",
    "max_jobs = classifier_jobs * optimization_jobs\n",
    "\n",
    "sample_size = 10000\n",
    "train_test_split_ratio = 0.3\n",
    "cv_folds = 5\n",
    "n_doublings = 6\n",
    "scoring_func = make_scorer(average_precision_score)\n",
    "scoring_func_name = \"Average precision\"\n",
    "grid_search_iterations = 500\n",
    "\n",
    "plot_grid_resolution = 500\n",
    "contourf_levels = 500\n",
    "\n",
    "weather_variables = [\n",
    "    'air.sfc', 'air.2m', 'apcp', 'crain', 'rhum.2m', 'dpt.2m',\n",
    "    'pres.sfc', 'uwnd.10m', 'vwnd.10m', 'veg', 'dlwrf', 'dswrf', \n",
    "    'lcdc','hcdc', 'mcdc', 'hpbl', 'prate', 'vis', 'ulwrf.sfc'\n",
    "]\n",
    "\n",
    "n_jobs = max_jobs,\n",
    "scale_pos_weight = class_weight,\n",
    "learning_rate = best_learning_rate,\n",
    "n_estimators = best_n_estimators,\n",
    "random_state = rand_seed,\n",
    "max_depth = best_depth,\n",
    "gamma = best_gamma"
   ]
  },
  {
   "cell_type": "code",
   "execution_count": null,
   "metadata": {},
   "outputs": [],
   "source": [
    "# Train with tuned hyperparameters\n",
    "classifier = XGBClassifier(\n",
    "    n_jobs = max_jobs,\n",
    "    scale_pos_weight = class_weight,\n",
    "    learning_rate = best_learning_rate,\n",
    "    n_estimators = best_n_estimators,\n",
    "    random_state = rand_seed,\n",
    "    max_depth = best_depth,\n",
    "    gamma = best_gamma\n",
    ")\n",
    "\n",
    "# Stratified test train split the whole dataset\n",
    "X_train, X_test, y_train, y_test = make_train_test_sample(\n",
    "    dataset, \n",
    "    sample_size, \n",
    "    train_test_split_ratio, \n",
    "    rand_seed\n",
    ")\n",
    "\n",
    "# Scale weather varibles\n",
    "X_train, X_test = scale_weather_variables(weather_variables, X_train, X_test)\n",
    "\n",
    "# Train model\n",
    "classifier.fit(X_train, y_train)\n",
    "\n",
    "# Plot confusion matrix\n",
    "class_names = np.array(['No ignition', 'Ignition'])\n",
    "display_confusion_matrix(classifier, class_names, X_test, y_test)"
   ]
  }
 ],
 "metadata": {
  "kernelspec": {
   "display_name": "Python 3",
   "language": "python",
   "name": "python3"
  },
  "language_info": {
   "codemirror_mode": {
    "name": "ipython",
    "version": 3
   },
   "file_extension": ".py",
   "mimetype": "text/x-python",
   "name": "python",
   "nbconvert_exporter": "python",
   "pygments_lexer": "ipython3",
   "version": "3.6.9"
  }
 },
 "nbformat": 4,
 "nbformat_minor": 2
}
