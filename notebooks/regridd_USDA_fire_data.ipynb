{
 "cells": [
  {
   "cell_type": "code",
   "execution_count": 1,
   "metadata": {},
   "outputs": [],
   "source": [
    "import pandas as pd\n",
    "import numpy as np\n",
    "from scipy import spatial\n",
    "from multiprocessing import Pool"
   ]
  },
  {
   "cell_type": "code",
   "execution_count": 2,
   "metadata": {},
   "outputs": [],
   "source": [
    "# Input files\n",
    "weather_data_file = '../data/NOAA_weather_data/2015_california_only_all.csv'\n",
    "fire_data_file = '../data/USDA_wildfire_data/california_fires.csv'\n",
    "\n",
    "# Output files\n",
    "weather_data_bins = '../data/spatial_data/NOAA_weather_data_bins.csv'\n",
    "regridded_fire_data = '../data/USDA_wildfire_data/regridded_california_fires.csv'"
   ]
  },
  {
   "cell_type": "code",
   "execution_count": 3,
   "metadata": {},
   "outputs": [],
   "source": [
    "weather = pd.read_csv(weather_data_file)\n",
    "weather['ignition'] = 0\n",
    "\n",
    "bins = weather[['lat','lon']]\n",
    "unique_bins = bins.drop_duplicates()\n",
    "\n",
    "unique_bins.to_csv(weather_data_bins, index=False)"
   ]
  },
  {
   "cell_type": "code",
   "execution_count": 4,
   "metadata": {},
   "outputs": [],
   "source": [
    "fires = pd.read_csv(fire_data_file)"
   ]
  },
  {
   "cell_type": "code",
   "execution_count": 5,
   "metadata": {},
   "outputs": [],
   "source": [
    "bin_array = np.column_stack([unique_bins['lon'], unique_bins['lat']])\n",
    "fire_array = np.column_stack([fires['lon'], fires['lat']])\n",
    "\n",
    "bin_tree = spatial.cKDTree(bin_array)\n",
    "dist, indexes = bin_tree.query(fire_array)\n",
    "indexes = pd.Series(indexes)"
   ]
  },
  {
   "cell_type": "code",
   "execution_count": 6,
   "metadata": {},
   "outputs": [
    {
     "name": "stdout",
     "output_type": "stream",
     "text": [
      "CPU times: user 5.29 s, sys: 52.2 ms, total: 5.34 s\n",
      "Wall time: 5.34 s\n"
     ]
    },
    {
     "data": {
      "text/html": [
       "<div>\n",
       "<style scoped>\n",
       "    .dataframe tbody tr th:only-of-type {\n",
       "        vertical-align: middle;\n",
       "    }\n",
       "\n",
       "    .dataframe tbody tr th {\n",
       "        vertical-align: top;\n",
       "    }\n",
       "\n",
       "    .dataframe thead th {\n",
       "        text-align: right;\n",
       "    }\n",
       "</style>\n",
       "<table border=\"1\" class=\"dataframe\">\n",
       "  <thead>\n",
       "    <tr style=\"text-align: right;\">\n",
       "      <th></th>\n",
       "      <th>lat</th>\n",
       "      <th>lon</th>\n",
       "      <th>date</th>\n",
       "      <th>time</th>\n",
       "      <th>size</th>\n",
       "      <th>size_class</th>\n",
       "    </tr>\n",
       "  </thead>\n",
       "  <tbody>\n",
       "    <tr>\n",
       "      <td>0</td>\n",
       "      <td>39.93427</td>\n",
       "      <td>-121.1598</td>\n",
       "      <td>2005-02-02</td>\n",
       "      <td>1300.0</td>\n",
       "      <td>0.10</td>\n",
       "      <td>A</td>\n",
       "    </tr>\n",
       "    <tr>\n",
       "      <td>1</td>\n",
       "      <td>38.85770</td>\n",
       "      <td>-120.5208</td>\n",
       "      <td>2004-05-12</td>\n",
       "      <td>845.0</td>\n",
       "      <td>0.25</td>\n",
       "      <td>A</td>\n",
       "    </tr>\n",
       "    <tr>\n",
       "      <td>2</td>\n",
       "      <td>39.13992</td>\n",
       "      <td>-120.5874</td>\n",
       "      <td>2004-05-31</td>\n",
       "      <td>1921.0</td>\n",
       "      <td>0.10</td>\n",
       "      <td>A</td>\n",
       "    </tr>\n",
       "    <tr>\n",
       "      <td>3</td>\n",
       "      <td>38.62627</td>\n",
       "      <td>-120.0940</td>\n",
       "      <td>2004-06-28</td>\n",
       "      <td>1600.0</td>\n",
       "      <td>0.10</td>\n",
       "      <td>A</td>\n",
       "    </tr>\n",
       "    <tr>\n",
       "      <td>4</td>\n",
       "      <td>38.62627</td>\n",
       "      <td>-120.0940</td>\n",
       "      <td>2004-06-28</td>\n",
       "      <td>1600.0</td>\n",
       "      <td>0.10</td>\n",
       "      <td>A</td>\n",
       "    </tr>\n",
       "  </tbody>\n",
       "</table>\n",
       "</div>"
      ],
      "text/plain": [
       "        lat       lon        date    time  size size_class\n",
       "0  39.93427 -121.1598  2005-02-02  1300.0  0.10          A\n",
       "1  38.85770 -120.5208  2004-05-12   845.0  0.25          A\n",
       "2  39.13992 -120.5874  2004-05-31  1921.0  0.10          A\n",
       "3  38.62627 -120.0940  2004-06-28  1600.0  0.10          A\n",
       "4  38.62627 -120.0940  2004-06-28  1600.0  0.10          A"
      ]
     },
     "execution_count": 6,
     "metadata": {},
     "output_type": "execute_result"
    }
   ],
   "source": [
    "# Note: in testing, loop is faster than apply with lambda function by 3 tenths of a second\n",
    "\n",
    "fire_bins = []\n",
    "\n",
    "def index_loop():\n",
    "    for index in indexes:\n",
    "        fire_bins.append([unique_bins.iloc[index, 0], unique_bins.iloc[index, 1]])\n",
    "        \n",
    "%time index_loop()\n",
    "\n",
    "fires[['lat', 'lon']] = fire_bins\n",
    "fires.head()"
   ]
  },
  {
   "cell_type": "code",
   "execution_count": 7,
   "metadata": {},
   "outputs": [],
   "source": [
    "fires.to_csv(regridded_fire_data, index=False)"
   ]
  },
  {
   "cell_type": "code",
   "execution_count": 8,
   "metadata": {},
   "outputs": [],
   "source": [
    "# def add_ignition():\n",
    "#     for index, row in fires.iterrows():\n",
    "#         date = row['date']\n",
    "#         lat = row['lat']\n",
    "#         lon = row['lon']\n",
    "#         weather.loc[(weather['time'] == date) & (weather['lat'] == lat) & (weather['lon'] == lon), 'ignition'] = 1\n",
    "\n",
    "# %time add_ignition()"
   ]
  },
  {
   "cell_type": "code",
   "execution_count": 9,
   "metadata": {},
   "outputs": [],
   "source": [
    "# %time fires.apply(lambda row: weather.loc[(weather[row['date']] == date) & (weather[row['lat']] == lat) & (weather[row['lon']] == lon), 'ignition'] = 1)"
   ]
  }
 ],
 "metadata": {
  "kernelspec": {
   "display_name": "Python 3",
   "language": "python",
   "name": "python3"
  },
  "language_info": {
   "codemirror_mode": {
    "name": "ipython",
    "version": 3
   },
   "file_extension": ".py",
   "mimetype": "text/x-python",
   "name": "python",
   "nbconvert_exporter": "python",
   "pygments_lexer": "ipython3",
   "version": "3.6.9"
  }
 },
 "nbformat": 4,
 "nbformat_minor": 2
}
