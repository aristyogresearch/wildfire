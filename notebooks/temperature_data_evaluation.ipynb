{
 "cells": [
  {
   "cell_type": "code",
   "execution_count": 2,
   "metadata": {},
   "outputs": [],
   "source": [
    "NARR_temp_data <- read.csv(file=\"../data/NOAA_NARR_weather_data/california_air_sfc_2015.csv\", header=TRUE, sep=\",\")"
   ]
  },
  {
   "cell_type": "code",
   "execution_count": 3,
   "metadata": {},
   "outputs": [
    {
     "data": {
      "text/html": [
       "<table>\n",
       "<caption>A data.frame: 10 × 4</caption>\n",
       "<thead>\n",
       "\t<tr><th scope=col>time</th><th scope=col>air</th><th scope=col>lat</th><th scope=col>lon</th></tr>\n",
       "\t<tr><th scope=col>&lt;fct&gt;</th><th scope=col>&lt;dbl&gt;</th><th scope=col>&lt;dbl&gt;</th><th scope=col>&lt;dbl&gt;</th></tr>\n",
       "</thead>\n",
       "<tbody>\n",
       "\t<tr><td>2015-01-01 00:00:00</td><td>287.1021</td><td>40.29749</td><td>-124.3408</td></tr>\n",
       "\t<tr><td>2015-01-01 00:00:00</td><td>280.9146</td><td>38.96153</td><td>-123.5579</td></tr>\n",
       "\t<tr><td>2015-01-01 00:00:00</td><td>282.1021</td><td>39.24150</td><td>-123.6393</td></tr>\n",
       "\t<tr><td>2015-01-01 00:00:00</td><td>282.1021</td><td>39.52163</td><td>-123.7215</td></tr>\n",
       "\t<tr><td>2015-01-01 00:00:00</td><td>279.3521</td><td>39.80193</td><td>-123.8045</td></tr>\n",
       "\t<tr><td>2015-01-01 00:00:00</td><td>287.1646</td><td>40.08238</td><td>-123.8883</td></tr>\n",
       "\t<tr><td>2015-01-01 00:00:00</td><td>280.3521</td><td>40.36298</td><td>-123.9729</td></tr>\n",
       "\t<tr><td>2015-01-01 00:00:00</td><td>279.0396</td><td>40.64372</td><td>-124.0584</td></tr>\n",
       "\t<tr><td>2015-01-01 00:00:00</td><td>282.0396</td><td>38.18395</td><td>-122.9628</td></tr>\n",
       "\t<tr><td>2015-01-01 00:00:00</td><td>287.8521</td><td>38.46373</td><td>-123.0403</td></tr>\n",
       "</tbody>\n",
       "</table>\n"
      ],
      "text/latex": [
       "A data.frame: 10 × 4\n",
       "\\begin{tabular}{r|llll}\n",
       " time & air & lat & lon\\\\\n",
       " <fct> & <dbl> & <dbl> & <dbl>\\\\\n",
       "\\hline\n",
       "\t 2015-01-01 00:00:00 & 287.1021 & 40.29749 & -124.3408\\\\\n",
       "\t 2015-01-01 00:00:00 & 280.9146 & 38.96153 & -123.5579\\\\\n",
       "\t 2015-01-01 00:00:00 & 282.1021 & 39.24150 & -123.6393\\\\\n",
       "\t 2015-01-01 00:00:00 & 282.1021 & 39.52163 & -123.7215\\\\\n",
       "\t 2015-01-01 00:00:00 & 279.3521 & 39.80193 & -123.8045\\\\\n",
       "\t 2015-01-01 00:00:00 & 287.1646 & 40.08238 & -123.8883\\\\\n",
       "\t 2015-01-01 00:00:00 & 280.3521 & 40.36298 & -123.9729\\\\\n",
       "\t 2015-01-01 00:00:00 & 279.0396 & 40.64372 & -124.0584\\\\\n",
       "\t 2015-01-01 00:00:00 & 282.0396 & 38.18395 & -122.9628\\\\\n",
       "\t 2015-01-01 00:00:00 & 287.8521 & 38.46373 & -123.0403\\\\\n",
       "\\end{tabular}\n"
      ],
      "text/markdown": [
       "\n",
       "A data.frame: 10 × 4\n",
       "\n",
       "| time &lt;fct&gt; | air &lt;dbl&gt; | lat &lt;dbl&gt; | lon &lt;dbl&gt; |\n",
       "|---|---|---|---|\n",
       "| 2015-01-01 00:00:00 | 287.1021 | 40.29749 | -124.3408 |\n",
       "| 2015-01-01 00:00:00 | 280.9146 | 38.96153 | -123.5579 |\n",
       "| 2015-01-01 00:00:00 | 282.1021 | 39.24150 | -123.6393 |\n",
       "| 2015-01-01 00:00:00 | 282.1021 | 39.52163 | -123.7215 |\n",
       "| 2015-01-01 00:00:00 | 279.3521 | 39.80193 | -123.8045 |\n",
       "| 2015-01-01 00:00:00 | 287.1646 | 40.08238 | -123.8883 |\n",
       "| 2015-01-01 00:00:00 | 280.3521 | 40.36298 | -123.9729 |\n",
       "| 2015-01-01 00:00:00 | 279.0396 | 40.64372 | -124.0584 |\n",
       "| 2015-01-01 00:00:00 | 282.0396 | 38.18395 | -122.9628 |\n",
       "| 2015-01-01 00:00:00 | 287.8521 | 38.46373 | -123.0403 |\n",
       "\n"
      ],
      "text/plain": [
       "   time                air      lat      lon      \n",
       "1  2015-01-01 00:00:00 287.1021 40.29749 -124.3408\n",
       "2  2015-01-01 00:00:00 280.9146 38.96153 -123.5579\n",
       "3  2015-01-01 00:00:00 282.1021 39.24150 -123.6393\n",
       "4  2015-01-01 00:00:00 282.1021 39.52163 -123.7215\n",
       "5  2015-01-01 00:00:00 279.3521 39.80193 -123.8045\n",
       "6  2015-01-01 00:00:00 287.1646 40.08238 -123.8883\n",
       "7  2015-01-01 00:00:00 280.3521 40.36298 -123.9729\n",
       "8  2015-01-01 00:00:00 279.0396 40.64372 -124.0584\n",
       "9  2015-01-01 00:00:00 282.0396 38.18395 -122.9628\n",
       "10 2015-01-01 00:00:00 287.8521 38.46373 -123.0403"
      ]
     },
     "metadata": {},
     "output_type": "display_data"
    }
   ],
   "source": [
    "head(NARR_temp_data, n=10)"
   ]
  },
  {
   "cell_type": "code",
   "execution_count": 4,
   "metadata": {},
   "outputs": [
    {
     "ename": "ERROR",
     "evalue": "Error in library(ggplot2): there is no package called ‘ggplot2’\n",
     "output_type": "error",
     "traceback": [
      "Error in library(ggplot2): there is no package called ‘ggplot2’\nTraceback:\n",
      "1. library(ggplot2)",
      "2. stop(txt, domain = NA)"
     ]
    }
   ],
   "source": [
    "library(ggplot2)"
   ]
  },
  {
   "cell_type": "code",
   "execution_count": null,
   "metadata": {},
   "outputs": [],
   "source": [
    "\n",
    "ggplot(df, aes(x = lon, y = lat, fill = tasmax)) + \n",
    "  geom_tile() + facet_wrap(~ day) + scale_fill_viridis(na.value = \"transparent\") + \n",
    "  theme_bw() + theme(legend.position = \"bottom\")"
   ]
  }
 ],
 "metadata": {
  "kernelspec": {
   "display_name": "R",
   "language": "R",
   "name": "ir"
  },
  "language_info": {
   "codemirror_mode": "r",
   "file_extension": ".r",
   "mimetype": "text/x-r-source",
   "name": "R",
   "pygments_lexer": "r",
   "version": "3.4.4"
  }
 },
 "nbformat": 4,
 "nbformat_minor": 2
}
