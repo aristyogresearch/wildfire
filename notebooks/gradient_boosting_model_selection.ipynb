{
 "cells": [
  {
   "cell_type": "markdown",
   "metadata": {},
   "source": [
    "## Goal\n",
    "As a first pass at developing a machine learning model to predict California wildfires I will evaluate and tune several different gradient boosting algorithms. The procedure will be as follows:\n",
    "\n",
    "1. Determine the best gradient boosting for the data\n",
    "2. Determine the best scoring function/metric for optimization\n",
    "3. Tune model hyperparameters\n",
    "4. Investigate feature importance and possibly trim/apply dimensionality reduction techniques to the data\n",
    "\n",
    "There are two anticipated issues which will need to be dealt with first:\n",
    "\n",
    "1. Large dataset size - current working dataset has 7.3 million observations of 25 variables and this is likely to grow as the project progresses\n",
    "2. Highly imbalanced data (~20 times more observations without fire than with)\n",
    "\n",
    "Future goals are to add several more factors from various data sources including: elevation, population density, time since last fire and total fires."
   ]
  },
  {
   "cell_type": "markdown",
   "metadata": {},
   "source": [
    "**Imports and notebook setup**"
   ]
  },
  {
   "cell_type": "code",
   "execution_count": 1,
   "metadata": {},
   "outputs": [
    {
     "data": {
      "text/plain": [
       "<Figure size 432x288 with 0 Axes>"
      ]
     },
     "metadata": {},
     "output_type": "display_data"
    }
   ],
   "source": [
    "import pandas as pd\n",
    "import numpy as np\n",
    "import matplotlib.pyplot as plt\n",
    "import seaborn as sns\n",
    "import random\n",
    "import math\n",
    "\n",
    "from random import randint\n",
    "from time import time\n",
    "from statistics import mean\n",
    "from scipy import stats\n",
    "from sklearn.metrics import make_scorer\n",
    "from sklearn.metrics import average_precision_score\n",
    "from sklearn.metrics import confusion_matrix\n",
    "from sklearn.metrics import plot_confusion_matrix\n",
    "from sklearn.model_selection import train_test_split\n",
    "from sklearn.model_selection import StratifiedShuffleSplit\n",
    "from sklearn.model_selection import RandomizedSearchCV\n",
    "from sklearn.utils.fixes import loguniform\n",
    "from IPython.display import display_markdown\n",
    "from scipy.interpolate import griddata\n",
    "\n",
    "from xgboost import XGBClassifier\n",
    "from catboost import CatBoostClassifier\n",
    "from lightgbm import LGBMClassifier\n",
    "from sklearn.ensemble import RandomForestClassifier\n",
    "\n",
    "%matplotlib inline\n",
    "sns.set_style(\"ticks\")\n",
    "sns.set_context(\"notebook\", font_scale=1.5, rc={\"lines.linewidth\": 2.5})\n",
    "sns.despine()"
   ]
  },
  {
   "cell_type": "markdown",
   "metadata": {},
   "source": [
    "**Variable definitions**"
   ]
  },
  {
   "cell_type": "code",
   "execution_count": 2,
   "metadata": {},
   "outputs": [],
   "source": [
    "data_file = '../data/training_data/1992-1997_training_data.csv'\n",
    "rand_seed = 123\n",
    "\n",
    "# sample ~1% of total data. Also, there are ~370000 gnition observations total,\n",
    "# my feeling is we want to keep our sample size below that using 1% of the total\n",
    "# data means we will end up using about 10% of ignitions in each sample\n",
    "data_sample_size = 1000\n",
    "\n",
    "test_train_split_ratio = 0.3 \n",
    "classifier_jobs = 14\n",
    "optimization_jobs = 1\n",
    "max_jobs = classifier_jobs * optimization_jobs\n",
    "num_trials = 5\n",
    "search_iterations = 100\n",
    "search_scoring_func = make_scorer(average_precision_score)\n",
    "plot_grid_resolution = 100\n",
    "contourf_levels = 100"
   ]
  },
  {
   "cell_type": "markdown",
   "metadata": {},
   "source": [
    "**Functions**"
   ]
  },
  {
   "cell_type": "code",
   "execution_count": 3,
   "metadata": {},
   "outputs": [],
   "source": [
    "def k_random_sample(data, k):\n",
    "    n = len(data)\n",
    "    \n",
    "    indices = random.sample(range(0, n), k)\n",
    "    \n",
    "    return data.iloc[indices]\n",
    "\n",
    "def stratified_train_test_split(data, targets, rand_seed):\n",
    "    sss = StratifiedShuffleSplit(\n",
    "        n_splits=1,\n",
    "        test_size=test_train_split_ratio, \n",
    "        random_state=rand_seed\n",
    "    )\n",
    "\n",
    "    for train_index, test_index in sss.split(data, targets):\n",
    "        x_train, x_test = data.iloc[train_index], data.iloc[test_index]\n",
    "        y_train, y_test = targets.iloc[train_index], targets.iloc[test_index]\n",
    "        \n",
    "        return np.array(x_train), np.array(y_train), np.array(x_test), np.array(y_test)\n",
    "\n",
    "def sample_data(data, data_sample_size):\n",
    "\n",
    "    # split positive and negative datsets up\n",
    "    ignitions = data[data['ignition'] > 0]\n",
    "    no_ignitions = data[data['ignition'] == 0]\n",
    "    \n",
    "    # due to the moving average we will have some positive observations with\n",
    "    # fractional ignition values\n",
    "    ignitions = ignitions.assign(ignition=1)\n",
    "    \n",
    "    # sample data\n",
    "    no_ignitions_sample = k_random_sample(no_ignitions, data_sample_size)\n",
    "    ignitions_sample = k_random_sample(ignitions, data_sample_size)\n",
    "\n",
    "    # combine\n",
    "    sampled_data = no_ignitions_sample.append(ignitions_sample)\n",
    "    \n",
    "    return sampled_data\n",
    "    \n",
    "def calc_false_neg_pos_rate(model, x_test, y_test):\n",
    "    cm = confusion_matrix(y_test, model.predict(x_test))\n",
    "\n",
    "    TN = cm[0][0]\n",
    "    FN = cm[1][0]\n",
    "    FP = cm[0][1]\n",
    "\n",
    "    false_neg_rate = FN / (FN + TN)\n",
    "    false_pos_rate = FP / (FP + TN)\n",
    "    \n",
    "    return false_neg_rate, false_pos_rate\n",
    "\n",
    "def compare_algorithms(\n",
    "    classifiers, \n",
    "    model_descriptions,\n",
    "    num_trials,\n",
    "    data_moving_avg,\n",
    "    data_sample_size\n",
    "):\n",
    "    \n",
    "    # Set up empty dataframe to hold resutlts\n",
    "    model_scores_columns = ['Classifier', 'n', 'Training score +/- STD','Test score +/- STD','False positive rate +/- STD','False negative rate +/- STD']\n",
    "    model_scores = pd.DataFrame(columns=model_scores_columns)    \n",
    "    \n",
    "    # Loop over the diffrent classifiers\n",
    "    for classifier, description in zip(classifiers, model_descriptions):\n",
    "        train_scores = []\n",
    "        test_scores = []\n",
    "        false_pos_rates = []\n",
    "        false_neg_rates = []\n",
    "        \n",
    "        for i in range(num_trials):\n",
    "            # Resample and train-test split data\n",
    "            sampled_data = sample_data(data_moving_avg, data_sample_size)\n",
    "            targets = sampled_data['ignition']\n",
    "            data = sampled_data.drop(['ignition'], axis=1)\n",
    "            x_train, x_test, y_train, y_test = train_test_split(data.values, targets.values)\n",
    "        \n",
    "            # Initalize and train model on sampled data\n",
    "            model = classifier\n",
    "            model.fit(x_train, y_train)\n",
    "\n",
    "            train_scores.append(average_precision_score(model.predict(x_train), y_train))\n",
    "            test_scores.append(average_precision_score(model.predict(x_test), y_test))\n",
    "            false_neg_rate, false_pos_rate = calc_false_neg_pos_rate(model, x_test, y_test)\n",
    "            false_neg_rates.append(false_neg_rate)\n",
    "            false_pos_rates.append(false_pos_rate)\n",
    "            \n",
    "        avg_train_score = mean(train_scores)\n",
    "        avg_test_score = mean(test_scores)\n",
    "        avg_false_neg_rate = mean(false_neg_rates)\n",
    "        avg_false_pos_rate = mean(false_pos_rates)\n",
    "        \n",
    "        std_train_score = np.std(train_scores)\n",
    "        std_test_score = np.std(test_scores)\n",
    "        std_false_neg_rate = np.std(false_neg_rates)\n",
    "        std_false_pos_rate = np.std(false_pos_rates)\n",
    "        \n",
    "        model_scores = model_scores.append(pd.Series([\n",
    "            description,\n",
    "            num_trials,\n",
    "            '{} +/- {}'.format(np.round(avg_train_score,2), np.round(std_train_score,3)),\n",
    "            '{} +/- {}'.format(np.round(avg_test_score,2), np.round(std_test_score,3)),\n",
    "            '{} +/- {}'.format(np.round(avg_false_pos_rate,2), np.round(std_false_pos_rate,3)),\n",
    "            '{} +/- {}'.format(np.round(avg_false_neg_rate,2), np.round(std_false_neg_rate,3)),\n",
    "        ], index=model_scores.columns), ignore_index=True)\n",
    "        \n",
    "        i += 1\n",
    "        \n",
    "    return model_scores\n",
    "    \n",
    "def test_scoring_functions(\n",
    "    num_trials,\n",
    "    scoring_functions, \n",
    "    data_moving_avg,\n",
    "    data_sample_size,\n",
    "    max_jobs\n",
    "):\n",
    "    \n",
    "    # Set up empty dataframe to hold resutlts\n",
    "    model_scores_columns = ['Scoring function', 'n', 'Training score +/- STD','Test score +/- STD','False positive rate +/- STD','False negative rate +/- STD']\n",
    "    model_scores = pd.DataFrame(columns=model_scores_columns)\n",
    "\n",
    "    for scoring_function in scoring_functions:\n",
    "        train_scores = []\n",
    "        test_scores = []\n",
    "        false_pos_rates = []\n",
    "        false_neg_rates = []\n",
    "        \n",
    "        for i in range(num_trials):\n",
    "            # Resample and train-test split data\n",
    "            sampled_data = sample_data(data_moving_avg, data_sample_size)\n",
    "            targets = sampled_data['ignition']\n",
    "            data = sampled_data.drop(['ignition'], axis=1)\n",
    "            x_train, x_test, y_train, y_test = train_test_split(data.values, targets.values)\n",
    "            \n",
    "            catboost_mod = CatBoostClassifier(\n",
    "                thread_count = max_jobs,\n",
    "                score_function = scoring_function\n",
    "            )\n",
    "\n",
    "            catboost_mod.fit(x_train, y_train, silent=True)\n",
    "\n",
    "            train_scores.append(average_precision_score(catboost_mod.predict(x_train), y_train))\n",
    "            test_scores.append(average_precision_score(catboost_mod.predict(x_test), y_test))\n",
    "            false_neg_rate, false_pos_rate = calc_false_neg_pos_rate(catboost_mod, x_test, y_test)\n",
    "            false_neg_rates.append(false_neg_rate)\n",
    "            false_pos_rates.append(false_pos_rate)\n",
    "            \n",
    "        avg_train_score = mean(train_scores)\n",
    "        avg_test_score = mean(test_scores)\n",
    "        avg_false_neg_rate = mean(false_neg_rates)\n",
    "        avg_false_pos_rate = mean(false_pos_rates)\n",
    "        \n",
    "        std_train_score = np.std(train_scores)\n",
    "        std_test_score = np.std(test_scores)\n",
    "        std_false_neg_rate = np.std(false_neg_rates)\n",
    "        std_false_pos_rate = np.std(false_pos_rates)\n",
    "        \n",
    "        model_scores = model_scores.append(pd.Series([\n",
    "            scoring_function,\n",
    "            num_trials,\n",
    "            '{} +/- {}'.format(np.round(avg_train_score,2), np.round(std_train_score,3)),\n",
    "            '{} +/- {}'.format(np.round(avg_test_score,2), np.round(std_test_score,3)),\n",
    "            '{} +/- {}'.format(np.round(avg_false_pos_rate,2), np.round(std_false_pos_rate,3)),\n",
    "            '{} +/- {}'.format(np.round(avg_false_neg_rate,2), np.round(std_false_neg_rate,3)),\n",
    "        ], index=model_scores.columns), ignore_index=True)\n",
    "        \n",
    "        i += 1\n",
    "\n",
    "    return model_scores\n",
    "\n",
    "def plot_relative_feature_importance(model, data, x_test, x_tick_size):\n",
    "    importances = catboost_model.feature_importances_\n",
    "    indices = np.argsort(importances)[::-1]\n",
    "    feature_names = np.array(list(data))\n",
    "\n",
    "    plt.figure(figsize=(20,10))\n",
    "    plt.rc('axes', titlesize=30)     # fontsize of the axes title\n",
    "    plt.rc('axes', labelsize=30)    # fontsize of the x and y labels\n",
    "    plt.rc('xtick', labelsize=x_tick_size)    # fontsize of the tick labels\n",
    "    plt.rc('ytick', labelsize=25)    # fontsize of the tick labels\n",
    "    plt.title(\"Feature importance\")\n",
    "    plt.bar(range(x_test.shape[1]), importances[indices],\n",
    "           color=\"darkblue\", align=\"center\")\n",
    "    plt.xticks(np.arange(len(indices)), feature_names[indices], rotation='vertical')\n",
    "    plt.xlim([-1, x_test.shape[1]])\n",
    "    plt.xlabel(\"Feature\")\n",
    "    plt.ylabel(\"Relative importance\")\n",
    "    \n",
    "    plt.show()\n",
    "    \n",
    "def tune_class_weight(\n",
    "    class_weights, \n",
    "    x_train, \n",
    "    y_train, \n",
    "    x_test, \n",
    "    y_test\n",
    "):\n",
    "    model_scores_columns = ['Class weight', 'Training score','Test score','False positive rate','False negative rate']\n",
    "    model_scores = pd.DataFrame(columns=model_scores_columns)\n",
    "\n",
    "    for class_weight in class_weights:\n",
    "        catboost_mod = CatBoostClassifier(\n",
    "            thread_count = (classifier_jobs * optimization_jobs),\n",
    "            score_function = 'Cosine',\n",
    "            scale_pos_weight = class_weight\n",
    "        )\n",
    "\n",
    "        catboost_mod.fit(x_train, y_train, silent=True)\n",
    "\n",
    "        training_score = average_precision_score(catboost_mod.predict(x_train), y_train)\n",
    "        test_score = average_precision_score(catboost_mod.predict(x_test), y_test)\n",
    "        false_neg_rate, false_pos_rate = calc_false_neg_pos_rate(catboost_mod, x_test, y_test)\n",
    "        model_scores = model_scores.append(pd.Series([class_weight, np.round(training_score,2), np.round(test_score,2), np.round(false_pos_rate,2), np.round(false_neg_rate,2)], index=model_scores.columns), ignore_index=True)\n",
    "\n",
    "    return model_scores\n",
    "\n",
    "def plot_class_weight_tuning_results(model_scores):\n",
    "    sns.set_context(\"notebook\", font_scale=1.5, rc={\"lines.linewidth\": 2.5})\n",
    "\n",
    "    plt.subplots(1,2,figsize=(12,5))\n",
    "\n",
    "    plt.subplot(1, 2, 1)\n",
    "    plt.scatter(np.log10(model_scores['Class weight']), model_scores['False positive rate'], s=20, c='darkblue', label='False positive')\n",
    "    plt.scatter(np.log10(model_scores['Class weight']), model_scores['False negative rate'], s=20, c='darkred', label='False negative')\n",
    "    plt.legend(loc='upper left')\n",
    "    plt.xlabel(\"Log 10 class weight\")\n",
    "    plt.ylabel(\"Rate\")\n",
    "    plt.title(\"Class weight and false prediction rates\")\n",
    "\n",
    "    plt.subplot(1, 2, 2)\n",
    "    plt.scatter(np.log10(model_scores['Class weight']), model_scores['Training score'], s=20, c='darkblue', label='Training')\n",
    "    plt.scatter(np.log10(model_scores['Class weight']), model_scores['Test score'], s=20, c='darkred', label='Test')\n",
    "    plt.legend(loc='lower right');\n",
    "    plt.xlabel(\"Log 10 class weight\")\n",
    "    plt.ylabel(\"Score\")\n",
    "    plt.title(\"Class weight and precision-recall score\")\n",
    "\n",
    "    plt.tight_layout()\n",
    "    plt.show()\n",
    "    \n",
    "\n",
    "def train_catboost_with_sampling(\n",
    "    num_trials,\n",
    "    known_params,\n",
    "    data_moving_avg,\n",
    "    data_sample_size,\n",
    "    max_jobs\n",
    "):\n",
    "    \n",
    "    # Set up empty dataframe to hold resutlts\n",
    "    model_scores_columns = ['Scoring function', 'n', 'Training score +/- STD','Test score +/- STD','False positive rate +/- STD','False negative rate +/- STD']\n",
    "    model_scores = pd.DataFrame(columns=model_scores_columns)\n",
    "\n",
    "    train_scores = []\n",
    "    test_scores = []\n",
    "    false_pos_rates = []\n",
    "    false_neg_rates = []\n",
    "        \n",
    "    for i in range(num_trials):\n",
    "        # Resample and train-test split data\n",
    "        sampled_data = sample_data(data_moving_avg, data_sample_size)\n",
    "        targets = sampled_data['ignition']\n",
    "        data = sampled_data.drop(['ignition'], axis=1)\n",
    "        x_train, x_test, y_train, y_test = train_test_split(data.values, targets.values)\n",
    "\n",
    "        catboost_mod = CatBoostClassifier(**known_params)\n",
    "        catboost_mod.fit(x_train, y_train, silent=True)\n",
    "\n",
    "        train_scores.append(average_precision_score(catboost_mod.predict(x_train), y_train))\n",
    "        test_scores.append(average_precision_score(catboost_mod.predict(x_test), y_test))\n",
    "        false_neg_rate, false_pos_rate = calc_false_neg_pos_rate(catboost_mod, x_test, y_test)\n",
    "        false_neg_rates.append(false_neg_rate)\n",
    "        false_pos_rates.append(false_pos_rate)\n",
    "        \n",
    "        i += 1\n",
    "            \n",
    "    avg_train_score = mean(train_scores)\n",
    "    avg_test_score = mean(test_scores)\n",
    "    avg_false_neg_rate = mean(false_neg_rates)\n",
    "    avg_false_pos_rate = mean(false_pos_rates)\n",
    "\n",
    "    sem_train_score = stats.sem(train_scores)\n",
    "    sem_test_score = stats.sem(test_scores)\n",
    "    sem_false_neg_rate = stats.sem(false_neg_rates)\n",
    "    sem_false_pos_rate = stats.sem(false_pos_rates)\n",
    "\n",
    "    model_scores = model_scores.append(pd.Series([\n",
    "        'Catboost with scoring function & class weight',\n",
    "        num_trials,\n",
    "        '{} +/- {}'.format(np.round(avg_train_score,2), np.round(sem_train_score,3)),\n",
    "        '{} +/- {}'.format(np.round(avg_test_score,2), np.round(sem_test_score,3)),\n",
    "        '{} +/- {}'.format(np.round(avg_false_pos_rate,2), np.round(sem_false_pos_rate,3)),\n",
    "        '{} +/- {}'.format(np.round(avg_false_neg_rate,2), np.round(sem_false_neg_rate,3)),\n",
    "    ], index=model_scores.columns), ignore_index=True)\n",
    "\n",
    "    return model_scores\n",
    "\n",
    "def tune_hyperparameters(\n",
    "    known_params,\n",
    "    param_dist, \n",
    "    x_train, \n",
    "    y_train, \n",
    "    num_jobs, \n",
    "    search_iterations, \n",
    "    search_scoring_func\n",
    "):\n",
    "\n",
    "    # initalize catboost classifier\n",
    "    model = CatBoostClassifier(**known_params)\n",
    "\n",
    "    # set up random search\n",
    "    random_search = RandomizedSearchCV(\n",
    "        model, \n",
    "        param_distributions=param_dist,\n",
    "        scoring=search_scoring_func,\n",
    "        n_iter=search_iterations,\n",
    "        n_jobs=num_jobs\n",
    "    )\n",
    "\n",
    "    # run and time search\n",
    "    start = time()\n",
    "    best_model = random_search.fit(x_train, y_train)\n",
    "    print(\"RandomizedSearchCV took %.f min. for %d candidate\"\n",
    "          \" parameter settings.\" % (((time() - start)/60), search_iterations))\n",
    "    \n",
    "    return best_model, random_search\n",
    "\n",
    "def regularize_grid(x, y, z, resolution):\n",
    "\n",
    "    # target grid to interpolate to\n",
    "    xi = np.arange(min(x), max(x), ((max(x) - min(x)) / resolution))\n",
    "    yi = np.arange(min(y), max(y), ((max(y) - min(y)) / resolution))\n",
    "    xi, yi = np.meshgrid(xi, yi)\n",
    "\n",
    "    # interpolate\n",
    "    zi = griddata((x, y), z, (xi, yi), method='linear')\n",
    "    \n",
    "    return xi, yi, zi"
   ]
  },
  {
   "cell_type": "markdown",
   "metadata": {},
   "source": [
    "## Data preparation"
   ]
  },
  {
   "cell_type": "code",
   "execution_count": 4,
   "metadata": {},
   "outputs": [
    {
     "name": "stdout",
     "output_type": "stream",
     "text": [
      "Total observations: 7.3E+06\n",
      "Ignitions count: 3.7E+05\n",
      "Non ignitions count: 6.9E+06\n"
     ]
    }
   ],
   "source": [
    "# read data\n",
    "data = pd.read_csv(data_file, low_memory=False)\n",
    "\n",
    "# set ignition to 0 for noxels with no fire\n",
    "data['ignition'].fillna(0, inplace=True)\n",
    "\n",
    "# count number of observations in each class\n",
    "ignition_count = len(data[data[\"ignition\"] == 1])\n",
    "no_ignition_count = len(data) - ignition_count\n",
    "print('Total observations: {:.1E}'.format(len(data)))\n",
    "print('Ignitions count: {:.1E}'.format(ignition_count))\n",
    "print('Non ignitions count: {:.1E}'.format(no_ignition_count))"
   ]
  },
  {
   "cell_type": "markdown",
   "metadata": {},
   "source": [
    "OK, so before we dig into this much farther, I am noticing an issue. For some fires we know the discovery time and some we do not. I can imagine a few ways of dealing with this:\n",
    "\n",
    "1. Throw out fires for which we do not know the discovery time\n",
    "2. Average everything at the day resolution level\n",
    "\n",
    "I am leaning toward option two because:\n",
    "\n",
    "1. Discovery time is not ignition time so the weather state during that exact hour may not be pertinent anyway - for example: what if the fire had already been burning for hours and the temperature had changed drastically?\n",
    "2. The data is already skewed toward no ignition observations. I would rather not have to throw out even more fires. Also, doing so will mean that I have noxels where there was a fire which was not included in the dataset. \n",
    "\n",
    "Specific plan is to roll a daily moving average across the data, including ignition value. This will assign an ignition value to all noxels within 24 hr. of a fire's discovery day."
   ]
  },
  {
   "cell_type": "code",
   "execution_count": 5,
   "metadata": {},
   "outputs": [],
   "source": [
    "# roll data with 24 hr windowed mean\n",
    "data_moving_avg = data.groupby(['lat', 'lon']).rolling(24, on=\"weather_bin_time\").mean()\n",
    "data_moving_avg.reset_index(drop=True, inplace=True)\n",
    "\n",
    "# clean up dataframe\n",
    "data_moving_avg['weather_bin_time'] = pd.to_datetime(data_moving_avg['weather_bin_time'])\n",
    "data_moving_avg['weather_bin_month'] = data_moving_avg['weather_bin_time'].dt.month\n",
    "data_moving_avg['weather_bin_year'] = data_moving_avg['weather_bin_time'].dt.year\n",
    "data_moving_avg.drop(['fire_discovery_time', 'size', 'size_class', 'weather_bin_time'], axis=1, inplace=True)\n",
    "data_moving_avg.dropna(inplace=True)"
   ]
  },
  {
   "cell_type": "markdown",
   "metadata": {},
   "source": [
    "OK, now we need to pseudorandomly sample the positive and negative datasets. This will accomplish two goals:\n",
    "    \n",
    "1. Make the dataset size smaller\n",
    "2. Equalize the number of positive and negative observations"
   ]
  },
  {
   "cell_type": "code",
   "execution_count": 6,
   "metadata": {},
   "outputs": [
    {
     "name": "stdout",
     "output_type": "stream",
     "text": [
      "Total observations: 2.0E+03\n",
      "Ignitions count: 1.0E+03\n",
      "Non ignitions count: 1.0E+03\n"
     ]
    }
   ],
   "source": [
    "sampled_data = sample_data(data_moving_avg, data_sample_size)\n",
    "class_names = np.array(['No ignition', 'Ignition'])\n",
    "\n",
    "ignition = sampled_data[sampled_data['ignition'] == 1]\n",
    "no_ignition = sampled_data[sampled_data['ignition'] == 0]\n",
    "\n",
    "print('Total observations: {:.1E}'.format(len(sampled_data)))\n",
    "print('Ignitions count: {:.1E}'.format(len(ignition)))\n",
    "print('Non ignitions count: {:.1E}'.format(len(no_ignition)))"
   ]
  },
  {
   "cell_type": "code",
   "execution_count": 7,
   "metadata": {},
   "outputs": [],
   "source": [
    "targets = sampled_data['ignition']\n",
    "data = sampled_data.drop(['ignition'], axis=1)\n",
    "x_train, x_test, y_train, y_test = train_test_split(data.values, targets.values, random_state=rand_seed)"
   ]
  },
  {
   "cell_type": "markdown",
   "metadata": {},
   "source": [
    "**Game on!** Let's keep track of our results as we begin to play with the data:"
   ]
  },
  {
   "cell_type": "markdown",
   "metadata": {},
   "source": [
    "## Default model: XGBoost vs CATBoost vs LightGBM vs random forest"
   ]
  },
  {
   "cell_type": "code",
   "execution_count": 11,
   "metadata": {},
   "outputs": [
    {
     "data": {
      "text/html": [
       "<div>\n",
       "<style scoped>\n",
       "    .dataframe tbody tr th:only-of-type {\n",
       "        vertical-align: middle;\n",
       "    }\n",
       "\n",
       "    .dataframe tbody tr th {\n",
       "        vertical-align: top;\n",
       "    }\n",
       "\n",
       "    .dataframe thead th {\n",
       "        text-align: right;\n",
       "    }\n",
       "</style>\n",
       "<table border=\"1\" class=\"dataframe\">\n",
       "  <thead>\n",
       "    <tr style=\"text-align: right;\">\n",
       "      <th></th>\n",
       "      <th>Classifier</th>\n",
       "      <th>n</th>\n",
       "      <th>Training score +/- STD</th>\n",
       "      <th>Test score +/- STD</th>\n",
       "      <th>False positive rate +/- STD</th>\n",
       "      <th>False negative rate +/- STD</th>\n",
       "    </tr>\n",
       "  </thead>\n",
       "  <tbody>\n",
       "    <tr>\n",
       "      <td>0</td>\n",
       "      <td>XGBoost with defaults</td>\n",
       "      <td>5</td>\n",
       "      <td>0.84 +/- 0.009</td>\n",
       "      <td>0.73 +/- 0.029</td>\n",
       "      <td>0.25 +/- 0.037</td>\n",
       "      <td>0.23 +/- 0.023</td>\n",
       "    </tr>\n",
       "    <tr>\n",
       "      <td>1</td>\n",
       "      <td>CatBoost with defaults</td>\n",
       "      <td>5</td>\n",
       "      <td>0.99 +/- 0.003</td>\n",
       "      <td>0.73 +/- 0.025</td>\n",
       "      <td>0.26 +/- 0.018</td>\n",
       "      <td>0.2 +/- 0.033</td>\n",
       "    </tr>\n",
       "    <tr>\n",
       "      <td>2</td>\n",
       "      <td>LightGBM with defaults</td>\n",
       "      <td>5</td>\n",
       "      <td>1.0 +/- 0.0</td>\n",
       "      <td>0.74 +/- 0.013</td>\n",
       "      <td>0.26 +/- 0.023</td>\n",
       "      <td>0.2 +/- 0.02</td>\n",
       "    </tr>\n",
       "    <tr>\n",
       "      <td>3</td>\n",
       "      <td>Random forest with defaults</td>\n",
       "      <td>5</td>\n",
       "      <td>1.0 +/- 0.0</td>\n",
       "      <td>0.71 +/- 0.013</td>\n",
       "      <td>0.28 +/- 0.025</td>\n",
       "      <td>0.23 +/- 0.022</td>\n",
       "    </tr>\n",
       "  </tbody>\n",
       "</table>\n",
       "</div>"
      ],
      "text/plain": [
       "                    Classifier  n Training score +/- STD Test score +/- STD  \\\n",
       "0        XGBoost with defaults  5         0.84 +/- 0.009     0.73 +/- 0.029   \n",
       "1       CatBoost with defaults  5         0.99 +/- 0.003     0.73 +/- 0.025   \n",
       "2       LightGBM with defaults  5            1.0 +/- 0.0     0.74 +/- 0.013   \n",
       "3  Random forest with defaults  5            1.0 +/- 0.0     0.71 +/- 0.013   \n",
       "\n",
       "  False positive rate +/- STD False negative rate +/- STD  \n",
       "0              0.25 +/- 0.037              0.23 +/- 0.023  \n",
       "1              0.26 +/- 0.018               0.2 +/- 0.033  \n",
       "2              0.26 +/- 0.023                0.2 +/- 0.02  \n",
       "3              0.28 +/- 0.025              0.23 +/- 0.022  "
      ]
     },
     "execution_count": 11,
     "metadata": {},
     "output_type": "execute_result"
    }
   ],
   "source": [
    "model_descriptions = [\n",
    "    'XGBoost with defaults',\n",
    "    'CatBoost with defaults',\n",
    "    'LightGBM with defaults',\n",
    "    'Random forest with defaults'\n",
    "]\n",
    "\n",
    "classifiers = (\n",
    "    XGBClassifier(n_jobs = max_jobs), \n",
    "    CatBoostClassifier(thread_count = max_jobs, silent = True), \n",
    "    LGBMClassifier(n_jobs = max_jobs), \n",
    "    RandomForestClassifier(n_jobs = max_jobs)\n",
    ")\n",
    "\n",
    "model_score_comparisions = compare_algorithms(\n",
    "    classifiers, \n",
    "    model_descriptions,\n",
    "    num_trials,\n",
    "    data_moving_avg,\n",
    "    data_sample_size,\n",
    " )\n",
    "    \n",
    "model_score_comparisions\n",
    "model_scores = model_score_comparisions\n",
    "model_scores"
   ]
  },
  {
   "cell_type": "markdown",
   "metadata": {},
   "source": [
    "Judging from false negative and false positive rates CatBoost is our winner. Because of the nature of the data, it is extremely important to minimize the false negative rate. False positives might be economically wasteful, but false negatives have the potential to cause injury and loss of life. Provisionally, let's continue on with CatBoost."
   ]
  },
  {
   "cell_type": "code",
   "execution_count": 12,
   "metadata": {},
   "outputs": [
    {
     "data": {
      "text/html": [
       "<div>\n",
       "<style scoped>\n",
       "    .dataframe tbody tr th:only-of-type {\n",
       "        vertical-align: middle;\n",
       "    }\n",
       "\n",
       "    .dataframe tbody tr th {\n",
       "        vertical-align: top;\n",
       "    }\n",
       "\n",
       "    .dataframe thead th {\n",
       "        text-align: right;\n",
       "    }\n",
       "</style>\n",
       "<table border=\"1\" class=\"dataframe\">\n",
       "  <thead>\n",
       "    <tr style=\"text-align: right;\">\n",
       "      <th></th>\n",
       "      <th>Description</th>\n",
       "      <th>n</th>\n",
       "      <th>Training score +/- STD</th>\n",
       "      <th>Test score +/- STD</th>\n",
       "      <th>False positive rate +/- STD</th>\n",
       "      <th>False negative rate +/- STD</th>\n",
       "    </tr>\n",
       "  </thead>\n",
       "  <tbody>\n",
       "    <tr>\n",
       "      <td>0</td>\n",
       "      <td>Default CatBoost model</td>\n",
       "      <td>5</td>\n",
       "      <td>0.99 +/- 0.003</td>\n",
       "      <td>0.73 +/- 0.025</td>\n",
       "      <td>0.26 +/- 0.018</td>\n",
       "      <td>0.2 +/- 0.033</td>\n",
       "    </tr>\n",
       "  </tbody>\n",
       "</table>\n",
       "</div>"
      ],
      "text/plain": [
       "              Description  n Training score +/- STD Test score +/- STD  \\\n",
       "0  Default CatBoost model  5         0.99 +/- 0.003     0.73 +/- 0.025   \n",
       "\n",
       "  False positive rate +/- STD False negative rate +/- STD  \n",
       "0              0.26 +/- 0.018               0.2 +/- 0.033  "
      ]
     },
     "execution_count": 12,
     "metadata": {},
     "output_type": "execute_result"
    }
   ],
   "source": [
    "model_score_history_columns = [\n",
    "    'Description',\n",
    "    'n',\n",
    "    'Training score +/- STD',\n",
    "    'Test score +/- STD',\n",
    "    'False positive rate +/- STD',\n",
    "    'False negative rate +/- STD'\n",
    "]\n",
    "\n",
    "model_score_history = pd.DataFrame(columns=model_score_history_columns)\n",
    "\n",
    "model_score_history = model_score_history.append(pd.Series([\n",
    "    'Default CatBoost model',\n",
    "    num_trials,\n",
    "    model_scores.iloc[1]['Training score +/- STD'], \n",
    "    model_scores.iloc[1]['Test score +/- STD'], \n",
    "    model_scores.iloc[1]['False positive rate +/- STD'], \n",
    "    model_scores.iloc[1]['False negative rate +/- STD'],\n",
    "], index=model_score_history.columns), ignore_index=True)\n",
    "\n",
    "model_score_history"
   ]
  },
  {
   "cell_type": "markdown",
   "metadata": {},
   "source": [
    "## CatBoost scoring function selection"
   ]
  },
  {
   "cell_type": "code",
   "execution_count": 13,
   "metadata": {},
   "outputs": [
    {
     "data": {
      "text/html": [
       "<div>\n",
       "<style scoped>\n",
       "    .dataframe tbody tr th:only-of-type {\n",
       "        vertical-align: middle;\n",
       "    }\n",
       "\n",
       "    .dataframe tbody tr th {\n",
       "        vertical-align: top;\n",
       "    }\n",
       "\n",
       "    .dataframe thead th {\n",
       "        text-align: right;\n",
       "    }\n",
       "</style>\n",
       "<table border=\"1\" class=\"dataframe\">\n",
       "  <thead>\n",
       "    <tr style=\"text-align: right;\">\n",
       "      <th></th>\n",
       "      <th>Scoring function</th>\n",
       "      <th>n</th>\n",
       "      <th>Training score +/- STD</th>\n",
       "      <th>Test score +/- STD</th>\n",
       "      <th>False positive rate +/- STD</th>\n",
       "      <th>False negative rate +/- STD</th>\n",
       "    </tr>\n",
       "  </thead>\n",
       "  <tbody>\n",
       "    <tr>\n",
       "      <td>0</td>\n",
       "      <td>Cosine</td>\n",
       "      <td>5</td>\n",
       "      <td>0.99 +/- 0.002</td>\n",
       "      <td>0.75 +/- 0.028</td>\n",
       "      <td>0.23 +/- 0.017</td>\n",
       "      <td>0.2 +/- 0.038</td>\n",
       "    </tr>\n",
       "    <tr>\n",
       "      <td>1</td>\n",
       "      <td>L2</td>\n",
       "      <td>5</td>\n",
       "      <td>1.0 +/- 0.001</td>\n",
       "      <td>0.73 +/- 0.02</td>\n",
       "      <td>0.24 +/- 0.025</td>\n",
       "      <td>0.22 +/- 0.041</td>\n",
       "    </tr>\n",
       "  </tbody>\n",
       "</table>\n",
       "</div>"
      ],
      "text/plain": [
       "  Scoring function  n Training score +/- STD Test score +/- STD  \\\n",
       "0           Cosine  5         0.99 +/- 0.002     0.75 +/- 0.028   \n",
       "1               L2  5          1.0 +/- 0.001      0.73 +/- 0.02   \n",
       "\n",
       "  False positive rate +/- STD False negative rate +/- STD  \n",
       "0              0.23 +/- 0.017               0.2 +/- 0.038  \n",
       "1              0.24 +/- 0.025              0.22 +/- 0.041  "
      ]
     },
     "execution_count": 13,
     "metadata": {},
     "output_type": "execute_result"
    }
   ],
   "source": [
    "# note: CatBoost only has cosine and L2 avalible for non GPU computation\n",
    "scoring_functions = [\n",
    "#    'SolarL2',\n",
    "     'Cosine', \n",
    "#     'NewtonL2', \n",
    "#     'NewtonCosine', \n",
    "#     'LOOL2', \n",
    "#     'SatL2', \n",
    "     'L2'\n",
    "]\n",
    "\n",
    "model_scores = test_scoring_functions(\n",
    "    num_trials,\n",
    "    scoring_functions, \n",
    "    data_moving_avg,\n",
    "    data_sample_size,\n",
    "    max_jobs\n",
    ")\n",
    "\n",
    "model_scores"
   ]
  },
  {
   "cell_type": "markdown",
   "metadata": {},
   "source": [
    "Ok, looks similar, the Cosine false negative rate is slightly lower on some trials, so let's go with that. Before moving on to hyperparameter optimization, let's take a look at our relative feature importances and see if we can simplify the model any.\n",
    "\n",
    "Before we move on, update out hyperparameter dictionary with our new finding and save the score results to a dataframe so we can track our progress."
   ]
  },
  {
   "cell_type": "code",
   "execution_count": 14,
   "metadata": {},
   "outputs": [
    {
     "data": {
      "text/html": [
       "<div>\n",
       "<style scoped>\n",
       "    .dataframe tbody tr th:only-of-type {\n",
       "        vertical-align: middle;\n",
       "    }\n",
       "\n",
       "    .dataframe tbody tr th {\n",
       "        vertical-align: top;\n",
       "    }\n",
       "\n",
       "    .dataframe thead th {\n",
       "        text-align: right;\n",
       "    }\n",
       "</style>\n",
       "<table border=\"1\" class=\"dataframe\">\n",
       "  <thead>\n",
       "    <tr style=\"text-align: right;\">\n",
       "      <th></th>\n",
       "      <th>Description</th>\n",
       "      <th>n</th>\n",
       "      <th>Training score +/- STD</th>\n",
       "      <th>Test score +/- STD</th>\n",
       "      <th>False positive rate +/- STD</th>\n",
       "      <th>False negative rate +/- STD</th>\n",
       "    </tr>\n",
       "  </thead>\n",
       "  <tbody>\n",
       "    <tr>\n",
       "      <td>0</td>\n",
       "      <td>Default CatBoost model</td>\n",
       "      <td>5</td>\n",
       "      <td>0.99 +/- 0.003</td>\n",
       "      <td>0.73 +/- 0.025</td>\n",
       "      <td>0.26 +/- 0.018</td>\n",
       "      <td>0.2 +/- 0.033</td>\n",
       "    </tr>\n",
       "    <tr>\n",
       "      <td>1</td>\n",
       "      <td>CatBoost model with Cosine scoring function</td>\n",
       "      <td>5</td>\n",
       "      <td>0.99 +/- 0.002</td>\n",
       "      <td>0.75 +/- 0.028</td>\n",
       "      <td>0.23 +/- 0.017</td>\n",
       "      <td>0.2 +/- 0.038</td>\n",
       "    </tr>\n",
       "  </tbody>\n",
       "</table>\n",
       "</div>"
      ],
      "text/plain": [
       "                                   Description  n Training score +/- STD  \\\n",
       "0                       Default CatBoost model  5         0.99 +/- 0.003   \n",
       "1  CatBoost model with Cosine scoring function  5         0.99 +/- 0.002   \n",
       "\n",
       "  Test score +/- STD False positive rate +/- STD False negative rate +/- STD  \n",
       "0     0.73 +/- 0.025              0.26 +/- 0.018               0.2 +/- 0.033  \n",
       "1     0.75 +/- 0.028              0.23 +/- 0.017               0.2 +/- 0.038  "
      ]
     },
     "execution_count": 14,
     "metadata": {},
     "output_type": "execute_result"
    }
   ],
   "source": [
    "known_params = {\n",
    "    'random_state': rand_seed,\n",
    "    'thread_count': max_jobs,\n",
    "    'score_function': 'Cosine',\n",
    "    'silent': True\n",
    "}\n",
    "\n",
    "model_score_history = model_score_history.append(pd.Series([\n",
    "    'CatBoost model with Cosine scoring function',\n",
    "    num_trials,\n",
    "    model_scores.iloc[0]['Training score +/- STD'], \n",
    "    model_scores.iloc[0]['Test score +/- STD'], \n",
    "    model_scores.iloc[0]['False positive rate +/- STD'], \n",
    "    model_scores.iloc[0]['False negative rate +/- STD'],\n",
    "], index=model_score_history.columns), ignore_index=True)\n",
    "\n",
    "model_score_history"
   ]
  },
  {
   "cell_type": "markdown",
   "metadata": {},
   "source": [
    "## Feature importance"
   ]
  },
  {
   "cell_type": "code",
   "execution_count": 15,
   "metadata": {},
   "outputs": [
    {
     "data": {
      "image/png": "[encoded data removed]",
      "text/plain": [
       "<Figure size 1440x720 with 1 Axes>"
      ]
     },
     "metadata": {
      "needs_background": "light"
     },
     "output_type": "display_data"
    }
   ],
   "source": [
    "# Retrain catboost model on new train-test split with new hyperparameters\n",
    "sampled_data = sample_data(data_moving_avg, data_sample_size)\n",
    "targets = sampled_data['ignition']\n",
    "data = sampled_data.drop(['ignition'], axis=1)\n",
    "x_train, x_test, y_train, y_test = train_test_split(data.values, targets.values)\n",
    "          \n",
    "catboost_model = CatBoostClassifier(**known_params)\n",
    "catboost_model.fit(x_train, y_train)\n",
    "\n",
    "plot_relative_feature_importance(catboost_model, data, x_test, 20)"
   ]
  },
  {
   "cell_type": "markdown",
   "metadata": {},
   "source": [
    "Interesting, some features which were expected to be important are fairly far down on the list. For example: air temperature at 2 meters and u/v components of wind speed. Before we go throwing variables away or trying to reduce dimensionality let's do some hyperparameter optimization and see if the relative feature importances change."
   ]
  },
  {
   "cell_type": "markdown",
   "metadata": {},
   "source": [
    "## Hyperparameter optimization: class weight\n",
    "We sampled our data so we have the same number of positive and negative results so we may not need a class weight. Let's try a few values and see how if effects our false positive and false negative rates."
   ]
  },
  {
   "cell_type": "code",
   "execution_count": 16,
   "metadata": {},
   "outputs": [
    {
     "data": {
      "image/png": "[encoded data removed]",
      "text/plain": [
       "<Figure size 864x360 with 2 Axes>"
      ]
     },
     "metadata": {
      "needs_background": "light"
     },
     "output_type": "display_data"
    }
   ],
   "source": [
    "class_weights = np.logspace(-2.5, 2.5, num=25, base=10)\n",
    "\n",
    "model_scores = tune_class_weight(\n",
    "    class_weights, \n",
    "    x_train, \n",
    "    y_train, \n",
    "    x_test, \n",
    "    y_test\n",
    ")\n",
    "\n",
    "plot_class_weight_tuning_results(model_scores)"
   ]
  },
  {
   "cell_type": "markdown",
   "metadata": {},
   "source": [
    "Interesting. We can use larger class weights to drive down the false negative rate at the expense of false positives. Looking at the clearly sigmoidal precision recall curve, the optimum value looks like it's around 1. Before just using no weight, let's try this again with a narrower range."
   ]
  },
  {
   "cell_type": "code",
   "execution_count": 17,
   "metadata": {},
   "outputs": [
    {
     "data": {
      "image/png": "[encoded data removed]",
      "text/plain": [
       "<Figure size 864x360 with 2 Axes>"
      ]
     },
     "metadata": {
      "needs_background": "light"
     },
     "output_type": "display_data"
    }
   ],
   "source": [
    "class_weights = np.logspace(-0.2, 0.2, num=25, base=10)\n",
    "\n",
    "model_scores = tune_class_weight(\n",
    "    class_weights, \n",
    "    x_train, \n",
    "    y_train, \n",
    "    x_test, \n",
    "    y_test\n",
    ")\n",
    "\n",
    "plot_class_weight_tuning_results(model_scores)"
   ]
  },
  {
   "cell_type": "markdown",
   "metadata": {},
   "source": [
    "Wow, this one is actually pretty subjective... I'm calling it somewhere between one and three. Let's use 1.8 for now. This should give us ~90/85 precision-recall and put our false positive and false negative rates at 0.25 and ~0.1 respectively."
   ]
  },
  {
   "cell_type": "code",
   "execution_count": 18,
   "metadata": {},
   "outputs": [],
   "source": [
    "known_params = {\n",
    "    'random_state': rand_seed,\n",
    "    'thread_count': max_jobs,\n",
    "    'score_function': 'Cosine',\n",
    "    'silent': True,\n",
    "    'scale_pos_weight': 1.78\n",
    "}"
   ]
  },
  {
   "cell_type": "markdown",
   "metadata": {},
   "source": [
    "**Note:** Important to keep in mind here that we can tune our false positive/false negative rates easily with this hyperparameter."
   ]
  },
  {
   "cell_type": "code",
   "execution_count": 19,
   "metadata": {},
   "outputs": [],
   "source": [
    "# Train model with new class weight\n",
    "model_scores = train_catboost_with_sampling(\n",
    "    num_trials,\n",
    "    known_params,\n",
    "    data_moving_avg,\n",
    "    data_sample_size,\n",
    "    max_jobs\n",
    ")"
   ]
  },
  {
   "cell_type": "code",
   "execution_count": 20,
   "metadata": {},
   "outputs": [
    {
     "data": {
      "text/html": [
       "<div>\n",
       "<style scoped>\n",
       "    .dataframe tbody tr th:only-of-type {\n",
       "        vertical-align: middle;\n",
       "    }\n",
       "\n",
       "    .dataframe tbody tr th {\n",
       "        vertical-align: top;\n",
       "    }\n",
       "\n",
       "    .dataframe thead th {\n",
       "        text-align: right;\n",
       "    }\n",
       "</style>\n",
       "<table border=\"1\" class=\"dataframe\">\n",
       "  <thead>\n",
       "    <tr style=\"text-align: right;\">\n",
       "      <th></th>\n",
       "      <th>Description</th>\n",
       "      <th>n</th>\n",
       "      <th>Training score +/- STD</th>\n",
       "      <th>Test score +/- STD</th>\n",
       "      <th>False positive rate +/- STD</th>\n",
       "      <th>False negative rate +/- STD</th>\n",
       "    </tr>\n",
       "  </thead>\n",
       "  <tbody>\n",
       "    <tr>\n",
       "      <td>0</td>\n",
       "      <td>Default CatBoost model</td>\n",
       "      <td>5</td>\n",
       "      <td>0.99 +/- 0.003</td>\n",
       "      <td>0.73 +/- 0.025</td>\n",
       "      <td>0.26 +/- 0.018</td>\n",
       "      <td>0.2 +/- 0.033</td>\n",
       "    </tr>\n",
       "    <tr>\n",
       "      <td>1</td>\n",
       "      <td>CatBoost model with Cosine scoring function</td>\n",
       "      <td>5</td>\n",
       "      <td>0.99 +/- 0.002</td>\n",
       "      <td>0.75 +/- 0.028</td>\n",
       "      <td>0.23 +/- 0.017</td>\n",
       "      <td>0.2 +/- 0.038</td>\n",
       "    </tr>\n",
       "    <tr>\n",
       "      <td>2</td>\n",
       "      <td>CatBoost with scoring function &amp; class weight</td>\n",
       "      <td>5</td>\n",
       "      <td>0.97 +/- 0.001</td>\n",
       "      <td>0.79 +/- 0.013</td>\n",
       "      <td>0.3 +/- 0.007</td>\n",
       "      <td>0.16 +/- 0.005</td>\n",
       "    </tr>\n",
       "  </tbody>\n",
       "</table>\n",
       "</div>"
      ],
      "text/plain": [
       "                                     Description  n Training score +/- STD  \\\n",
       "0                         Default CatBoost model  5         0.99 +/- 0.003   \n",
       "1    CatBoost model with Cosine scoring function  5         0.99 +/- 0.002   \n",
       "2  CatBoost with scoring function & class weight  5         0.97 +/- 0.001   \n",
       "\n",
       "  Test score +/- STD False positive rate +/- STD False negative rate +/- STD  \n",
       "0     0.73 +/- 0.025              0.26 +/- 0.018               0.2 +/- 0.033  \n",
       "1     0.75 +/- 0.028              0.23 +/- 0.017               0.2 +/- 0.038  \n",
       "2     0.79 +/- 0.013               0.3 +/- 0.007              0.16 +/- 0.005  "
      ]
     },
     "execution_count": 20,
     "metadata": {},
     "output_type": "execute_result"
    }
   ],
   "source": [
    "model_score_history = model_score_history.append(pd.Series([\n",
    "    'CatBoost with scoring function & class weight',\n",
    "    num_trials,\n",
    "    model_scores.iloc[0]['Training score +/- STD'], \n",
    "    model_scores.iloc[0]['Test score +/- STD'], \n",
    "    model_scores.iloc[0]['False positive rate +/- STD'], \n",
    "    model_scores.iloc[0]['False negative rate +/- STD'],\n",
    "], index=model_score_history.columns), ignore_index=True)\n",
    "\n",
    "model_score_history"
   ]
  },
  {
   "cell_type": "markdown",
   "metadata": {},
   "source": [
    "## Hyperparameter tuning: learning rate and tree count"
   ]
  },
  {
   "cell_type": "markdown",
   "metadata": {},
   "source": [
    "First, let's try taking one sample of the full dataset and then using RandomizedSearchCV to try and find the best values for learning rate and tree count."
   ]
  },
  {
   "cell_type": "code",
   "execution_count": 21,
   "metadata": {},
   "outputs": [
    {
     "name": "stdout",
     "output_type": "stream",
     "text": [
      "RandomizedSearchCV took 3 min. for 100 candidate parameter settings.\n"
     ]
    }
   ],
   "source": [
    "param_dist = {\n",
    "    'learning_rate': loguniform(0.0001, 1),\n",
    "    'n_estimators': range(1,100)\n",
    "}\n",
    "\n",
    "# Resample and train-test split data\n",
    "sampled_data = sample_data(data_moving_avg, data_sample_size)\n",
    "targets = sampled_data['ignition']\n",
    "data = sampled_data.drop(['ignition'], axis=1)\n",
    "x_train, x_test, y_train, y_test = train_test_split(data.values, targets.values) \n",
    "\n",
    "best_model, random_search = tune_hyperparameters(\n",
    "    known_params,\n",
    "    param_dist, \n",
    "    x_train, \n",
    "    y_train, \n",
    "    optimization_jobs, \n",
    "    search_iterations, \n",
    "    search_scoring_func\n",
    ")"
   ]
  },
  {
   "cell_type": "code",
   "execution_count": 22,
   "metadata": {},
   "outputs": [
    {
     "data": {
      "image/png": "[encoded data removed]",
      "text/plain": [
       "<Figure size 432x288 with 2 Axes>"
      ]
     },
     "metadata": {
      "needs_background": "light"
     },
     "output_type": "display_data"
    }
   ],
   "source": [
    "rand_search_results = pd.DataFrame(random_search.cv_results_).dropna()\n",
    "\n",
    "x = rand_search_results['param_n_estimators']\n",
    "y = rand_search_results['param_learning_rate']\n",
    "z = rand_search_results['mean_test_score']\n",
    "xi, yi, zi = regularize_grid(x, y, z, plot_grid_resolution)\n",
    "\n",
    "sns.set_context(\"notebook\", font_scale=1.5, rc={\"lines.linewidth\": 2.5})\n",
    "\n",
    "plt.contourf(xi, yi, zi, contourf_levels, cmap=plt.cm.Blues)\n",
    "plt.xlabel(\"N estimators\")\n",
    "plt.ylabel(\"Learning rate\")\n",
    "plt.title(\"Effect of estimator count and \\nlearning rate on score\")\n",
    "plt.colorbar()\n",
    "plt.show()"
   ]
  },
  {
   "cell_type": "markdown",
   "metadata": {},
   "source": [
    "Surprised by how 'rough' hyperparameter space is. Let's keep the winning numbers and save the scores to our log."
   ]
  },
  {
   "cell_type": "code",
   "execution_count": 23,
   "metadata": {},
   "outputs": [
    {
     "data": {
      "text/html": [
       "<div>\n",
       "<style scoped>\n",
       "    .dataframe tbody tr th:only-of-type {\n",
       "        vertical-align: middle;\n",
       "    }\n",
       "\n",
       "    .dataframe tbody tr th {\n",
       "        vertical-align: top;\n",
       "    }\n",
       "\n",
       "    .dataframe thead th {\n",
       "        text-align: right;\n",
       "    }\n",
       "</style>\n",
       "<table border=\"1\" class=\"dataframe\">\n",
       "  <thead>\n",
       "    <tr style=\"text-align: right;\">\n",
       "      <th></th>\n",
       "      <th>Description</th>\n",
       "      <th>n</th>\n",
       "      <th>Training score +/- STD</th>\n",
       "      <th>Test score +/- STD</th>\n",
       "      <th>False positive rate +/- STD</th>\n",
       "      <th>False negative rate +/- STD</th>\n",
       "    </tr>\n",
       "  </thead>\n",
       "  <tbody>\n",
       "    <tr>\n",
       "      <td>0</td>\n",
       "      <td>Default CatBoost model</td>\n",
       "      <td>5</td>\n",
       "      <td>0.99 +/- 0.003</td>\n",
       "      <td>0.73 +/- 0.025</td>\n",
       "      <td>0.26 +/- 0.018</td>\n",
       "      <td>0.2 +/- 0.033</td>\n",
       "    </tr>\n",
       "    <tr>\n",
       "      <td>1</td>\n",
       "      <td>CatBoost model with Cosine scoring function</td>\n",
       "      <td>5</td>\n",
       "      <td>0.99 +/- 0.002</td>\n",
       "      <td>0.75 +/- 0.028</td>\n",
       "      <td>0.23 +/- 0.017</td>\n",
       "      <td>0.2 +/- 0.038</td>\n",
       "    </tr>\n",
       "    <tr>\n",
       "      <td>2</td>\n",
       "      <td>CatBoost with scoring function &amp; class weight</td>\n",
       "      <td>5</td>\n",
       "      <td>0.97 +/- 0.001</td>\n",
       "      <td>0.79 +/- 0.013</td>\n",
       "      <td>0.3 +/- 0.007</td>\n",
       "      <td>0.16 +/- 0.005</td>\n",
       "    </tr>\n",
       "    <tr>\n",
       "      <td>3</td>\n",
       "      <td>CatBoost with n estimators and learning rate</td>\n",
       "      <td>5</td>\n",
       "      <td>0.81 +/- 0.007</td>\n",
       "      <td>0.77 +/- 0.024</td>\n",
       "      <td>0.36 +/- 0.018</td>\n",
       "      <td>0.19 +/- 0.023</td>\n",
       "    </tr>\n",
       "  </tbody>\n",
       "</table>\n",
       "</div>"
      ],
      "text/plain": [
       "                                     Description  n Training score +/- STD  \\\n",
       "0                         Default CatBoost model  5         0.99 +/- 0.003   \n",
       "1    CatBoost model with Cosine scoring function  5         0.99 +/- 0.002   \n",
       "2  CatBoost with scoring function & class weight  5         0.97 +/- 0.001   \n",
       "3   CatBoost with n estimators and learning rate  5         0.81 +/- 0.007   \n",
       "\n",
       "  Test score +/- STD False positive rate +/- STD False negative rate +/- STD  \n",
       "0     0.73 +/- 0.025              0.26 +/- 0.018               0.2 +/- 0.033  \n",
       "1     0.75 +/- 0.028              0.23 +/- 0.017               0.2 +/- 0.038  \n",
       "2     0.79 +/- 0.013               0.3 +/- 0.007              0.16 +/- 0.005  \n",
       "3     0.77 +/- 0.024              0.36 +/- 0.018              0.19 +/- 0.023  "
      ]
     },
     "execution_count": 23,
     "metadata": {},
     "output_type": "execute_result"
    }
   ],
   "source": [
    "best_learning_rate = rand_search_results.iloc[0]['param_learning_rate']\n",
    "best_n_estimators = rand_search_results.iloc[0]['param_n_estimators']\n",
    "\n",
    "known_params = {\n",
    "    'random_state': rand_seed,\n",
    "    'thread_count': classifier_jobs,\n",
    "    'score_function': 'Cosine',\n",
    "    'silent': True,\n",
    "    'scale_pos_weight': 1.78,\n",
    "    'learning_rate': best_learning_rate,\n",
    "    'n_estimators': best_n_estimators\n",
    "}\n",
    "\n",
    "# Resample and train-test split data\n",
    "sampled_data = sample_data(data_moving_avg, data_sample_size)\n",
    "targets = sampled_data['ignition']\n",
    "data = sampled_data.drop(['ignition'], axis=1)\n",
    "x_train, x_test, y_train, y_test = train_test_split(data.values, targets.values) \n",
    "\n",
    "# Train model with new hyperparameters\n",
    "model_scores = train_catboost_with_sampling(\n",
    "    num_trials,\n",
    "    known_params,\n",
    "    data_moving_avg,\n",
    "    data_sample_size,\n",
    "    max_jobs\n",
    ")\n",
    "\n",
    "# Add results to score history dataframe\n",
    "model_score_history = model_score_history.append(pd.Series([\n",
    "    'CatBoost with n estimators and learning rate',\n",
    "    num_trials,\n",
    "    model_scores.iloc[0]['Training score +/- STD'], \n",
    "    model_scores.iloc[0]['Test score +/- STD'], \n",
    "    model_scores.iloc[0]['False positive rate +/- STD'], \n",
    "    model_scores.iloc[0]['False negative rate +/- STD'],\n",
    "], index=model_score_history.columns), ignore_index=True)\n",
    "\n",
    "model_score_history"
   ]
  },
  {
   "cell_type": "markdown",
   "metadata": {},
   "source": [
    "Now, just for fun, let's see how our winning values for number of estimators and learning rate vary across repeated trials with different sample of the data."
   ]
  },
  {
   "cell_type": "code",
   "execution_count": null,
   "metadata": {},
   "outputs": [],
   "source": [
    "param_dist = {\n",
    "    'learning_rate': loguniform(0.0001, 1),\n",
    "    'n_estimators': range(1,100)\n",
    "}\n",
    "\n",
    "scores = []\n",
    "learning_rates = []\n",
    "n_estimators = []\n",
    "\n",
    "itterations = 10\n",
    "\n",
    "for i in range(itterations):\n",
    "    # Resample and train-test split data\n",
    "    sampled_data = sample_data(data_moving_avg, data_sample_size)\n",
    "    targets = sampled_data['ignition']\n",
    "    data = sampled_data.drop(['ignition'], axis=1)\n",
    "    x_train, x_test, y_train, y_test = train_test_split(data.values, targets.values) \n",
    "    \n",
    "    best_model, random_search = tune_hyperparameters(\n",
    "        known_params,\n",
    "        param_dist, \n",
    "        x_train, \n",
    "        y_train, \n",
    "        optimization_jobs, \n",
    "        search_iterations, \n",
    "        search_scoring_func\n",
    "    )\n",
    "    \n",
    "    rand_search_results = pd.DataFrame(random_search.cv_results_).dropna()\n",
    "    winner = rand_search_results[rand_search_results['rank_test_score'] == 1]\n",
    "    avg_score = winner.iloc[0]['mean_test_score']\n",
    "    learning_rate = winner.iloc[0]['param_learning_rate']\n",
    "    n_estimator = winner.iloc[0]['param_n_estimators']\n",
    "    \n",
    "    scores.append(avg_score)\n",
    "    learning_rates.append(learning_rate)\n",
    "    n_estimators.append(n_estimator)\n",
    "    \n",
    "    i += 1"
   ]
  },
  {
   "cell_type": "code",
   "execution_count": null,
   "metadata": {},
   "outputs": [],
   "source": [
    "x = n_estimators\n",
    "y = learning_rates\n",
    "z = scores\n",
    "xi, yi, zi = regularize_grid(x, y, z, plot_grid_resolution)\n",
    "\n",
    "sns.set_context(\"notebook\", font_scale=1.5, rc={\"lines.linewidth\": 2.5})\n",
    "\n",
    "plt.contourf(xi, yi, zi, contourf_levels, cmap=plt.cm.Blues)\n",
    "plt.xlabel(\"N estimators\")\n",
    "plt.ylabel(\"Learning rate\")\n",
    "plt.title(\"Winning estimator count and\\n learning rate vs score\")\n",
    "plt.colorbar()\n",
    "plt.show()"
   ]
  },
  {
   "cell_type": "markdown",
   "metadata": {},
   "source": [
    "## Hyperparameter tuning: tree depth and L2 coefficient"
   ]
  },
  {
   "cell_type": "code",
   "execution_count": null,
   "metadata": {},
   "outputs": [],
   "source": [
    "param_dist = {\n",
    "    'depth': range(1, 21, 1),\n",
    "    'l2_leaf_reg': np.linspace(0, 10, 101)\n",
    "}\n",
    "\n",
    "best_model, random_search = tune_hyperparameters(\n",
    "    known_params,\n",
    "    param_dist, \n",
    "    x_train, \n",
    "    y_train, \n",
    "    optimization_jobs, \n",
    "    search_iterations, \n",
    "    search_scoring_func\n",
    ")"
   ]
  },
  {
   "cell_type": "code",
   "execution_count": null,
   "metadata": {},
   "outputs": [],
   "source": [
    "rand_search_results = pd.DataFrame(random_search.cv_results_).dropna()\n",
    "\n",
    "x = rand_search_results['param_depth']\n",
    "y = rand_search_results['param_l2_leaf_reg']\n",
    "z = rand_search_results['mean_test_score']\n",
    "xi, yi, zi = regularize_grid(x, y, z, plot_grid_resolution)\n",
    "\n",
    "sns.set_context(\"notebook\", font_scale=1.5, rc={\"lines.linewidth\": 2.5})\n",
    "\n",
    "plt.contourf(xi, yi, zi, contourf_levels, cmap=plt.cm.Blues)\n",
    "plt.xlabel(\"Tree depth\")\n",
    "plt.ylabel(\"L2 coefficient\")\n",
    "plt.title(\"Effect of tree depth and \\nL2 coefficient on score\")\n",
    "plt.colorbar()\n",
    "plt.show()"
   ]
  },
  {
   "cell_type": "markdown",
   "metadata": {},
   "source": [
    "Again, store winning parameters in dictionary and add score results to log."
   ]
  },
  {
   "cell_type": "code",
   "execution_count": null,
   "metadata": {},
   "outputs": [],
   "source": [
    "best_depth = rand_search_results.iloc[0]['param_depth']\n",
    "best_l2_leaf_reg = rand_search_results.iloc[0]['param_l2_leaf_reg']\n",
    "\n",
    "known_params = {\n",
    "    'random_state': rand_seed,\n",
    "    'thread_count': classifier_jobs,\n",
    "    'score_function': 'Cosine',\n",
    "    'silent': True,\n",
    "    'scale_pos_weight': 1.78,\n",
    "    'learning_rate': best_learning_rate,\n",
    "    'n_estimators': best_n_estimators,\n",
    "    'depth': best_depth,\n",
    "    'l2_leaf_reg': best_l2_leaf_reg\n",
    "}\n",
    "\n",
    "# Resample and train-test split data\n",
    "sampled_data = sample_data(data_moving_avg, data_sample_size)\n",
    "targets = sampled_data['ignition']\n",
    "data = sampled_data.drop(['ignition'], axis=1)\n",
    "x_train, x_test, y_train, y_test = train_test_split(data.values, targets.values) \n",
    "\n",
    "# Train model with new hyperparameters\n",
    "model_scores = train_catboost_with_sampling(\n",
    "    num_trials,\n",
    "    known_params,\n",
    "    data_moving_avg,\n",
    "    data_sample_size,\n",
    "    max_jobs\n",
    ")\n",
    "\n",
    "# Add results to score history dataframe\n",
    "model_score_history = model_score_history.append(pd.Series([\n",
    "    'CatBoost with depth and L2 coefficient',\n",
    "    num_trials,\n",
    "    model_scores.iloc[0]['Training score +/- STD'], \n",
    "    model_scores.iloc[0]['Test score +/- STD'], \n",
    "    model_scores.iloc[0]['False positive rate +/- STD'], \n",
    "    model_scores.iloc[0]['False negative rate +/- STD'],\n",
    "], index=model_score_history.columns), ignore_index=True)\n",
    "\n",
    "model_score_history"
   ]
  },
  {
   "cell_type": "markdown",
   "metadata": {},
   "source": [
    "## Final model: feature importance"
   ]
  },
  {
   "cell_type": "code",
   "execution_count": null,
   "metadata": {},
   "outputs": [],
   "source": [
    "best_model = CatBoostClassifier(**known_params)\n",
    "best_model.fit(x_train, y_train)\n",
    "\n",
    "plot_relative_feature_importance(catboost_model, data, x_test, 20)"
   ]
  },
  {
   "cell_type": "markdown",
   "metadata": {},
   "source": [
    "## Final model: effect of feature count"
   ]
  },
  {
   "cell_type": "code",
   "execution_count": null,
   "metadata": {},
   "outputs": [],
   "source": [
    "train_scores = list()\n",
    "test_scores = list()\n",
    "\n",
    "feature_names = np.array(list(data))\n",
    "importances = catboost_model.feature_importances_\n",
    "indices = np.argsort(importances)[::-1]\n",
    "\n",
    "for n in range(1,(len(feature_names) + 1)):\n",
    "    # grab top n feature names\n",
    "    top_n_features = feature_names[indices[0:n]]\n",
    "\n",
    "    # rebuild training and test sets with feature subset\n",
    "    sampled_data = sample_data(data_moving_avg, data_sample_size)\n",
    "    targets = sampled_data['ignition']\n",
    "    data = sampled_data.drop(['ignition'], axis=1)\n",
    "    data_subset = data[top_n_features]\n",
    "    x_train_subset, x_test_subset, y_train_subset, y_test_subset  = train_test_split(data_subset, targets)\n",
    "\n",
    "    # instantiate and train classifier\n",
    "    catboost_model = CatBoostClassifier(**known_params)\n",
    "    catboost_model.fit(x_train_subset, y_train_subset)\n",
    "\n",
    "    # report score for feature subset\n",
    "    training_score = average_precision_score(catboost_model.predict(x_train_subset), y_train_subset)\n",
    "    test_score = average_precision_score(catboost_model.predict(x_test_subset), y_test_subset)\n",
    "    \n",
    "    train_scores.append(training_score)\n",
    "    test_scores.append(test_score)\n",
    "    \n",
    "    #print('Top {} features, precision-recall score train/test: {}/{}'.format(n,np.round(training_score,2),np.round(test_score,2)))"
   ]
  },
  {
   "cell_type": "code",
   "execution_count": null,
   "metadata": {},
   "outputs": [],
   "source": [
    "sns.set_context(\"notebook\", font_scale=1.5, rc={\"lines.linewidth\": 2.5})\n",
    "\n",
    "fig = plt.figure()\n",
    "ax = fig.add_subplot(111)\n",
    "\n",
    "ax.scatter(range(1,(len(feature_names) + 1)), train_scores, s=20, c='darkblue', label='Training data')\n",
    "ax.scatter(range(1,(len(feature_names) + 1)), test_scores, s=20, c='darkred', label='Test data')\n",
    "plt.legend(loc='upper right')\n",
    "plt.title(\"Model performance and feature count\")\n",
    "plt.xlabel(\"N features\")\n",
    "plt.ylabel(\"Avg. precision-recall score\")\n",
    "plt.show()"
   ]
  },
  {
   "cell_type": "markdown",
   "metadata": {},
   "source": [
    "## Final model: robustness"
   ]
  },
  {
   "cell_type": "code",
   "execution_count": null,
   "metadata": {},
   "outputs": [],
   "source": [
    "top_n_features"
   ]
  },
  {
   "cell_type": "code",
   "execution_count": null,
   "metadata": {},
   "outputs": [],
   "source": [
    "train_scores = list()\n",
    "test_scores = list()\n",
    "false_neg_rates = list()\n",
    "false_pos_rates = list()\n",
    "\n",
    "# grab top n feature names\n",
    "indices = np.argsort(importances)[::-1]\n",
    "top_n_features = feature_names[indices[0:7]]\n",
    "print(feature_names)\n",
    "print(indices)\n",
    "print(indices[0:7])\n",
    "print(top_n_features)\n",
    "print(importances)\n",
    "\n",
    "for i in range(0, 10):\n",
    "    # rebuild training and test sets with feature subset\n",
    "    sampled_data = sample_data(data_moving_avg, data_sample_size)\n",
    "    targets = sampled_data['ignition']\n",
    "    data = sampled_data.drop(['ignition'], axis=1)\n",
    "    data_subset = data[top_n_features]\n",
    "    x_train, x_test, y_train, y_test = train_test_split(data_subset.values, targets.values)\n",
    "\n",
    "    # instantiate and train classifier\n",
    "    catboost_model = CatBoostClassifier(**known_params)\n",
    "    catboost_model.fit(x_train, y_train)\n",
    "\n",
    "    predicted_y = catboost_model.predict(x_test)\n",
    "    \n",
    "    training_score = average_precision_score(catboost_model.predict(x_train), y_train)\n",
    "    test_score = average_precision_score(predicted_y, y_test)\n",
    "\n",
    "    train_scores.append(training_score)\n",
    "    test_scores.append(test_score)\n",
    "    \n",
    "    false_neg_rate, false_pos_rate = calc_false_neg_pos_rate(catboost_model, x_test, y_test)\n",
    "\n",
    "    false_neg_rates.append(false_neg_rate)\n",
    "    false_pos_rates.append(false_pos_rate)"
   ]
  },
  {
   "cell_type": "code",
   "execution_count": null,
   "metadata": {},
   "outputs": [],
   "source": [
    "sns.set_context(\"notebook\", font_scale=1.5, rc={\"lines.linewidth\": 2.5})\n",
    "\n",
    "ax = sns.kdeplot(train_scores, label=\"Training data\", shade=True, color=\"darkblue\")\n",
    "ax = sns.kdeplot(test_scores, label=\"Test data\", shade=True, color=\"darkred\")\n",
    "ax.set_title(\"Precision-recall score distributions\")\n",
    "ax.set(xlabel='Avg. precision-recall score', ylabel='Density')\n",
    "plt.legend()\n",
    "plt.legend(loc='upper left')\n",
    "\n",
    "plt.show()"
   ]
  },
  {
   "cell_type": "code",
   "execution_count": null,
   "metadata": {},
   "outputs": [],
   "source": [
    "ax = sns.kdeplot(false_neg_rates, label=\"False negative\", shade=True, color=\"darkblue\")\n",
    "ax = sns.kdeplot(false_pos_rates, label=\"False positive\", shade=True, color=\"darkred\")\n",
    "ax.set_title(\"False positive and negative rates\")\n",
    "ax.set(xlabel='Rate', ylabel='Density')\n",
    "plt.legend()\n",
    "\n",
    "plt.show()"
   ]
  },
  {
   "cell_type": "code",
   "execution_count": null,
   "metadata": {},
   "outputs": [],
   "source": [
    "plt.scatter(false_neg_rates, false_pos_rates, s=5)\n",
    "plt.xlabel(\"False negative rate\")\n",
    "plt.ylabel(\"False positive rate\")\n",
    "plt.title(\"False positive vs false negative rate\")\n",
    "\n",
    "plt.show()"
   ]
  },
  {
   "cell_type": "markdown",
   "metadata": {},
   "source": [
    "## Final results"
   ]
  },
  {
   "cell_type": "code",
   "execution_count": null,
   "metadata": {},
   "outputs": [],
   "source": [
    "model_score_comparisions"
   ]
  },
  {
   "cell_type": "code",
   "execution_count": null,
   "metadata": {},
   "outputs": [],
   "source": [
    "model_score_history"
   ]
  }
 ],
 "metadata": {
  "kernelspec": {
   "display_name": "Python 3",
   "language": "python",
   "name": "python3"
  },
  "language_info": {
   "codemirror_mode": {
    "name": "ipython",
    "version": 3
   },
   "file_extension": ".py",
   "mimetype": "text/x-python",
   "name": "python",
   "nbconvert_exporter": "python",
   "pygments_lexer": "ipython3",
   "version": "3.6.9"
  }
 },
 "nbformat": 4,
 "nbformat_minor": 2
}
