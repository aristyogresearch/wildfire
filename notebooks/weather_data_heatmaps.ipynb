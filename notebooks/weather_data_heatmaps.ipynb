{
 "cells": [
  {
   "cell_type": "code",
   "execution_count": 1,
   "metadata": {},
   "outputs": [
    {
     "ename": "ModuleNotFoundError",
     "evalue": "No module named 'contextily'",
     "output_type": "error",
     "traceback": [
      "\u001b[0;31m---------------------------------------------------------------\u001b[0m",
      "\u001b[0;31mModuleNotFoundError\u001b[0m           Traceback (most recent call last)",
      "\u001b[0;32m<ipython-input-1-3372b50637c1>\u001b[0m in \u001b[0;36m<module>\u001b[0;34m()\u001b[0m\n\u001b[1;32m      2\u001b[0m \u001b[0;32mimport\u001b[0m \u001b[0mpandas\u001b[0m \u001b[0;32mas\u001b[0m \u001b[0mpd\u001b[0m\u001b[0;34m\u001b[0m\u001b[0;34m\u001b[0m\u001b[0m\n\u001b[1;32m      3\u001b[0m \u001b[0;32mimport\u001b[0m \u001b[0mgeopandas\u001b[0m \u001b[0;32mas\u001b[0m \u001b[0mgpd\u001b[0m\u001b[0;34m\u001b[0m\u001b[0;34m\u001b[0m\u001b[0m\n\u001b[0;32m----> 4\u001b[0;31m \u001b[0;32mimport\u001b[0m \u001b[0mcontextily\u001b[0m \u001b[0;32mas\u001b[0m \u001b[0mctx\u001b[0m\u001b[0;34m\u001b[0m\u001b[0;34m\u001b[0m\u001b[0m\n\u001b[0m\u001b[1;32m      5\u001b[0m \u001b[0;32mimport\u001b[0m \u001b[0mmatplotlib\u001b[0m\u001b[0;34m.\u001b[0m\u001b[0mpyplot\u001b[0m \u001b[0;32mas\u001b[0m \u001b[0mplt\u001b[0m\u001b[0;34m\u001b[0m\u001b[0;34m\u001b[0m\u001b[0m\n\u001b[1;32m      6\u001b[0m \u001b[0;32mimport\u001b[0m \u001b[0mnumpy\u001b[0m \u001b[0;32mas\u001b[0m \u001b[0mnp\u001b[0m\u001b[0;34m\u001b[0m\u001b[0;34m\u001b[0m\u001b[0m\n",
      "\u001b[0;31mModuleNotFoundError\u001b[0m: No module named 'contextily'"
     ]
    }
   ],
   "source": [
    "import pandas_profiling\n",
    "import pandas as pd\n",
    "import geopandas as gpd\n",
    "import contextily as ctx\n",
    "import matplotlib.pyplot as plt\n",
    "import numpy as np\n",
    "from scipy.interpolate import griddata\n",
    "from geopandas import GeoSeries\n",
    "from pyproj import Proj, transform\n",
    "from descartes import PolygonPatch\n",
    "%matplotlib inline"
   ]
  },
  {
   "cell_type": "code",
   "execution_count": null,
   "metadata": {},
   "outputs": [],
   "source": [
    "time_subset = '2015-11-23 18:00:00'\n",
    "data_type = 'veg'\n",
    "\n",
    "LAT_START = 31.52\n",
    "LON_START = -125.48\n",
    "LAT_END = 43.0\n",
    "LON_END = -113.131\n",
    "GRID_SPACING = 0.1\n",
    "\n",
    "num_contour_levels = 50\n",
    "weather_data = '../data/NOAA_weather_data/2005-2015_california_box_all.csv'\n",
    "weather_data_ca_only = '../data/NOAA_weather_data/2005-2015_california_only_all.csv'\n",
    "states_shapefile = '../data/spatial_data/cb_2018_us_state_500k.shp'"
   ]
  },
  {
   "cell_type": "code",
   "execution_count": null,
   "metadata": {},
   "outputs": [],
   "source": [
    "def regularize_grid(data, data_type):\n",
    "    #data = data.dropna()\n",
    "    \n",
    "    # data coordinates and values\n",
    "    x = data['lon']\n",
    "    y = data['lat']\n",
    "    z = data[data_type]\n",
    "\n",
    "    # target grid to interpolate to\n",
    "    xi = np.arange(LON_START,LON_END,GRID_SPACING)\n",
    "    yi = np.arange(LAT_START,LAT_END,GRID_SPACING)\n",
    "    xi,yi = np.meshgrid(xi,yi)\n",
    "\n",
    "    # interpolate\n",
    "    zi = griddata((x,y),z,(xi,yi),method='cubic')\n",
    "    \n",
    "    return xi, yi, zi\n",
    "\n",
    "def get_california_polygon(shapefile):\n",
    "    gdf = gpd.read_file(shapefile)\n",
    "    california = gdf[gdf['NAME'] == 'California']\n",
    "    return(california)\n",
    "\n",
    "def convert_map_projection(xi, yi):\n",
    "    inProj = Proj(init='epsg:4326')\n",
    "    outProj = Proj(init='epsg:3857')\n",
    "    x2, y2 = transform(inProj, outProj, xi, yi)\n",
    "    return(x2, y2)"
   ]
  },
  {
   "cell_type": "code",
   "execution_count": null,
   "metadata": {},
   "outputs": [],
   "source": [
    "data = pd.read_csv(weather_data)\n",
    "data_california_only = pd.read_csv(weather_data_ca_only)\n",
    "data_one_hour = data[data['time'] == time_subset]\n",
    "data_one_hour = data_one_hour.fillna(0)"
   ]
  },
  {
   "cell_type": "code",
   "execution_count": null,
   "metadata": {},
   "outputs": [],
   "source": [
    "xi, yi, zi = regularize_grid(data_one_hour, data_type)\n",
    "california = get_california_polygon(states_shapefile)"
   ]
  },
  {
   "cell_type": "code",
   "execution_count": null,
   "metadata": {},
   "outputs": [],
   "source": [
    "multipoly = california.loc[16, 'geometry']\n",
    "california_land_mass = multipoly[-1]\n",
    "\n",
    "plt.rcParams[\"figure.figsize\"] = (8,8)\n",
    "fig = plt.figure() \n",
    "ax = fig.gca() \n",
    "ax.add_patch(PolygonPatch(california_land_mass, fc='none', ec='black', lw='2', zorder=2))\n",
    "ax.contourf(xi, yi, zi, num_contour_levels, cmap='viridis')\n",
    "ax.axis('scaled')\n",
    "plt.show()"
   ]
  },
  {
   "cell_type": "code",
   "execution_count": null,
   "metadata": {},
   "outputs": [],
   "source": [
    "x2, y2 = convert_map_projection(xi, yi)\n",
    "california_3857 = california.to_crs(epsg=3857)\n",
    "\n",
    "plt.rcParams[\"figure.figsize\"] = (8,8)\n",
    "fig = plt.figure() \n",
    "ax = california_3857.plot(figsize=(10, 10), alpha=0.0, edgecolor='k')\n",
    "ax.contourf(x2, y2, zi, num_contour_levels, alpha=0.5, antialiased=True, cmap='viridis')\n",
    "ctx.add_basemap(ax, url=ctx.providers.Stamen.Terrain, zoom=6)\n",
    "plt.show()"
   ]
  },
  {
   "cell_type": "code",
   "execution_count": null,
   "metadata": {},
   "outputs": [],
   "source": [
    "x = data_california_only['lon']\n",
    "y = data_california_only['lat']\n",
    "\n",
    "plt.rcParams[\"figure.figsize\"] = (8,8)\n",
    "plt.contourf(xi, yi, zi, num_contour_levels, cmap='viridis')\n",
    "plt.plot(x, y, 'k.')\n",
    "plt.xlabel('Longitude',fontsize=16)\n",
    "plt.ylabel('Latitude',fontsize=16)\n",
    "plt.show()"
   ]
  },
  {
   "cell_type": "code",
   "execution_count": null,
   "metadata": {},
   "outputs": [],
   "source": [
    "x = data_california_only['lon']\n",
    "y = data_california_only['lat']\n",
    "\n",
    "plt.rcParams[\"figure.figsize\"] = (8,8)\n",
    "plt.contourf(xi, yi, zi, num_contour_levels, cmap='viridis')\n",
    "plt.plot(x, y, 'k.')\n",
    "plt.xlabel('Longitude',fontsize=16)\n",
    "plt.ylabel('Latitude',fontsize=16)\n",
    "plt.show()"
   ]
  },
  {
   "cell_type": "code",
   "execution_count": null,
   "metadata": {},
   "outputs": [],
   "source": []
  }
 ],
 "metadata": {
  "kernelspec": {
   "display_name": "Python 3",
   "language": "python",
   "name": "python3"
  },
  "language_info": {
   "codemirror_mode": {
    "name": "ipython",
    "version": 3
   },
   "file_extension": ".py",
   "mimetype": "text/x-python",
   "name": "python",
   "nbconvert_exporter": "python",
   "pygments_lexer": "ipython3",
   "version": "3.6.9"
  }
 },
 "nbformat": 4,
 "nbformat_minor": 2
}
