{
 "cells": [
  {
   "cell_type": "markdown",
   "metadata": {},
   "source": [
    "### Introduction\n",
    "Goal here is to use an XGBoost classifier to predict wildfire ignition from weather variables. Three anticipated issues are:\n",
    "\n",
    "1. Large dataset size - current working dataset has 7.3 million observations of 25 variables and this is likely to grow as the project progresses\n",
    "2. Highly imbalanced data (~20 times more observations without fire than with)\n",
    "3. Overlapping classes - just because the right conditions for ignition exist does not guarantee a fire.\n",
    "\n",
    "We can hopefully deal with 1 and 2 fairly easily. The third is a deeper question/problem that will need some additional thought and likely a switch from binary classification to ignition probabilities and regression."
   ]
  },
  {
   "cell_type": "code",
   "execution_count": 1,
   "metadata": {},
   "outputs": [
    {
     "data": {
      "text/plain": [
       "<Figure size 432x288 with 0 Axes>"
      ]
     },
     "metadata": {},
     "output_type": "display_data"
    }
   ],
   "source": [
    "import pandas as pd\n",
    "import numpy as np\n",
    "import matplotlib.pyplot as plt\n",
    "import seaborn as sns\n",
    "import random\n",
    "from time import time\n",
    "from sklearn.metrics import average_precision_score\n",
    "from sklearn.metrics import confusion_matrix\n",
    "from sklearn.metrics import plot_confusion_matrix\n",
    "from sklearn.metrics import make_scorer\n",
    "from sklearn.model_selection import train_test_split\n",
    "from sklearn.model_selection import StratifiedShuffleSplit\n",
    "from sklearn.model_selection import RandomizedSearchCV\n",
    "from sklearn.utils.fixes import loguniform\n",
    "from xgboost import XGBClassifier\n",
    "from IPython.display import display_markdown\n",
    "from scipy.interpolate import griddata\n",
    "\n",
    "%matplotlib inline\n",
    "sns.set_style(\"ticks\")\n",
    "sns.set_context(\"notebook\", font_scale=1.5, rc={\"lines.linewidth\": 2.5})\n",
    "sns.despine()"
   ]
  },
  {
   "cell_type": "markdown",
   "metadata": {},
   "source": [
    "**Variable definitions**"
   ]
  },
  {
   "cell_type": "code",
   "execution_count": 2,
   "metadata": {},
   "outputs": [],
   "source": [
    "data_file = '../data/training_data/1992-1997_training_data.csv'\n",
    "rand_seed = 123\n",
    "data_sample_fraction = 0.001\n",
    "test_train_split_ratio = 0.3\n",
    "xgb_jobs = 5\n",
    "optimization_jobs = 3\n",
    "search_iterations = 100\n",
    "search_scoring_func = make_scorer(average_precision_score)"
   ]
  },
  {
   "cell_type": "markdown",
   "metadata": {},
   "source": [
    "**Functions**"
   ]
  },
  {
   "cell_type": "code",
   "execution_count": 3,
   "metadata": {},
   "outputs": [],
   "source": [
    "def random_sample(data, fraction):\n",
    "    n = len(data)\n",
    "    k = int(len(data) * fraction)\n",
    "    \n",
    "    indices = random.sample(range(0, n), k)\n",
    "    \n",
    "    return data.iloc[indices]\n",
    "\n",
    "def print_model_score(model, x_train, y_train, x_test, y_test):\n",
    "    training_score = average_precision_score(model.predict(x_train), y_train)\n",
    "    test_score = average_precision_score(model.predict(x_test), y_test)\n",
    "    \n",
    "    #print('Average precision-recall score, training set: {}'.format(np.round(training_score, 2)))\n",
    "    #print('<b>Average precision-recall score, test set: {}</b>'.format(np.round(test_score,2)))\n",
    "    \n",
    "    display_markdown('**Average precision-recall score, training set: {}**'.format(np.round(training_score, 2)), raw=True)\n",
    "    display_markdown('**Average precision-recall score, test set: {}**'.format(np.round(test_score, 2)), raw=True)\n",
    "\n",
    "    \n",
    "def display_confusion_matrix(model, class_names, x_test, y_test):\n",
    "\n",
    "    raw_cm = confusion_matrix(y_test, model.predict(x_test))\n",
    "    print(\"Raw count confusion matrix\")\n",
    "    print(raw_cm)\n",
    "    \n",
    "    normalized_cm = plot_confusion_matrix(model, x_test, y_test,\n",
    "                                 display_labels=class_names,\n",
    "                                 cmap=plt.cm.Blues,\n",
    "                                 normalize='true')\n",
    "\n",
    "    normalized_cm.ax_.set_title(\"Normalized confusion matrix\")\n",
    "\n",
    "    plt.show()\n",
    "    \n",
    "def stratified_train_test_split(data, targets, rand_seed):\n",
    "    sss = StratifiedShuffleSplit(\n",
    "        n_splits=1,\n",
    "        test_size=test_train_split_ratio, \n",
    "        random_state=rand_seed\n",
    "    )\n",
    "\n",
    "    for train_index, test_index in sss.split(data, targets):\n",
    "        x_train, x_test = data.iloc[train_index], data.iloc[test_index]\n",
    "        y_train, y_test = targets.iloc[train_index], targets.iloc[test_index]\n",
    "        \n",
    "        return np.array(x_train), np.array(y_train), np.array(x_test), np.array(y_test)\n",
    "\n",
    "def tune_hyperparameters(\n",
    "    known_params,\n",
    "    param_dist, \n",
    "    x_train, \n",
    "    y_train, \n",
    "    num_jobs, \n",
    "    search_iterations, \n",
    "    search_scoring_func\n",
    "):\n",
    "\n",
    "    # initalize XGBoost classifier\n",
    "    xgb_mod = XGBClassifier(**known_params)\n",
    "\n",
    "    # set up random search\n",
    "    xgb_random_search = RandomizedSearchCV(\n",
    "        xgb_mod, \n",
    "        param_distributions=param_dist,\n",
    "        scoring=search_scoring_func,\n",
    "        n_iter=search_iterations,\n",
    "        n_jobs=num_jobs\n",
    "    )\n",
    "\n",
    "    # run and time search\n",
    "    start = time()\n",
    "    xgb_best_model = xgb_random_search.fit(x_train, y_train)\n",
    "    print(\"RandomizedSearchCV took %.f min. for %d candidate\"\n",
    "          \" parameter settings.\" % (((time() - start)/60), search_iterations))\n",
    "    \n",
    "    return xgb_best_model, xgb_random_search\n",
    "\n",
    "def regularize_grid(x, y, z, resolution):\n",
    "\n",
    "    # target grid to interpolate to\n",
    "    xi = np.arange(min(x), max(x), ((max(x) - min(x)) / resolution))\n",
    "    yi = np.arange(min(y), max(y), ((max(y) - min(y)) / resolution))\n",
    "    xi, yi = np.meshgrid(xi, yi)\n",
    "\n",
    "    # interpolate\n",
    "    zi = griddata((x, y), z, (xi, yi), method='linear')\n",
    "    \n",
    "    return xi, yi, zi"
   ]
  },
  {
   "cell_type": "code",
   "execution_count": 4,
   "metadata": {},
   "outputs": [
    {
     "name": "stdout",
     "output_type": "stream",
     "text": [
      "Total observations: 7.3E+06\n",
      "Ignitions count: 3.7E+05\n",
      "Non ignitions count: 6.9E+06\n"
     ]
    }
   ],
   "source": [
    "# read data\n",
    "data = pd.read_csv(data_file, low_memory=False)\n",
    "\n",
    "# set ignition to 0 for noxels with no fire\n",
    "data['ignition'].fillna(0, inplace=True)\n",
    "\n",
    "# count number of observations in each class\n",
    "ignition_count = len(data[data[\"ignition\"] == 1])\n",
    "no_ignition_count = len(data) - ignition_count\n",
    "print('Total observations: {:.1E}'.format(len(data)))\n",
    "print('Ignitions count: {:.1E}'.format(ignition_count))\n",
    "print('Non ignitions count: {:.1E}'.format(no_ignition_count))"
   ]
  },
  {
   "cell_type": "markdown",
   "metadata": {},
   "source": [
    "OK, so before we dig into this much farther, I am noticing an issue. For some fires we know the discovery time and some we do not. I can imagine a few ways of dealing with this.\n",
    "\n",
    "1. Throw out fires for which we do not know the discovery time\n",
    "2. Average everything at the day resolution level\n",
    "\n",
    "I am leaning toward option two because:\n",
    "\n",
    "1. Discovery time is not ignition time so the weather state during that exact hour may not be pertinent anyway - what if the fire had already been burning for hours and the temperature had changed drastically?\n",
    "2. The data is already skewed toward no ignition observations, I would rather not have to throw out even more fires. Also, doing so will mean that I have observations where there was a fire which was not included in the dataset. This will only exacerbate problem 3 above.\n",
    "\n",
    "Specific plan is actually to roll a moving average across the data, including ignition value."
   ]
  },
  {
   "cell_type": "code",
   "execution_count": 5,
   "metadata": {},
   "outputs": [],
   "source": [
    "# roll data with 24 hr windowed mean\n",
    "data_moving_avg = data.groupby(['lat', 'lon']).rolling(24, on=\"weather_bin_time\").mean()\n",
    "data_moving_avg.reset_index(drop=True, inplace=True)\n",
    "\n",
    "# clean up dataframe\n",
    "data_moving_avg['weather_bin_time'] = pd.to_datetime(data_moving_avg['weather_bin_time'])\n",
    "data_moving_avg['weather_bin_month'] = data_moving_avg['weather_bin_time'].dt.month\n",
    "data_moving_avg['weather_bin_year'] = data_moving_avg['weather_bin_time'].dt.year\n",
    "data_moving_avg.drop(['fire_discovery_time', 'size', 'size_class', 'weather_bin_time'], axis=1, inplace=True)\n",
    "data_moving_avg.dropna(inplace=True)"
   ]
  },
  {
   "cell_type": "code",
   "execution_count": 6,
   "metadata": {},
   "outputs": [
    {
     "name": "stdout",
     "output_type": "stream",
     "text": [
      "Total observations: 7.3E+06\n",
      "Ignitions count: 9.1E+05\n",
      "Non ignitions count: 6.4E+06\n"
     ]
    }
   ],
   "source": [
    "ignitions = data_moving_avg[data_moving_avg['ignition'] > 0]\n",
    "ignitions = ignitions.assign(ignition=1)\n",
    "no_ignitions = data_moving_avg[data_moving_avg['ignition'] == 0]\n",
    "\n",
    "print('Total observations: {:.1E}'.format(len(data_moving_avg)))\n",
    "print('Ignitions count: {:.1E}'.format(len(ignitions)))\n",
    "print('Non ignitions count: {:.1E}'.format(len(no_ignitions)))"
   ]
  },
  {
   "cell_type": "markdown",
   "metadata": {},
   "source": [
    "OK, now we need to randomly sample the positive and negative datasets, preserving the sample size ratio."
   ]
  },
  {
   "cell_type": "code",
   "execution_count": 7,
   "metadata": {},
   "outputs": [],
   "source": [
    "no_ignitions_sample = random_sample(no_ignitions, data_sample_fraction)\n",
    "ignitions_sample = random_sample(ignitions, data_sample_fraction)\n",
    "\n",
    "sampled_data = no_ignitions_sample.append(ignitions_sample)"
   ]
  },
  {
   "cell_type": "markdown",
   "metadata": {},
   "source": [
    "**Game on!** Let's keep track of our results as we begin to play with the data:"
   ]
  },
  {
   "cell_type": "code",
   "execution_count": null,
   "metadata": {},
   "outputs": [],
   "source": [
    "results = pd.DataFrame(columns=['Model description', 'Precision recall score', 'False negative rate','False '])"
   ]
  },
  {
   "cell_type": "markdown",
   "metadata": {},
   "source": [
    "### Baseline XGBoost model"
   ]
  },
  {
   "cell_type": "code",
   "execution_count": 8,
   "metadata": {},
   "outputs": [
    {
     "name": "stdout",
     "output_type": "stream",
     "text": [
      "XGBClassifier training took 0.0 min.\n"
     ]
    },
    {
     "data": {
      "text/markdown": [
       "**Average precision-recall score, training set: 0.24**"
      ]
     },
     "metadata": {},
     "output_type": "display_data"
    },
    {
     "data": {
      "text/markdown": [
       "**Average precision-recall score, test set: 0.1**"
      ]
     },
     "metadata": {},
     "output_type": "display_data"
    },
    {
     "name": "stdout",
     "output_type": "stream",
     "text": [
      "Raw count confusion matrix\n",
      "[[1576   14]\n",
      " [ 196   31]]\n"
     ]
    },
    {
     "data": {
      "image/png": "[encoded data removed]",
      "text/plain": [
       "<Figure size 432x288 with 2 Axes>"
      ]
     },
     "metadata": {
      "needs_background": "light"
     },
     "output_type": "display_data"
    }
   ],
   "source": [
    "# make training and test data from sampled fire weather data\n",
    "class_names = np.array(['No ignition', 'Ignition'])\n",
    "unbalanced_targets = sampled_data['ignition']\n",
    "unbalanced_data = sampled_data.drop(['ignition'], axis=1)\n",
    "x_train_unbalanced, x_test_unbalanced, y_train_unbalanced, y_test_unbalanced = train_test_split(unbalanced_data.values, unbalanced_targets.values, random_state=rand_seed)\n",
    "\n",
    "# instantiate and train classifier with defaults\n",
    "default_xgb_model = XGBClassifier(\n",
    "    n_jobs=(xgb_jobs * optimization_jobs), # use everything we've got! \n",
    "    random_state=rand_seed\n",
    ")\n",
    "\n",
    "start = time()\n",
    "default_xgb_model.fit(x_train_unbalanced, y_train_unbalanced)\n",
    "print('XGBClassifier training took {} min.'.format(np.round((time() - start)/60), 2))\n",
    "    \n",
    "# score and show confusion matrix\n",
    "print_model_score(default_xgb_model, x_train_unbalanced, y_train_unbalanced, x_test_unbalanced, y_test_unbalanced)\n",
    "display_confusion_matrix(default_xgb_model, class_names, x_test_unbalanced, y_test_unbalanced)"
   ]
  },
  {
   "cell_type": "markdown",
   "metadata": {},
   "source": [
    "OK, not good - we missed 78% of fires. Next let's do two things:\n",
    "\n",
    "1. Stratify the train-test-split so that the training and test sets have the same ratio of ignition to no ignition as the whole dataset\n",
    "2. Try to alleviate the problems caused by imbalanced classes with XGBClassifier's class weight parameter"
   ]
  },
  {
   "cell_type": "markdown",
   "metadata": {},
   "source": [
    "### Train-test-split stratification and class weighting"
   ]
  },
  {
   "cell_type": "code",
   "execution_count": 9,
   "metadata": {},
   "outputs": [],
   "source": [
    "x_train_stratified, y_train_stratified, x_test_stratified, y_test_stratified = stratified_train_test_split(unbalanced_data, unbalanced_targets, rand_seed)"
   ]
  },
  {
   "cell_type": "code",
   "execution_count": 10,
   "metadata": {},
   "outputs": [
    {
     "name": "stdout",
     "output_type": "stream",
     "text": [
      "Class weight: 18.66\n",
      "\n",
      "XGBClassifier training took 0.0 min.\n"
     ]
    },
    {
     "data": {
      "text/markdown": [
       "**Average precision-recall score, training set: 0.59**"
      ]
     },
     "metadata": {},
     "output_type": "display_data"
    },
    {
     "data": {
      "text/markdown": [
       "**Average precision-recall score, test set: 0.55**"
      ]
     },
     "metadata": {},
     "output_type": "display_data"
    },
    {
     "name": "stdout",
     "output_type": "stream",
     "text": [
      "Raw count confusion matrix\n",
      "[[1264  644]\n",
      " [  22  250]]\n"
     ]
    },
    {
     "data": {
      "image/png": "[encoded data removed]",
      "text/plain": [
       "<Figure size 432x288 with 2 Axes>"
      ]
     },
     "metadata": {
      "needs_background": "light"
     },
     "output_type": "display_data"
    }
   ],
   "source": [
    "class_weight = no_ignition_count / ignition_count\n",
    "print('Class weight: {}\\n'.format(np.round(class_weight,2)))\n",
    "\n",
    "# instantiate classifier with class weight\n",
    "weighted_xgb_model = XGBClassifier(\n",
    "    n_jobs=(xgb_jobs * optimization_jobs), # use everything we've got! \n",
    "    random_state=rand_seed,\n",
    "    scale_pos_weight=class_weight\n",
    ")\n",
    "# train on stratified data\n",
    "start = time()\n",
    "weighted_xgb_model.fit(x_train_stratified, y_train_stratified)\n",
    "print('XGBClassifier training took {} min.'.format(np.round((time() - start)/60), 2))\n",
    "\n",
    "# score and show confusion matrix\n",
    "print_model_score(weighted_xgb_model, x_train_stratified, y_train_stratified, x_test_stratified, y_test_stratified)\n",
    "display_confusion_matrix(weighted_xgb_model, class_names, x_test_stratified, y_test_stratified)"
   ]
  },
  {
   "cell_type": "markdown",
   "metadata": {},
   "source": [
    "Better, due to the nature of the problem, the false negative rate is most important but I would also like to see false positives decrease as well."
   ]
  },
  {
   "cell_type": "markdown",
   "metadata": {},
   "source": [
    "### Class weight optimization"
   ]
  },
  {
   "cell_type": "code",
   "execution_count": 11,
   "metadata": {},
   "outputs": [
    {
     "name": "stdout",
     "output_type": "stream",
     "text": [
      "RandomizedSearchCV took 1 min. for 100 candidate parameter settings.\n"
     ]
    }
   ],
   "source": [
    "known_params = {\n",
    "    'n_jobs': xgb_jobs, \n",
    "    'random_state': rand_seed\n",
    "}\n",
    "\n",
    "param_dist = {\n",
    "    'scale_pos_weight': np.arange(0.0, 1000, 0.1)\n",
    "}\n",
    "\n",
    "optimized_class_weight_model, xgb_random_search = tune_hyperparameters(\n",
    "    known_params,\n",
    "    param_dist, \n",
    "    x_train_stratified, \n",
    "    y_train_stratified, \n",
    "    optimization_jobs, \n",
    "    search_iterations, \n",
    "    search_scoring_func\n",
    ")"
   ]
  },
  {
   "cell_type": "code",
   "execution_count": 12,
   "metadata": {},
   "outputs": [
    {
     "data": {
      "image/png": "[encoded data removed]",
      "text/plain": [
       "<Figure size 432x288 with 1 Axes>"
      ]
     },
     "metadata": {
      "needs_background": "light"
     },
     "output_type": "display_data"
    }
   ],
   "source": [
    "class_weight_optimization_results = pd.DataFrame(xgb_random_search.cv_results_).dropna()\n",
    "\n",
    "plt.scatter(class_weight_optimization_results.param_scale_pos_weight, class_weight_optimization_results.mean_test_score, s=5)\n",
    "plt.xlabel(\"Class weight\")\n",
    "plt.ylabel(\"Mean score\")\n",
    "plt.title(\"Class weight vs score\")\n",
    "plt.show()"
   ]
  },
  {
   "cell_type": "code",
   "execution_count": 13,
   "metadata": {},
   "outputs": [
    {
     "data": {
      "text/markdown": [
       "**Average precision-recall score, training set: 0.58**"
      ]
     },
     "metadata": {},
     "output_type": "display_data"
    },
    {
     "data": {
      "text/markdown": [
       "**Average precision-recall score, test set: 0.54**"
      ]
     },
     "metadata": {},
     "output_type": "display_data"
    },
    {
     "name": "stdout",
     "output_type": "stream",
     "text": [
      "Raw count confusion matrix\n",
      "[[1280  628]\n",
      " [  27  245]]\n"
     ]
    },
    {
     "data": {
      "image/png": "[encoded data removed]",
      "text/plain": [
       "<Figure size 432x288 with 2 Axes>"
      ]
     },
     "metadata": {
      "needs_background": "light"
     },
     "output_type": "display_data"
    }
   ],
   "source": [
    "# score the best model and show confusion matrix\n",
    "print_model_score(optimized_class_weight_model, x_train_stratified, y_train_stratified, x_test_stratified, y_test_stratified)\n",
    "display_confusion_matrix(optimized_class_weight_model, class_names, x_test_stratified, y_test_stratified)"
   ]
  },
  {
   "cell_type": "markdown",
   "metadata": {},
   "source": [
    "Strange, attempting to optimize the class weight definitely did not help. In fact - it made things worse. Not quite sure how that is possible? Must be overfitting. The only way I can interpret this result is as follows: optimizing the class weight for best possible precision-recall score on the training set causes a decrease in model performance on the test set."
   ]
  },
  {
   "cell_type": "markdown",
   "metadata": {},
   "source": [
    "What's next? My thought here is - we have this giant data set and we are only sampling it at 1-10%. We can easily get matched N samples from both classes and still leave 30% hidden for testing."
   ]
  },
  {
   "cell_type": "markdown",
   "metadata": {},
   "source": [
    "### Matched samples"
   ]
  },
  {
   "cell_type": "code",
   "execution_count": 14,
   "metadata": {},
   "outputs": [],
   "source": [
    "def k_random_sample(data, k):\n",
    "    n = len(data)\n",
    "    \n",
    "    indices = random.sample(range(0, n), k)\n",
    "    \n",
    "    return data.iloc[indices]\n",
    "\n",
    "k = 1000\n",
    "\n",
    "no_ignitions_sample = k_random_sample(no_ignitions, k)\n",
    "ignitions_sample = k_random_sample(ignitions, k)\n",
    "\n",
    "sampled_data = no_ignitions_sample.append(ignitions_sample)"
   ]
  },
  {
   "cell_type": "code",
   "execution_count": 15,
   "metadata": {},
   "outputs": [
    {
     "name": "stdout",
     "output_type": "stream",
     "text": [
      "XGBClassifier training took 0.0 min.\n"
     ]
    },
    {
     "data": {
      "text/markdown": [
       "**Average precision-recall score, training set: 0.83**"
      ]
     },
     "metadata": {},
     "output_type": "display_data"
    },
    {
     "data": {
      "text/markdown": [
       "**Average precision-recall score, test set: 0.76**"
      ]
     },
     "metadata": {},
     "output_type": "display_data"
    },
    {
     "name": "stdout",
     "output_type": "stream",
     "text": [
      "Raw count confusion matrix\n",
      "[[180  74]\n",
      " [ 41 205]]\n"
     ]
    },
    {
     "data": {
      "image/png": "[encoded data removed]",
      "text/plain": [
       "<Figure size 432x288 with 2 Axes>"
      ]
     },
     "metadata": {
      "needs_background": "light"
     },
     "output_type": "display_data"
    }
   ],
   "source": [
    "# make training and test data from sampled fire weather data\n",
    "class_names = np.array(['No ignition', 'Ignition'])\n",
    "unbalanced_targets = sampled_data['ignition']\n",
    "unbalanced_data = sampled_data.drop(['ignition'], axis=1)\n",
    "x_train_unbalanced, x_test_unbalanced, y_train_unbalanced, y_test_unbalanced = train_test_split(unbalanced_data.values, unbalanced_targets.values, random_state=rand_seed)\n",
    "\n",
    "# instantiate and train classifier with defaults\n",
    "default_xgb_model = XGBClassifier(\n",
    "    n_jobs=(xgb_jobs * optimization_jobs), # use everything we've got! \n",
    "    random_state=rand_seed\n",
    ")\n",
    "\n",
    "start = time()\n",
    "default_xgb_model.fit(x_train_unbalanced, y_train_unbalanced)\n",
    "print('XGBClassifier training took {} min.'.format(np.round((time() - start)/60), 2))\n",
    "    \n",
    "# score and show confusion matrix\n",
    "print_model_score(default_xgb_model, x_train_unbalanced, y_train_unbalanced, x_test_unbalanced, y_test_unbalanced)\n",
    "display_confusion_matrix(default_xgb_model, class_names, x_test_unbalanced, y_test_unbalanced)"
   ]
  },
  {
   "cell_type": "markdown",
   "metadata": {},
   "source": [
    "### Matched samples, optimize class weight?"
   ]
  },
  {
   "cell_type": "code",
   "execution_count": 16,
   "metadata": {},
   "outputs": [
    {
     "name": "stdout",
     "output_type": "stream",
     "text": [
      "RandomizedSearchCV took 1 min. for 100 candidate parameter settings.\n"
     ]
    }
   ],
   "source": [
    "known_params = {\n",
    "    'n_jobs': xgb_jobs, \n",
    "    'random_state': rand_seed\n",
    "}\n",
    "\n",
    "param_dist = {\n",
    "    'scale_pos_weight': np.arange(0.0, 1000, 0.1)\n",
    "}\n",
    "\n",
    "optimized_class_weight_model, xgb_random_search = tune_hyperparameters(\n",
    "    known_params,\n",
    "    param_dist, \n",
    "    x_train_stratified, \n",
    "    y_train_stratified, \n",
    "    optimization_jobs, \n",
    "    search_iterations, \n",
    "    search_scoring_func\n",
    ")"
   ]
  },
  {
   "cell_type": "code",
   "execution_count": 17,
   "metadata": {},
   "outputs": [
    {
     "data": {
      "image/png": "[encoded data removed]",
      "text/plain": [
       "<Figure size 432x288 with 1 Axes>"
      ]
     },
     "metadata": {
      "needs_background": "light"
     },
     "output_type": "display_data"
    }
   ],
   "source": [
    "class_weight_optimization_results = pd.DataFrame(xgb_random_search.cv_results_).dropna()\n",
    "\n",
    "plt.scatter(class_weight_optimization_results.param_scale_pos_weight, class_weight_optimization_results.mean_test_score, s=5)\n",
    "plt.xlabel(\"Class weight\")\n",
    "plt.ylabel(\"Mean score\")\n",
    "plt.title(\"Class weight vs score\")\n",
    "plt.show()"
   ]
  },
  {
   "cell_type": "code",
   "execution_count": 18,
   "metadata": {},
   "outputs": [
    {
     "data": {
      "text/markdown": [
       "**Average precision-recall score, training set: 0.69**"
      ]
     },
     "metadata": {},
     "output_type": "display_data"
    },
    {
     "data": {
      "text/markdown": [
       "**Average precision-recall score, test set: 0.69**"
      ]
     },
     "metadata": {},
     "output_type": "display_data"
    },
    {
     "name": "stdout",
     "output_type": "stream",
     "text": [
      "Raw count confusion matrix\n",
      "[[196  58]\n",
      " [ 61 185]]\n"
     ]
    },
    {
     "data": {
      "image/png": "[encoded data removed]",
      "text/plain": [
       "<Figure size 432x288 with 2 Axes>"
      ]
     },
     "metadata": {
      "needs_background": "light"
     },
     "output_type": "display_data"
    }
   ],
   "source": [
    "# score and show confusion matrix\n",
    "print_model_score(optimized_class_weight_model, x_train_unbalanced, y_train_unbalanced, x_test_unbalanced, y_test_unbalanced)\n",
    "display_confusion_matrix(optimized_class_weight_model, class_names, x_test_unbalanced, y_test_unbalanced)"
   ]
  },
  {
   "cell_type": "markdown",
   "metadata": {},
   "source": [
    "Nope, for whatever reason optimizing class weight on this dataset is nonproductive. OK, let's play with n_estimators and learning rate using the N matched dataset and no class weight."
   ]
  },
  {
   "cell_type": "markdown",
   "metadata": {},
   "source": [
    "### Hyperprameter tuning"
   ]
  },
  {
   "cell_type": "markdown",
   "metadata": {},
   "source": [
    "**Learning rate and estimator count**"
   ]
  },
  {
   "cell_type": "code",
   "execution_count": null,
   "metadata": {},
   "outputs": [],
   "source": [
    "known_params = {\n",
    "    'random_state': rand_seed,\n",
    "    'n_jobs': xgb_jobs\n",
    "}\n",
    "\n",
    "param_dist = {\n",
    "    'learning_rate': loguniform(0.001, 1),\n",
    "    'n_estimators': range(1,10000)\n",
    "}\n",
    "\n",
    "xgb_best_model, xgb_random_search = tune_hyperparameters(\n",
    "    known_params,\n",
    "    param_dist, \n",
    "    x_train_stratified, \n",
    "    y_train_stratified, \n",
    "    optimization_jobs, \n",
    "    search_iterations, \n",
    "    search_scoring_func\n",
    ")"
   ]
  },
  {
   "cell_type": "code",
   "execution_count": null,
   "metadata": {},
   "outputs": [],
   "source": [
    "rand_search_results = pd.DataFrame(xgb_random_search.cv_results_).dropna()\n",
    "\n",
    "x = rand_search_results['param_n_estimators']\n",
    "y = rand_search_results['param_learning_rate']\n",
    "z = rand_search_results['mean_test_score']\n",
    "xi, yi, zi = regularize_grid(x, y, z, 100)\n",
    "\n",
    "plt.contourf(xi, yi, zi, 20, cmap=plt.cm.Blues)\n",
    "plt.xlabel(\"N estimators\")\n",
    "plt.ylabel(\"Learning rate\")\n",
    "plt.title(\"Effect of estimator count and \\nlearning rate on score\")\n",
    "plt.colorbar()\n",
    "plt.show()"
   ]
  },
  {
   "cell_type": "code",
   "execution_count": null,
   "metadata": {},
   "outputs": [],
   "source": [
    "# score and show confusion matrix\n",
    "print_model_score(optimized_class_weight_model, x_train_unbalanced, y_train_unbalanced, x_test_unbalanced, y_test_unbalanced)\n",
    "display_confusion_matrix(optimized_class_weight_model, class_names, x_test_unbalanced, y_test_unbalanced)"
   ]
  },
  {
   "cell_type": "code",
   "execution_count": null,
   "metadata": {},
   "outputs": [],
   "source": [
    "importances = xgb_best_model.feature_importances_\n",
    "indices = np.argsort(importances)[::-1]\n",
    "feature_names = np.array(list(unbalanced_data))\n",
    "\n",
    "plt.figure(figsize=(20,10))\n",
    "plt.rc('axes', titlesize=30)     # fontsize of the axes title\n",
    "plt.rc('axes', labelsize=30)    # fontsize of the x and y labels\n",
    "plt.rc('xtick', labelsize=15)    # fontsize of the tick labels\n",
    "plt.rc('ytick', labelsize=25)    # fontsize of the tick labels\n",
    "plt.title(\"Feature importance\")\n",
    "plt.bar(range(x_test_unbalanced.shape[1]), importances[indices],\n",
    "       color=\"darkblue\", align=\"center\")\n",
    "plt.xticks(np.arange(len(indices)), feature_names[indices], rotation='vertical')\n",
    "plt.xlim([-1, x_test_unbalanced.shape[1]])\n",
    "plt.xlabel(\"Feature\")\n",
    "plt.ylabel(\"Relative importance\")\n",
    "plt.show()"
   ]
  }
 ],
 "metadata": {
  "kernelspec": {
   "display_name": "Python 3",
   "language": "python",
   "name": "python3"
  },
  "language_info": {
   "codemirror_mode": {
    "name": "ipython",
    "version": 3
   },
   "file_extension": ".py",
   "mimetype": "text/x-python",
   "name": "python",
   "nbconvert_exporter": "python",
   "pygments_lexer": "ipython3",
   "version": "3.6.9"
  }
 },
 "nbformat": 4,
 "nbformat_minor": 2
}
