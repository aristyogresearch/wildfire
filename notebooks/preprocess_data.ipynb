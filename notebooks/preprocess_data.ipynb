{
 "cells": [
  {
   "cell_type": "code",
   "execution_count": 1,
   "metadata": {},
   "outputs": [],
   "source": [
    "import pandas as pd"
   ]
  },
  {
   "cell_type": "code",
   "execution_count": 2,
   "metadata": {},
   "outputs": [],
   "source": [
    "input_data_file = '../data/training_data/1992-2015_training_data.csv'\n",
    "output_data_file = '../data/training_data/1992-2015_training_data_raw.csv'\n",
    "\n",
    "dtypes = {\n",
    "    'weather_bin_time': object,\n",
    "    'lat': float,\n",
    "    'lon': float,\n",
    "    'air.sfc': float,\n",
    "    'air.2m': float,\n",
    "    'apcp': float,\n",
    "    'crain': float,\n",
    "    'rhum.2m': float,\n",
    "    'dpt.2m': float,\n",
    "    'pres.sfc': float,\n",
    "    'uwnd.10m': float,\n",
    "    'vwnd.10m': float,\n",
    "    'veg': float,\n",
    "    'dlwrf': float,\n",
    "    'dswrf': float,\n",
    "    'lcdc': float,\n",
    "    'hcdc': float,\n",
    "    'mcdc': float,\n",
    "    'hpbl': float,\n",
    "    'prate': float,\n",
    "    'vis': float,\n",
    "    'ulwrf.sfc': float,\n",
    "    'fire_discovery_time': float,\n",
    "    'size': float,\n",
    "    'size_class': object,\n",
    "    'ignition': float\n",
    "}\n",
    "\n",
    "output_features = [\n",
    "    'weather_bin_time', # Note: daily avg. data has no time column, just day, month, year\n",
    "    'weather_bin_month',\n",
    "    'weather_bin_year',\n",
    "    'weather_bin_day',\n",
    "    'air.2m',\n",
    "    'apcp',\n",
    "    'rhum.2m',\n",
    "    'dpt.2m',\n",
    "    'pres.sfc',\n",
    "    'uwnd.10m', \n",
    "    'vwnd.10m',\n",
    "    'veg',\n",
    "    'vis',\n",
    "    'lat',\n",
    "    'lon',\n",
    "    'ignition'\n",
    "]"
   ]
  },
  {
   "cell_type": "code",
   "execution_count": 3,
   "metadata": {},
   "outputs": [],
   "source": [
    "# read data\n",
    "data = pd.read_csv(input_data_file, dtype=dtypes)"
   ]
  },
  {
   "cell_type": "code",
   "execution_count": 4,
   "metadata": {},
   "outputs": [
    {
     "name": "stdout",
     "output_type": "stream",
     "text": [
      "Total observations: 2.9E+07\n",
      "Ignitions count: 1.3E+06\n",
      "Non ignitions count: 2.8E+07\n"
     ]
    }
   ],
   "source": [
    "# set ignition to 0 for noxels with no fire\n",
    "data['ignition'].fillna(0, inplace=True)\n",
    "\n",
    "# count number of observations in each class\n",
    "ignition_count = len(data[data[\"ignition\"] == 1])\n",
    "no_ignition_count = len(data) - ignition_count\n",
    "print('Total observations: {:.1E}'.format(len(data)))\n",
    "print('Ignitions count: {:.1E}'.format(ignition_count))\n",
    "print('Non ignitions count: {:.1E}'.format(no_ignition_count))"
   ]
  },
  {
   "cell_type": "code",
   "execution_count": 5,
   "metadata": {},
   "outputs": [
    {
     "name": "stdout",
     "output_type": "stream",
     "text": [
      "Total observations: 2.9E+07\n",
      "Ignitions count: 1.3E+06\n",
      "Non ignitions count: 2.8E+07\n"
     ]
    }
   ],
   "source": [
    "# clean up raw data\n",
    "data['weather_bin_time'] = pd.to_datetime(data['weather_bin_time'])\n",
    "data['weather_bin_day'] = data['weather_bin_time'].dt.day\n",
    "data['weather_bin_month'] = data['weather_bin_time'].dt.month\n",
    "data['weather_bin_year'] = data['weather_bin_time'].dt.year\n",
    "data.drop(['fire_discovery_time', 'size_class', 'size'], axis=1, inplace=True)\n",
    "data.dropna(inplace=True)\n",
    "\n",
    "# count number of observations in each class\n",
    "ignition_count = len(data[data[\"ignition\"] == 1])\n",
    "no_ignition_count = len(data) - ignition_count\n",
    "print('Total observations: {:.1E}'.format(len(data)))\n",
    "print('Ignitions count: {:.1E}'.format(ignition_count))\n",
    "print('Non ignitions count: {:.1E}'.format(no_ignition_count))"
   ]
  },
  {
   "cell_type": "code",
   "execution_count": 6,
   "metadata": {},
   "outputs": [],
   "source": [
    "output_data = data[output_features]\n",
    "output_data.to_csv(output_data_file, index=False)"
   ]
  }
 ],
 "metadata": {
  "kernelspec": {
   "display_name": "Python 3",
   "language": "python",
   "name": "python3"
  },
  "language_info": {
   "codemirror_mode": {
    "name": "ipython",
    "version": 3
   },
   "file_extension": ".py",
   "mimetype": "text/x-python",
   "name": "python",
   "nbconvert_exporter": "python",
   "pygments_lexer": "ipython3",
   "version": "3.6.9"
  }
 },
 "nbformat": 4,
 "nbformat_minor": 4
}
