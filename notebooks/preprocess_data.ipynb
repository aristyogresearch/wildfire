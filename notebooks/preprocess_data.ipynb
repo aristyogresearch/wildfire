{
 "cells": [
  {
   "cell_type": "code",
   "execution_count": 1,
   "metadata": {},
   "outputs": [],
   "source": [
    "import pandas as pd"
   ]
  },
  {
   "cell_type": "code",
   "execution_count": 2,
   "metadata": {},
   "outputs": [],
   "source": [
    "data_file = '../data/training_data/1992-1997_training_data.csv'\n",
    "output_file_rolling_window = '../data/training_data/1992-1997_training_data_rolling_window.csv'\n",
    "output_file_daily_mean = '../data/training_data/1992-1997_training_data_daily_mean.csv'"
   ]
  },
  {
   "cell_type": "code",
   "execution_count": 3,
   "metadata": {},
   "outputs": [
    {
     "name": "stdout",
     "output_type": "stream",
     "text": [
      "Total observations: 7.3E+06\n",
      "Ignitions count: 3.7E+05\n",
      "Non ignitions count: 6.9E+06\n"
     ]
    }
   ],
   "source": [
    "# read data\n",
    "data = pd.read_csv(data_file, low_memory=False)\n",
    "\n",
    "# set ignition to 0 for noxels with no fire\n",
    "data['ignition'].fillna(0, inplace=True)\n",
    "\n",
    "# count number of observations in each class\n",
    "ignition_count = len(data[data[\"ignition\"] == 1])\n",
    "no_ignition_count = len(data) - ignition_count\n",
    "print('Total observations: {:.1E}'.format(len(data)))\n",
    "print('Ignitions count: {:.1E}'.format(ignition_count))\n",
    "print('Non ignitions count: {:.1E}'.format(no_ignition_count))"
   ]
  },
  {
   "cell_type": "markdown",
   "metadata": {},
   "source": [
    "OK, so before we dig into this much farther, I am noticing an issue. For some fires we know the discovery time and some we do not. I can imagine a few ways of dealing with this:\n",
    "\n",
    "Throw out fires for which we do not know the discovery time\n",
    "Average everything at the day resolution level\n",
    "I am leaning toward option two because:\n",
    "\n",
    "Discovery time is not ignition time so the weather state during that exact hour may not be pertinent anyway - for example: what if the fire had already been burning for hours and the temperature had changed drastically?\n",
    "The data is already skewed toward no ignition observations. I would rather not have to throw out even more fires. Also, doing so will mean that I have noxels where there was a fire which was not included in the dataset.\n",
    "Specific plan is to roll a daily moving average across the data, including ignition value. This will assign an ignition value to all noxels within 24 hr. of a fire's discovery "
   ]
  },
  {
   "cell_type": "code",
   "execution_count": 4,
   "metadata": {},
   "outputs": [
    {
     "name": "stdout",
     "output_type": "stream",
     "text": [
      "Total observations: 7.3E+06\n"
     ]
    }
   ],
   "source": [
    "# roll data with 24 hr windowed mean\n",
    "data_rolling_window = data.groupby(['lat', 'lon']).rolling(24, on=\"weather_bin_time\").mean()\n",
    "data_rolling_window.reset_index(drop=True, inplace=True)\n",
    "\n",
    "# clean up dataframe\n",
    "data_rolling_window['weather_bin_time'] = pd.to_datetime(data_rolling_window['weather_bin_time'])\n",
    "data_rolling_window['weather_bin_day'] = data_rolling_window['weather_bin_time'].dt.day\n",
    "data_rolling_window['weather_bin_month'] = data_rolling_window['weather_bin_time'].dt.month\n",
    "data_rolling_window['weather_bin_year'] = data_rolling_window['weather_bin_time'].dt.year\n",
    "data_rolling_window.drop(['fire_discovery_time', 'size', 'size_class', 'weather_bin_time'], axis=1, inplace=True)\n",
    "data_rolling_window.dropna(inplace=True)\n",
    "\n",
    "print('Total observations: {:.1E}'.format(len(data_rolling_window)))"
   ]
  },
  {
   "cell_type": "code",
   "execution_count": 5,
   "metadata": {},
   "outputs": [],
   "source": [
    "data_rolling_window.to_csv(output_file_rolling_window, index=False)"
   ]
  },
  {
   "cell_type": "code",
   "execution_count": 7,
   "metadata": {},
   "outputs": [
    {
     "name": "stdout",
     "output_type": "stream",
     "text": [
      "Total observations: 9.0E+05\n"
     ]
    }
   ],
   "source": [
    "data_daily_mean = data_rolling_window.groupby([\n",
    "    'lat', \n",
    "    'lon', \n",
    "    'weather_bin_year',\n",
    "    'weather_bin_month',\n",
    "    'weather_bin_day'\n",
    "]).mean()\n",
    "\n",
    "data_daily_mean.reset_index(drop=True, inplace=True)\n",
    "\n",
    "print('Total observations: {:.1E}'.format(len(data_daily_mean)))"
   ]
  },
  {
   "cell_type": "code",
   "execution_count": 8,
   "metadata": {},
   "outputs": [],
   "source": [
    "data_daily_mean.to_csv(output_file_daily_mean, index=False)"
   ]
  }
 ],
 "metadata": {
  "kernelspec": {
   "display_name": "Python 3",
   "language": "python",
   "name": "python3"
  },
  "language_info": {
   "codemirror_mode": {
    "name": "ipython",
    "version": 3
   },
   "file_extension": ".py",
   "mimetype": "text/x-python",
   "name": "python",
   "nbconvert_exporter": "python",
   "pygments_lexer": "ipython3",
   "version": "3.6.9"
  }
 },
 "nbformat": 4,
 "nbformat_minor": 2
}
