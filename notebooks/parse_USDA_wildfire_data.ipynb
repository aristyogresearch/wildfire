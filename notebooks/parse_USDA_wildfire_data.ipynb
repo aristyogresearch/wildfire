{
 "cells": [
  {
   "cell_type": "markdown",
   "metadata": {},
   "source": [
    "### Goal ###\n",
    "Curate 1.88 million wild fire dataset from [USDA Research Data Archive](https://www.fs.usda.gov/rds/archive/catalog/RDS-2013-0009.4). Discard fires which occured outside of California."
   ]
  },
  {
   "cell_type": "code",
   "execution_count": 2,
   "metadata": {},
   "outputs": [],
   "source": [
    "import sys\n",
    "import sqlite3\n",
    "import pandas as pd\n",
    "import matplotlib.pyplot as plt\n",
    "%matplotlib inline"
   ]
  },
  {
   "cell_type": "code",
   "execution_count": 3,
   "metadata": {},
   "outputs": [],
   "source": [
    "con = sqlite3.connect('../data/USDA_wildfire_data/FPA_FOD_20170508.sqlite')\n",
    "fires = pd.read_sql_query(\"SELECT * from fires\", con)"
   ]
  },
  {
   "cell_type": "markdown",
   "metadata": {},
   "source": [
    "LOTS of data in here, lets take a look at the column headers."
   ]
  },
  {
   "cell_type": "code",
   "execution_count": 4,
   "metadata": {},
   "outputs": [
    {
     "data": {
      "text/plain": [
       "['OBJECTID',\n",
       " 'FOD_ID',\n",
       " 'FPA_ID',\n",
       " 'SOURCE_SYSTEM_TYPE',\n",
       " 'SOURCE_SYSTEM',\n",
       " 'NWCG_REPORTING_AGENCY',\n",
       " 'NWCG_REPORTING_UNIT_ID',\n",
       " 'NWCG_REPORTING_UNIT_NAME',\n",
       " 'SOURCE_REPORTING_UNIT',\n",
       " 'SOURCE_REPORTING_UNIT_NAME',\n",
       " 'LOCAL_FIRE_REPORT_ID',\n",
       " 'LOCAL_INCIDENT_ID',\n",
       " 'FIRE_CODE',\n",
       " 'FIRE_NAME',\n",
       " 'ICS_209_INCIDENT_NUMBER',\n",
       " 'ICS_209_NAME',\n",
       " 'MTBS_ID',\n",
       " 'MTBS_FIRE_NAME',\n",
       " 'COMPLEX_NAME',\n",
       " 'FIRE_YEAR',\n",
       " 'DISCOVERY_DATE',\n",
       " 'DISCOVERY_DOY',\n",
       " 'DISCOVERY_TIME',\n",
       " 'STAT_CAUSE_CODE',\n",
       " 'STAT_CAUSE_DESCR',\n",
       " 'CONT_DATE',\n",
       " 'CONT_DOY',\n",
       " 'CONT_TIME',\n",
       " 'FIRE_SIZE',\n",
       " 'FIRE_SIZE_CLASS',\n",
       " 'LATITUDE',\n",
       " 'LONGITUDE',\n",
       " 'OWNER_CODE',\n",
       " 'OWNER_DESCR',\n",
       " 'STATE',\n",
       " 'COUNTY',\n",
       " 'FIPS_CODE',\n",
       " 'FIPS_NAME',\n",
       " 'Shape']"
      ]
     },
     "execution_count": 4,
     "metadata": {},
     "output_type": "execute_result"
    }
   ],
   "source": [
    "list(fires.columns.values)"
   ]
  },
  {
   "cell_type": "markdown",
   "metadata": {},
   "source": [
    "Not sure about the format of the shape column, that one might be important later on. Lets push ahead with the minimum. First get only fires in California."
   ]
  },
  {
   "cell_type": "code",
   "execution_count": 11,
   "metadata": {},
   "outputs": [
    {
     "data": {
      "text/plain": [
       "b'\\x00\\x01\\xad\\x10\\x00\\x00\\xe8d\\xc2\\x92_@^\\xc0\\xe0\\xc8l\\x98\\xba\\x04D@\\xe8d\\xc2\\x92_@^\\xc0\\xe0\\xc8l\\x98\\xba\\x04D@|\\x01\\x00\\x00\\x00\\xe8d\\xc2\\x92_@^\\xc0\\xe0\\xc8l\\x98\\xba\\x04D@\\xfe'"
      ]
     },
     "execution_count": 11,
     "metadata": {},
     "output_type": "execute_result"
    }
   ],
   "source": [
    "fires['Shape'][0]"
   ]
  },
  {
   "cell_type": "code",
   "execution_count": 10,
   "metadata": {},
   "outputs": [
    {
     "data": {
      "text/plain": [
       "[0,\n",
       " 1,\n",
       " 173,\n",
       " 16,\n",
       " 0,\n",
       " 0,\n",
       " 232,\n",
       " 100,\n",
       " 194,\n",
       " 146,\n",
       " 95,\n",
       " 64,\n",
       " 94,\n",
       " 192,\n",
       " 224,\n",
       " 200,\n",
       " 108,\n",
       " 152,\n",
       " 186,\n",
       " 4,\n",
       " 68,\n",
       " 64,\n",
       " 232,\n",
       " 100,\n",
       " 194,\n",
       " 146,\n",
       " 95,\n",
       " 64,\n",
       " 94,\n",
       " 192,\n",
       " 224,\n",
       " 200,\n",
       " 108,\n",
       " 152,\n",
       " 186,\n",
       " 4,\n",
       " 68,\n",
       " 64,\n",
       " 124,\n",
       " 1,\n",
       " 0,\n",
       " 0,\n",
       " 0,\n",
       " 232,\n",
       " 100,\n",
       " 194,\n",
       " 146,\n",
       " 95,\n",
       " 64,\n",
       " 94,\n",
       " 192,\n",
       " 224,\n",
       " 200,\n",
       " 108,\n",
       " 152,\n",
       " 186,\n",
       " 4,\n",
       " 68,\n",
       " 64,\n",
       " 254]"
      ]
     },
     "execution_count": 10,
     "metadata": {},
     "output_type": "execute_result"
    }
   ],
   "source": [
    "list(fires['Shape'][0])\n",
    "#output_numbers = list(input_bytes)"
   ]
  },
  {
   "cell_type": "code",
   "execution_count": 14,
   "metadata": {},
   "outputs": [
    {
     "data": {
      "text/plain": [
       "[0,\n",
       " 1,\n",
       " 173,\n",
       " 16,\n",
       " 0,\n",
       " 0,\n",
       " 208,\n",
       " 165,\n",
       " 160,\n",
       " 87,\n",
       " 19,\n",
       " 47,\n",
       " 94,\n",
       " 192,\n",
       " 80,\n",
       " 187,\n",
       " 102,\n",
       " 44,\n",
       " 249,\n",
       " 125,\n",
       " 67,\n",
       " 64,\n",
       " 208,\n",
       " 165,\n",
       " 160,\n",
       " 87,\n",
       " 19,\n",
       " 47,\n",
       " 94,\n",
       " 192,\n",
       " 80,\n",
       " 187,\n",
       " 102,\n",
       " 44,\n",
       " 249,\n",
       " 125,\n",
       " 67,\n",
       " 64,\n",
       " 124,\n",
       " 1,\n",
       " 0,\n",
       " 0,\n",
       " 0,\n",
       " 208,\n",
       " 165,\n",
       " 160,\n",
       " 87,\n",
       " 19,\n",
       " 47,\n",
       " 94,\n",
       " 192,\n",
       " 80,\n",
       " 187,\n",
       " 102,\n",
       " 44,\n",
       " 249,\n",
       " 125,\n",
       " 67,\n",
       " 64,\n",
       " 254]"
      ]
     },
     "execution_count": 14,
     "metadata": {},
     "output_type": "execute_result"
    }
   ],
   "source": [
    "fires = fires[fires.STATE == 'CA']\n",
    "fires['Shape'][0]\n",
    "list(fires['Shape'][2])"
   ]
  },
  {
   "cell_type": "markdown",
   "metadata": {},
   "source": [
    "Now grab the minimum relevent columns."
   ]
  },
  {
   "cell_type": "code",
   "execution_count": 8,
   "metadata": {},
   "outputs": [
    {
     "data": {
      "text/html": [
       "<div>\n",
       "<style scoped>\n",
       "    .dataframe tbody tr th:only-of-type {\n",
       "        vertical-align: middle;\n",
       "    }\n",
       "\n",
       "    .dataframe tbody tr th {\n",
       "        vertical-align: top;\n",
       "    }\n",
       "\n",
       "    .dataframe thead th {\n",
       "        text-align: right;\n",
       "    }\n",
       "</style>\n",
       "<table border=\"1\" class=\"dataframe\">\n",
       "  <thead>\n",
       "    <tr style=\"text-align: right;\">\n",
       "      <th></th>\n",
       "      <th>lat</th>\n",
       "      <th>long</th>\n",
       "      <th>date</th>\n",
       "    </tr>\n",
       "  </thead>\n",
       "  <tbody>\n",
       "    <tr>\n",
       "      <td>0</td>\n",
       "      <td>40.036944</td>\n",
       "      <td>-121.005833</td>\n",
       "      <td>2453403.5</td>\n",
       "    </tr>\n",
       "    <tr>\n",
       "      <td>1</td>\n",
       "      <td>38.933056</td>\n",
       "      <td>-120.404444</td>\n",
       "      <td>2453137.5</td>\n",
       "    </tr>\n",
       "    <tr>\n",
       "      <td>2</td>\n",
       "      <td>38.984167</td>\n",
       "      <td>-120.735556</td>\n",
       "      <td>2453156.5</td>\n",
       "    </tr>\n",
       "    <tr>\n",
       "      <td>3</td>\n",
       "      <td>38.559167</td>\n",
       "      <td>-119.913333</td>\n",
       "      <td>2453184.5</td>\n",
       "    </tr>\n",
       "    <tr>\n",
       "      <td>4</td>\n",
       "      <td>38.559167</td>\n",
       "      <td>-119.933056</td>\n",
       "      <td>2453184.5</td>\n",
       "    </tr>\n",
       "    <tr>\n",
       "      <td>...</td>\n",
       "      <td>...</td>\n",
       "      <td>...</td>\n",
       "      <td>...</td>\n",
       "    </tr>\n",
       "    <tr>\n",
       "      <td>1880460</td>\n",
       "      <td>40.481637</td>\n",
       "      <td>-122.389375</td>\n",
       "      <td>2457291.5</td>\n",
       "    </tr>\n",
       "    <tr>\n",
       "      <td>1880461</td>\n",
       "      <td>37.617619</td>\n",
       "      <td>-120.938570</td>\n",
       "      <td>2457300.5</td>\n",
       "    </tr>\n",
       "    <tr>\n",
       "      <td>1880462</td>\n",
       "      <td>37.617619</td>\n",
       "      <td>-120.938570</td>\n",
       "      <td>2457144.5</td>\n",
       "    </tr>\n",
       "    <tr>\n",
       "      <td>1880463</td>\n",
       "      <td>37.672235</td>\n",
       "      <td>-120.898356</td>\n",
       "      <td>2457309.5</td>\n",
       "    </tr>\n",
       "    <tr>\n",
       "      <td>1880464</td>\n",
       "      <td>34.263217</td>\n",
       "      <td>-116.830950</td>\n",
       "      <td>2457095.5</td>\n",
       "    </tr>\n",
       "  </tbody>\n",
       "</table>\n",
       "<p>189550 rows × 3 columns</p>\n",
       "</div>"
      ],
      "text/plain": [
       "               lat        long       date\n",
       "0        40.036944 -121.005833  2453403.5\n",
       "1        38.933056 -120.404444  2453137.5\n",
       "2        38.984167 -120.735556  2453156.5\n",
       "3        38.559167 -119.913333  2453184.5\n",
       "4        38.559167 -119.933056  2453184.5\n",
       "...            ...         ...        ...\n",
       "1880460  40.481637 -122.389375  2457291.5\n",
       "1880461  37.617619 -120.938570  2457300.5\n",
       "1880462  37.617619 -120.938570  2457144.5\n",
       "1880463  37.672235 -120.898356  2457309.5\n",
       "1880464  34.263217 -116.830950  2457095.5\n",
       "\n",
       "[189550 rows x 3 columns]"
      ]
     },
     "execution_count": 8,
     "metadata": {},
     "output_type": "execute_result"
    }
   ],
   "source": [
    "fires = fires[['LATITUDE','LONGITUDE', 'DISCOVERY_DATE']]\n",
    "fires.columns = ['lat', 'lon', 'date']\n",
    "fires"
   ]
  },
  {
   "cell_type": "markdown",
   "metadata": {},
   "source": [
    "So apparently, the date column is julian date format?! Thanks Sarah!"
   ]
  },
  {
   "cell_type": "code",
   "execution_count": 9,
   "metadata": {},
   "outputs": [
    {
     "data": {
      "text/html": [
       "<div>\n",
       "<style scoped>\n",
       "    .dataframe tbody tr th:only-of-type {\n",
       "        vertical-align: middle;\n",
       "    }\n",
       "\n",
       "    .dataframe tbody tr th {\n",
       "        vertical-align: top;\n",
       "    }\n",
       "\n",
       "    .dataframe thead th {\n",
       "        text-align: right;\n",
       "    }\n",
       "</style>\n",
       "<table border=\"1\" class=\"dataframe\">\n",
       "  <thead>\n",
       "    <tr style=\"text-align: right;\">\n",
       "      <th></th>\n",
       "      <th>lat</th>\n",
       "      <th>long</th>\n",
       "      <th>date</th>\n",
       "    </tr>\n",
       "  </thead>\n",
       "  <tbody>\n",
       "    <tr>\n",
       "      <td>191959</td>\n",
       "      <td>33.166700</td>\n",
       "      <td>-116.634200</td>\n",
       "      <td>1992-01-01</td>\n",
       "    </tr>\n",
       "    <tr>\n",
       "      <td>1136835</td>\n",
       "      <td>33.663889</td>\n",
       "      <td>-116.171944</td>\n",
       "      <td>1992-01-01</td>\n",
       "    </tr>\n",
       "    <tr>\n",
       "      <td>49226</td>\n",
       "      <td>38.205000</td>\n",
       "      <td>-120.335000</td>\n",
       "      <td>1992-01-01</td>\n",
       "    </tr>\n",
       "    <tr>\n",
       "      <td>1136837</td>\n",
       "      <td>33.678056</td>\n",
       "      <td>-116.171944</td>\n",
       "      <td>1992-01-02</td>\n",
       "    </tr>\n",
       "    <tr>\n",
       "      <td>1136836</td>\n",
       "      <td>33.896111</td>\n",
       "      <td>-116.990000</td>\n",
       "      <td>1992-01-02</td>\n",
       "    </tr>\n",
       "    <tr>\n",
       "      <td>...</td>\n",
       "      <td>...</td>\n",
       "      <td>...</td>\n",
       "      <td>...</td>\n",
       "    </tr>\n",
       "    <tr>\n",
       "      <td>1872147</td>\n",
       "      <td>33.808482</td>\n",
       "      <td>-117.358313</td>\n",
       "      <td>2015-12-30</td>\n",
       "    </tr>\n",
       "    <tr>\n",
       "      <td>1871985</td>\n",
       "      <td>32.701123</td>\n",
       "      <td>-117.007382</td>\n",
       "      <td>2015-12-31</td>\n",
       "    </tr>\n",
       "    <tr>\n",
       "      <td>1872288</td>\n",
       "      <td>39.173027</td>\n",
       "      <td>-121.057377</td>\n",
       "      <td>2015-12-31</td>\n",
       "    </tr>\n",
       "    <tr>\n",
       "      <td>1872285</td>\n",
       "      <td>35.050000</td>\n",
       "      <td>-120.166666</td>\n",
       "      <td>2015-12-31</td>\n",
       "    </tr>\n",
       "    <tr>\n",
       "      <td>1871977</td>\n",
       "      <td>36.536611</td>\n",
       "      <td>-119.556721</td>\n",
       "      <td>2015-12-31</td>\n",
       "    </tr>\n",
       "  </tbody>\n",
       "</table>\n",
       "<p>189550 rows × 3 columns</p>\n",
       "</div>"
      ],
      "text/plain": [
       "               lat        long       date\n",
       "191959   33.166700 -116.634200 1992-01-01\n",
       "1136835  33.663889 -116.171944 1992-01-01\n",
       "49226    38.205000 -120.335000 1992-01-01\n",
       "1136837  33.678056 -116.171944 1992-01-02\n",
       "1136836  33.896111 -116.990000 1992-01-02\n",
       "...            ...         ...        ...\n",
       "1872147  33.808482 -117.358313 2015-12-30\n",
       "1871985  32.701123 -117.007382 2015-12-31\n",
       "1872288  39.173027 -121.057377 2015-12-31\n",
       "1872285  35.050000 -120.166666 2015-12-31\n",
       "1871977  36.536611 -119.556721 2015-12-31\n",
       "\n",
       "[189550 rows x 3 columns]"
      ]
     },
     "execution_count": 9,
     "metadata": {},
     "output_type": "execute_result"
    }
   ],
   "source": [
    "fires['date'] = pd.to_datetime(fires['date'], unit = 'D', origin = 'julian')\n",
    "fires.sort_values(by=['date'])"
   ]
  },
  {
   "cell_type": "code",
   "execution_count": 10,
   "metadata": {},
   "outputs": [
    {
     "data": {
      "text/plain": [
       "189550"
      ]
     },
     "execution_count": 10,
     "metadata": {},
     "output_type": "execute_result"
    }
   ],
   "source": [
    "len(fires)"
   ]
  },
  {
   "cell_type": "markdown",
   "metadata": {},
   "source": [
    "About 10% of our 1.88 million fires happened in California. Lets take a look."
   ]
  },
  {
   "cell_type": "code",
   "execution_count": 11,
   "metadata": {},
   "outputs": [
    {
     "data": {
      "image/png": "[encoded data removed]",
      "text/plain": [
       "<Figure size 576x576 with 1 Axes>"
      ]
     },
     "metadata": {
      "needs_background": "light"
     },
     "output_type": "display_data"
    }
   ],
   "source": [
    "plt.rcParams[\"figure.figsize\"] = (8,8)\n",
    "plt.scatter(x=fires['long'], y=fires['lat'], color='red', s=0.5)\n",
    "plt.axis('equal')\n",
    "plt.xlabel('longitude')\n",
    "plt.ylabel('latitude')\n",
    "plt.title('California fires 1992 - 2015')\n",
    "plt.show()"
   ]
  },
  {
   "cell_type": "code",
   "execution_count": 13,
   "metadata": {},
   "outputs": [],
   "source": [
    "fires.to_csv('../data/USDA_wildfire_data/california_fires.csv')"
   ]
  },
  {
   "cell_type": "markdown",
   "metadata": {},
   "source": [
    "Success, looks like California!\n",
    "\n",
    "### Next steps ###\n",
    "1. ~~Cull 1.88 million wild fires dataset. The orignal data set includes fires from the whole US.~~\n",
    "2. Find nearest CDEC weather monitoring station to each bin.\n",
    "3. For each time step between 2011 and 2016 assign weather data to bin from nearest station\n",
    "4. For each time step between 2011 and 2016 assign fire data to each bin. This includes time since most recent fire and total recoreded fires."
   ]
  }
 ],
 "metadata": {
  "kernelspec": {
   "display_name": "Python 3",
   "language": "python",
   "name": "python3"
  },
  "language_info": {
   "codemirror_mode": {
    "name": "ipython",
    "version": 3
   },
   "file_extension": ".py",
   "mimetype": "text/x-python",
   "name": "python",
   "nbconvert_exporter": "python",
   "pygments_lexer": "ipython3",
   "version": "3.6.9"
  }
 },
 "nbformat": 4,
 "nbformat_minor": 2
}
