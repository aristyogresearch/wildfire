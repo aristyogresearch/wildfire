{
 "cells": [
  {
   "cell_type": "markdown",
   "metadata": {},
   "source": [
    "Programmaticly download data of interest from NOAA servers using requests"
   ]
  },
  {
   "cell_type": "code",
   "execution_count": 7,
   "metadata": {},
   "outputs": [],
   "source": [
    "import requests\n",
    "from requests.exceptions import HTTPError"
   ]
  },
  {
   "cell_type": "code",
   "execution_count": 8,
   "metadata": {},
   "outputs": [],
   "source": [
    "NOAA_base_url = 'https://www.esrl.noaa.gov/psd/thredds/fileServer/Datasets/NARR/monolevel/'\n",
    "data_base_path = '../data/NOAA_weather_data/'\n",
    "original_datafile_subdir = 'original_datafiles/'\n",
    "NOAA_NARR_file_ext = 'nc'\n",
    "\n",
    "start_year = 1985\n",
    "end_year = 2015\n",
    "data_years = range(start_year, end_year, 1)\n",
    "\n",
    "data_types = [\n",
    "    'air.sfc',  # Surface air temp\n",
    "    'air.2m',   # Air temp. at 2 meters above surface\n",
    "    'apcp',     # Accumulated precipitation\n",
    "    'crain',    # Catagorical rain at surface\n",
    "    'rhum.2m',  # Relative humidity 2 meters above surface\n",
    "    'dpt.2m',   # Dew point temp. 2 meters above surface\n",
    "    'pres.sfc', # Pressure at surface\n",
    "    'uwnd.10m', # u component of wind (positive = from west) 10 meters above surface\n",
    "    'vwnd.10m', # v component of wind (positive = from south) 10 meters above surface\n",
    "    'veg',      # Vegitation at surface\n",
    "    'dlwrf',    # Downward long wave radiation flux at surface\n",
    "    'dswrf',    # Downward short wave radiation flux at surface\n",
    "    'lcdc',     # Low cloud area fraction\n",
    "    'hcdc',     # High cloud area fraction\n",
    "    'mcdc',     # Medium cloud area fraction\n",
    "    'hpbl',     # Planetary boundry layer height\n",
    "    'prate',    # Precipitation rate\n",
    "    'vis'       # Visibility\n",
    "    'ulwrf.sfc' # Upward long wave radiation flux at surface\n",
    "]"
   ]
  },
  {
   "cell_type": "code",
   "execution_count": null,
   "metadata": {},
   "outputs": [],
   "source": [
    "for data_year in data_years:\n",
    "    for data_type in data_types:\n",
    "\n",
    "        url = f'{NOAA_base_url}{data_type}.{data_year}.{NOAA_NARR_file_ext}'\n",
    "        output_file = f'{data_base_path}{original_datafile_subdir}{data_type}.{data_year}.{NOAA_NARR_file_ext}'\n",
    "\n",
    "        try:\n",
    "            response = requests.get(url)\n",
    "\n",
    "        except HTTPError as http_err:\n",
    "            print(f'HTTP error occurred: {http_err}')\n",
    "\n",
    "        except Exception as err:\n",
    "            print(f'Other error occurred: {err}')\n",
    "\n",
    "        else:\n",
    "            open(output_file, 'wb').write(response.content)"
   ]
  }
 ],
 "metadata": {
  "kernelspec": {
   "display_name": "Python 3",
   "language": "python",
   "name": "python3"
  },
  "language_info": {
   "codemirror_mode": {
    "name": "ipython",
    "version": 3
   },
   "file_extension": ".py",
   "mimetype": "text/x-python",
   "name": "python",
   "nbconvert_exporter": "python",
   "pygments_lexer": "ipython3",
   "version": "3.6.9"
  }
 },
 "nbformat": 4,
 "nbformat_minor": 2
}
