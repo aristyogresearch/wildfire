{
 "cells": [
  {
   "cell_type": "markdown",
   "metadata": {},
   "source": [
    "### Goal ###\n",
    "Find the nearest [California Data Exchange Center](https://cdec.water.ca.gov/) weather station to each of our California bins. This information will be used to assign each bin weather variable values."
   ]
  },
  {
   "cell_type": "code",
   "execution_count": 1,
   "metadata": {},
   "outputs": [],
   "source": [
    "import pandas as pd\n",
    "import numpy as np\n",
    "import matplotlib.pyplot as plt\n",
    "from multiprocessing import Pool\n",
    "%matplotlib inline\n",
    "%load_ext memory_profiler"
   ]
  },
  {
   "cell_type": "markdown",
   "metadata": {},
   "source": [
    "Since we have many bins which do not contain a weather monitoring station, the next step is to fill in their values from the nearest station. First find the nearest station to each bin. To do this we will use scipy.spatial."
   ]
  },
  {
   "cell_type": "code",
   "execution_count": 2,
   "metadata": {},
   "outputs": [],
   "source": [
    "bins = pd.read_csv('../data/spatial_data/california_bins.csv')\n",
    "stations = pd.read_csv('../data/CDEC_weather_station_data/target_stations.csv')\n",
    "stations.columns = ['station','elevation', 'lat', 'long']\n",
    "stations = stations[stations.long != 0]\n",
    "bin_array = np.column_stack([bins['long'], bins['lat']])\n",
    "station_array = np.column_stack([stations['long'], stations['lat']])"
   ]
  },
  {
   "cell_type": "code",
   "execution_count": 3,
   "metadata": {},
   "outputs": [],
   "source": [
    "from scipy import spatial\n",
    "\n",
    "station_tree = spatial.cKDTree(station_array)\n",
    "dist, indexes = station_tree.query(bin_array)\n",
    "\n",
    "nearest_station_names = []\n",
    "for index in indexes:\n",
    "    nearest_station_names.append(stations.iloc[index, 0])\n",
    "    \n",
    "bins['nearest_station_name'] = nearest_station_names"
   ]
  },
  {
   "cell_type": "markdown",
   "metadata": {},
   "source": [
    "Starting with the temperature dataset as a test case, now we will make an hourly time series spanning from 2006 to 2016 and assign each bin a temprature from it's nearest station each hour. "
   ]
  },
  {
   "cell_type": "code",
   "execution_count": 4,
   "metadata": {},
   "outputs": [
    {
     "data": {
      "text/html": [
       "<div>\n",
       "<style scoped>\n",
       "    .dataframe tbody tr th:only-of-type {\n",
       "        vertical-align: middle;\n",
       "    }\n",
       "\n",
       "    .dataframe tbody tr th {\n",
       "        vertical-align: top;\n",
       "    }\n",
       "\n",
       "    .dataframe thead th {\n",
       "        text-align: right;\n",
       "    }\n",
       "</style>\n",
       "<table border=\"1\" class=\"dataframe\">\n",
       "  <thead>\n",
       "    <tr style=\"text-align: right;\">\n",
       "      <th></th>\n",
       "      <th>STATION_ID</th>\n",
       "      <th>VALUE</th>\n",
       "    </tr>\n",
       "    <tr>\n",
       "      <th>OBS_DATE</th>\n",
       "      <th></th>\n",
       "      <th></th>\n",
       "    </tr>\n",
       "  </thead>\n",
       "  <tbody>\n",
       "    <tr>\n",
       "      <td>2015-01-01 23:00:00</td>\n",
       "      <td>AGP</td>\n",
       "      <td>21</td>\n",
       "    </tr>\n",
       "    <tr>\n",
       "      <td>2015-01-02 00:00:00</td>\n",
       "      <td>AGP</td>\n",
       "      <td>23</td>\n",
       "    </tr>\n",
       "    <tr>\n",
       "      <td>2015-01-02 01:00:00</td>\n",
       "      <td>AGP</td>\n",
       "      <td>21</td>\n",
       "    </tr>\n",
       "    <tr>\n",
       "      <td>2015-01-02 02:00:00</td>\n",
       "      <td>AGP</td>\n",
       "      <td>24</td>\n",
       "    </tr>\n",
       "    <tr>\n",
       "      <td>2015-01-02 03:00:00</td>\n",
       "      <td>AGP</td>\n",
       "      <td>22</td>\n",
       "    </tr>\n",
       "  </tbody>\n",
       "</table>\n",
       "</div>"
      ],
      "text/plain": [
       "                    STATION_ID  VALUE\n",
       "OBS_DATE                             \n",
       "2015-01-01 23:00:00        AGP     21\n",
       "2015-01-02 00:00:00        AGP     23\n",
       "2015-01-02 01:00:00        AGP     21\n",
       "2015-01-02 02:00:00        AGP     24\n",
       "2015-01-02 03:00:00        AGP     22"
      ]
     },
     "execution_count": 4,
     "metadata": {},
     "output_type": "execute_result"
    }
   ],
   "source": [
    "# Annoying, but here goes...\n",
    "import warnings\n",
    "warnings.simplefilter(action = 'ignore', category = FutureWarning)\n",
    "\n",
    "temp_data = pd.read_csv(\"../data/weather_data/TEMP_1day.csv\", parse_dates = ['OBS_DATE'], usecols = [\"STATION_ID\", \"OBS_DATE\", \"VALUE\"], index_col = \"OBS_DATE\")\n",
    "temp_data = temp_data[temp_data.VALUE != '---']\n",
    "temp_data.head()"
   ]
  },
  {
   "cell_type": "code",
   "execution_count": 5,
   "metadata": {},
   "outputs": [
    {
     "name": "stdout",
     "output_type": "stream",
     "text": [
      "<class 'pandas.core.frame.DataFrame'>\n",
      "DatetimeIndex: 16762 entries, 2015-01-01 23:00:00 to 2015-01-02 23:00:00\n",
      "Data columns (total 2 columns):\n",
      "STATION_ID    16762 non-null object\n",
      "VALUE         16762 non-null int64\n",
      "dtypes: int64(1), object(1)\n",
      "memory usage: 392.9+ KB\n"
     ]
    }
   ],
   "source": [
    "temp_data.info()"
   ]
  },
  {
   "cell_type": "markdown",
   "metadata": {},
   "source": [
    "Here is an example of a station which does not report regularly on the hour. I am sure there are many other cases of this in the dataset. There are also almost certainly missing values. To fix this, we will resample and interpolate to a regular hourly frequency over the whole dataset."
   ]
  },
  {
   "cell_type": "code",
   "execution_count": 6,
   "metadata": {},
   "outputs": [
    {
     "data": {
      "text/html": [
       "<div>\n",
       "<style scoped>\n",
       "    .dataframe tbody tr th:only-of-type {\n",
       "        vertical-align: middle;\n",
       "    }\n",
       "\n",
       "    .dataframe tbody tr th {\n",
       "        vertical-align: top;\n",
       "    }\n",
       "\n",
       "    .dataframe thead th {\n",
       "        text-align: right;\n",
       "    }\n",
       "</style>\n",
       "<table border=\"1\" class=\"dataframe\">\n",
       "  <thead>\n",
       "    <tr style=\"text-align: right;\">\n",
       "      <th></th>\n",
       "      <th>STATION_ID</th>\n",
       "      <th>VALUE</th>\n",
       "    </tr>\n",
       "    <tr>\n",
       "      <th>OBS_DATE</th>\n",
       "      <th></th>\n",
       "      <th></th>\n",
       "    </tr>\n",
       "  </thead>\n",
       "  <tbody>\n",
       "    <tr>\n",
       "      <td>2015-01-01 23:00:00</td>\n",
       "      <td>BUD</td>\n",
       "      <td>33</td>\n",
       "    </tr>\n",
       "    <tr>\n",
       "      <td>2015-01-01 23:15:00</td>\n",
       "      <td>BUD</td>\n",
       "      <td>33</td>\n",
       "    </tr>\n",
       "    <tr>\n",
       "      <td>2015-01-01 23:30:00</td>\n",
       "      <td>BUD</td>\n",
       "      <td>33</td>\n",
       "    </tr>\n",
       "    <tr>\n",
       "      <td>2015-01-01 23:45:00</td>\n",
       "      <td>BUD</td>\n",
       "      <td>33</td>\n",
       "    </tr>\n",
       "    <tr>\n",
       "      <td>2015-01-02 00:00:00</td>\n",
       "      <td>BUD</td>\n",
       "      <td>33</td>\n",
       "    </tr>\n",
       "  </tbody>\n",
       "</table>\n",
       "</div>"
      ],
      "text/plain": [
       "                    STATION_ID  VALUE\n",
       "OBS_DATE                             \n",
       "2015-01-01 23:00:00        BUD     33\n",
       "2015-01-01 23:15:00        BUD     33\n",
       "2015-01-01 23:30:00        BUD     33\n",
       "2015-01-01 23:45:00        BUD     33\n",
       "2015-01-02 00:00:00        BUD     33"
      ]
     },
     "execution_count": 6,
     "metadata": {},
     "output_type": "execute_result"
    }
   ],
   "source": [
    "bud_station = temp_data[temp_data['STATION_ID'] == 'BUD']\n",
    "bud_station.head()"
   ]
  },
  {
   "cell_type": "code",
   "execution_count": 7,
   "metadata": {},
   "outputs": [
    {
     "data": {
      "text/html": [
       "<div>\n",
       "<style scoped>\n",
       "    .dataframe tbody tr th:only-of-type {\n",
       "        vertical-align: middle;\n",
       "    }\n",
       "\n",
       "    .dataframe tbody tr th {\n",
       "        vertical-align: top;\n",
       "    }\n",
       "\n",
       "    .dataframe thead th {\n",
       "        text-align: right;\n",
       "    }\n",
       "</style>\n",
       "<table border=\"1\" class=\"dataframe\">\n",
       "  <thead>\n",
       "    <tr style=\"text-align: right;\">\n",
       "      <th></th>\n",
       "      <th>STATION_ID</th>\n",
       "      <th>VALUE</th>\n",
       "    </tr>\n",
       "    <tr>\n",
       "      <th>OBS_DATE</th>\n",
       "      <th></th>\n",
       "      <th></th>\n",
       "    </tr>\n",
       "  </thead>\n",
       "  <tbody>\n",
       "    <tr>\n",
       "      <td>2015-01-01 23:00:00</td>\n",
       "      <td>BUD</td>\n",
       "      <td>33.0</td>\n",
       "    </tr>\n",
       "    <tr>\n",
       "      <td>2015-01-02 00:00:00</td>\n",
       "      <td>BUD</td>\n",
       "      <td>33.0</td>\n",
       "    </tr>\n",
       "    <tr>\n",
       "      <td>2015-01-02 01:00:00</td>\n",
       "      <td>BUD</td>\n",
       "      <td>33.0</td>\n",
       "    </tr>\n",
       "    <tr>\n",
       "      <td>2015-01-02 02:00:00</td>\n",
       "      <td>BUD</td>\n",
       "      <td>32.0</td>\n",
       "    </tr>\n",
       "    <tr>\n",
       "      <td>2015-01-02 03:00:00</td>\n",
       "      <td>BUD</td>\n",
       "      <td>32.0</td>\n",
       "    </tr>\n",
       "  </tbody>\n",
       "</table>\n",
       "</div>"
      ],
      "text/plain": [
       "                    STATION_ID  VALUE\n",
       "OBS_DATE                             \n",
       "2015-01-01 23:00:00        BUD   33.0\n",
       "2015-01-02 00:00:00        BUD   33.0\n",
       "2015-01-02 01:00:00        BUD   33.0\n",
       "2015-01-02 02:00:00        BUD   32.0\n",
       "2015-01-02 03:00:00        BUD   32.0"
      ]
     },
     "execution_count": 7,
     "metadata": {},
     "output_type": "execute_result"
    }
   ],
   "source": [
    "bud_station_min = bud_station.resample('min')\n",
    "bud_station_min = bud_station_min.interpolate(method = 'linear')\n",
    "bud_station_hr = bud_station_min.resample('H')\n",
    "bud_station_hr = bud_station_hr.interpolate(method = 'linear')\n",
    "bud_station_hr['STATION_ID'] = 'BUD'\n",
    "bud_station_hr.head()"
   ]
  },
  {
   "cell_type": "markdown",
   "metadata": {},
   "source": [
    "Parallelize it?!"
   ]
  },
  {
   "cell_type": "code",
   "execution_count": 8,
   "metadata": {},
   "outputs": [
    {
     "data": {
      "text/html": [
       "<div>\n",
       "<style scoped>\n",
       "    .dataframe tbody tr th:only-of-type {\n",
       "        vertical-align: middle;\n",
       "    }\n",
       "\n",
       "    .dataframe tbody tr th {\n",
       "        vertical-align: top;\n",
       "    }\n",
       "\n",
       "    .dataframe thead th {\n",
       "        text-align: right;\n",
       "    }\n",
       "</style>\n",
       "<table border=\"1\" class=\"dataframe\">\n",
       "  <thead>\n",
       "    <tr style=\"text-align: right;\">\n",
       "      <th></th>\n",
       "      <th></th>\n",
       "      <th>VALUE</th>\n",
       "    </tr>\n",
       "    <tr>\n",
       "      <th>OBS_DATE</th>\n",
       "      <th>STATION_ID</th>\n",
       "      <th></th>\n",
       "    </tr>\n",
       "  </thead>\n",
       "  <tbody>\n",
       "    <tr>\n",
       "      <td>2015-01-01 23:00:00</td>\n",
       "      <td>AGP</td>\n",
       "      <td>21.0</td>\n",
       "    </tr>\n",
       "    <tr>\n",
       "      <td>2015-01-02 00:00:00</td>\n",
       "      <td>AGP</td>\n",
       "      <td>23.0</td>\n",
       "    </tr>\n",
       "    <tr>\n",
       "      <td>2015-01-02 01:00:00</td>\n",
       "      <td>AGP</td>\n",
       "      <td>21.0</td>\n",
       "    </tr>\n",
       "    <tr>\n",
       "      <td>2015-01-02 02:00:00</td>\n",
       "      <td>AGP</td>\n",
       "      <td>24.0</td>\n",
       "    </tr>\n",
       "    <tr>\n",
       "      <td>2015-01-02 03:00:00</td>\n",
       "      <td>AGP</td>\n",
       "      <td>22.0</td>\n",
       "    </tr>\n",
       "  </tbody>\n",
       "</table>\n",
       "</div>"
      ],
      "text/plain": [
       "                                VALUE\n",
       "OBS_DATE            STATION_ID       \n",
       "2015-01-01 23:00:00 AGP          21.0\n",
       "2015-01-02 00:00:00 AGP          23.0\n",
       "2015-01-02 01:00:00 AGP          21.0\n",
       "2015-01-02 02:00:00 AGP          24.0\n",
       "2015-01-02 03:00:00 AGP          22.0"
      ]
     },
     "execution_count": 8,
     "metadata": {},
     "output_type": "execute_result"
    }
   ],
   "source": [
    "n_threads = 14\n",
    "\n",
    "def regularize(group):\n",
    "    group = group.loc[~group.index.duplicated()]\n",
    "    group = group.resample('min')\n",
    "    group = group.interpolate(method = 'linear')\n",
    "    group = group.resample('H')\n",
    "    group = group.interpolate(method = 'linear')\n",
    "    return group\n",
    "\n",
    "def group_data(temp_data_split):\n",
    "    grouped_data = temp_data_split.groupby('STATION_ID')\n",
    "    return grouped_data.apply(regularize)\n",
    "    \n",
    "def parallelize(temp_data, func, n_cores = n_threads):\n",
    "    '''Parallelizes regularization, takes temp data and\n",
    "    splits up regularization fuction over avalibile threads'''\n",
    "    temp_data_split = np.array_split(temp_data, n_cores)\n",
    "    pool = Pool(n_cores)\n",
    "    result = pd.concat(pool.map(func, temp_data_split))\n",
    "    pool.close()\n",
    "    pool.join()\n",
    "    return result\n",
    "    \n",
    "mt_regularized_temp_data = parallelize(temp_data, group_data)\n",
    "\n",
    "mt_regularized_temp_data['STATION_ID'] = mt_regularized_temp_data.index.get_level_values(0)\n",
    "mt_regularized_temp_data = mt_regularized_temp_data.reset_index(level = 0, drop = True)\n",
    "mt_regularized_temp_data = mt_regularized_temp_data.set_index(['STATION_ID'], append = True)\n",
    "mt_regularized_temp_data['VALUE'].replace('', np.nan, inplace = True)\n",
    "mt_regularized_temp_data.dropna(subset = ['VALUE'], inplace = True)\n",
    "mt_regularized_temp_data = mt_regularized_temp_data.loc[~mt_regularized_temp_data.index.duplicated()]\n",
    "mt_regularized_temp_data.head()"
   ]
  },
  {
   "cell_type": "code",
   "execution_count": 9,
   "metadata": {},
   "outputs": [
    {
     "name": "stdout",
     "output_type": "stream",
     "text": [
      "<class 'pandas.core.frame.DataFrame'>\n",
      "MultiIndex: 12466 entries, (2015-01-01 23:00:00, AGP) to (2015-01-02 23:00:00, ZEN)\n",
      "Data columns (total 1 columns):\n",
      "VALUE    12466 non-null float64\n",
      "dtypes: float64(1)\n",
      "memory usage: 138.1+ KB\n"
     ]
    }
   ],
   "source": [
    "mt_regularized_temp_data.info()"
   ]
  },
  {
   "cell_type": "markdown",
   "metadata": {},
   "source": [
    "This next big block uses resampling to bin the temp. data at a resolution of six hours. In early runs I had memory issues so I added this. Hoping I won't need it in the final product. Keeping the code here I case I want to use it again."
   ]
  },
  {
   "cell_type": "code",
   "execution_count": 10,
   "metadata": {},
   "outputs": [],
   "source": [
    "time_series = pd.date_range(\"2015-01-01 23:00:00\", \"2015-01-02 23:00:00\", freq = \"H\")\n",
    "time_series = time_series.to_series()"
   ]
  },
  {
   "cell_type": "markdown",
   "metadata": {},
   "source": [
    "Now we make a dataframe of 'noxels' or n-dimentional voxels. Each row will be a bin at a specific time. Once we have this dataframe, we can go back though and assign weather variable values to each noxel."
   ]
  },
  {
   "cell_type": "code",
   "execution_count": 11,
   "metadata": {},
   "outputs": [
    {
     "data": {
      "text/html": [
       "<div>\n",
       "<style scoped>\n",
       "    .dataframe tbody tr th:only-of-type {\n",
       "        vertical-align: middle;\n",
       "    }\n",
       "\n",
       "    .dataframe tbody tr th {\n",
       "        vertical-align: top;\n",
       "    }\n",
       "\n",
       "    .dataframe thead th {\n",
       "        text-align: right;\n",
       "    }\n",
       "</style>\n",
       "<table border=\"1\" class=\"dataframe\">\n",
       "  <thead>\n",
       "    <tr style=\"text-align: right;\">\n",
       "      <th></th>\n",
       "      <th>long</th>\n",
       "      <th>lat</th>\n",
       "      <th>nearest_station_name</th>\n",
       "      <th>time</th>\n",
       "    </tr>\n",
       "  </thead>\n",
       "  <tbody>\n",
       "    <tr>\n",
       "      <td>0</td>\n",
       "      <td>-117.08</td>\n",
       "      <td>32.62</td>\n",
       "      <td>SMG</td>\n",
       "      <td>2015-01-01 23:00:00</td>\n",
       "    </tr>\n",
       "    <tr>\n",
       "      <td>1</td>\n",
       "      <td>-116.98</td>\n",
       "      <td>32.62</td>\n",
       "      <td>SMG</td>\n",
       "      <td>2015-01-01 23:00:00</td>\n",
       "    </tr>\n",
       "    <tr>\n",
       "      <td>2</td>\n",
       "      <td>-116.88</td>\n",
       "      <td>32.62</td>\n",
       "      <td>SMG</td>\n",
       "      <td>2015-01-01 23:00:00</td>\n",
       "    </tr>\n",
       "    <tr>\n",
       "      <td>3</td>\n",
       "      <td>-116.78</td>\n",
       "      <td>32.62</td>\n",
       "      <td>POT</td>\n",
       "      <td>2015-01-01 23:00:00</td>\n",
       "    </tr>\n",
       "    <tr>\n",
       "      <td>4</td>\n",
       "      <td>-116.68</td>\n",
       "      <td>32.62</td>\n",
       "      <td>POT</td>\n",
       "      <td>2015-01-01 23:00:00</td>\n",
       "    </tr>\n",
       "  </tbody>\n",
       "</table>\n",
       "</div>"
      ],
      "text/plain": [
       "     long    lat nearest_station_name                time\n",
       "0 -117.08  32.62                  SMG 2015-01-01 23:00:00\n",
       "1 -116.98  32.62                  SMG 2015-01-01 23:00:00\n",
       "2 -116.88  32.62                  SMG 2015-01-01 23:00:00\n",
       "3 -116.78  32.62                  POT 2015-01-01 23:00:00\n",
       "4 -116.68  32.62                  POT 2015-01-01 23:00:00"
      ]
     },
     "execution_count": 11,
     "metadata": {},
     "output_type": "execute_result"
    }
   ],
   "source": [
    "def apply_to_bins(time_series, bins):\n",
    "    return bins.assign(time = time_series)\n",
    "\n",
    "noxels = pd.concat(time_series.apply(apply_to_bins, args = (bins,)).tolist())\n",
    "noxels.to_csv('../data/spatial_data/empty_noxels.csv', index = False)\n",
    "noxels.head()"
   ]
  },
  {
   "cell_type": "code",
   "execution_count": 12,
   "metadata": {},
   "outputs": [
    {
     "name": "stdout",
     "output_type": "stream",
     "text": [
      "<class 'pandas.core.frame.DataFrame'>\n",
      "Int64Index: 103400 entries, 0 to 4135\n",
      "Data columns (total 4 columns):\n",
      "long                    103400 non-null float64\n",
      "lat                     103400 non-null float64\n",
      "nearest_station_name    103400 non-null object\n",
      "time                    103400 non-null datetime64[ns]\n",
      "dtypes: datetime64[ns](1), float64(2), object(1)\n",
      "memory usage: 3.9+ MB\n"
     ]
    }
   ],
   "source": [
    "noxels.info()"
   ]
  },
  {
   "cell_type": "code",
   "execution_count": 13,
   "metadata": {},
   "outputs": [
    {
     "data": {
      "text/plain": [
       "31.0"
      ]
     },
     "execution_count": 13,
     "metadata": {},
     "output_type": "execute_result"
    }
   ],
   "source": [
    "mt_regularized_temp_data.at[('2015-01-01 23:00:00', 'ACN'), 'VALUE']"
   ]
  },
  {
   "cell_type": "code",
   "execution_count": 14,
   "metadata": {},
   "outputs": [
    {
     "data": {
      "text/html": [
       "<div>\n",
       "<style scoped>\n",
       "    .dataframe tbody tr th:only-of-type {\n",
       "        vertical-align: middle;\n",
       "    }\n",
       "\n",
       "    .dataframe tbody tr th {\n",
       "        vertical-align: top;\n",
       "    }\n",
       "\n",
       "    .dataframe thead th {\n",
       "        text-align: right;\n",
       "    }\n",
       "</style>\n",
       "<table border=\"1\" class=\"dataframe\">\n",
       "  <thead>\n",
       "    <tr style=\"text-align: right;\">\n",
       "      <th></th>\n",
       "      <th>long</th>\n",
       "      <th>lat</th>\n",
       "      <th>nearest_station_name</th>\n",
       "      <th>time</th>\n",
       "      <th>temp</th>\n",
       "    </tr>\n",
       "  </thead>\n",
       "  <tbody>\n",
       "    <tr>\n",
       "      <td>0</td>\n",
       "      <td>-117.08</td>\n",
       "      <td>32.62</td>\n",
       "      <td>SMG</td>\n",
       "      <td>2015-01-01 23:00:00</td>\n",
       "      <td>44.0</td>\n",
       "    </tr>\n",
       "    <tr>\n",
       "      <td>1</td>\n",
       "      <td>-116.98</td>\n",
       "      <td>32.62</td>\n",
       "      <td>SMG</td>\n",
       "      <td>2015-01-01 23:00:00</td>\n",
       "      <td>44.0</td>\n",
       "    </tr>\n",
       "    <tr>\n",
       "      <td>2</td>\n",
       "      <td>-116.88</td>\n",
       "      <td>32.62</td>\n",
       "      <td>SMG</td>\n",
       "      <td>2015-01-01 23:00:00</td>\n",
       "      <td>44.0</td>\n",
       "    </tr>\n",
       "    <tr>\n",
       "      <td>3</td>\n",
       "      <td>-116.78</td>\n",
       "      <td>32.62</td>\n",
       "      <td>POT</td>\n",
       "      <td>2015-01-01 23:00:00</td>\n",
       "      <td>28.0</td>\n",
       "    </tr>\n",
       "    <tr>\n",
       "      <td>4</td>\n",
       "      <td>-116.68</td>\n",
       "      <td>32.62</td>\n",
       "      <td>POT</td>\n",
       "      <td>2015-01-01 23:00:00</td>\n",
       "      <td>28.0</td>\n",
       "    </tr>\n",
       "  </tbody>\n",
       "</table>\n",
       "</div>"
      ],
      "text/plain": [
       "     long    lat nearest_station_name                time  temp\n",
       "0 -117.08  32.62                  SMG 2015-01-01 23:00:00  44.0\n",
       "1 -116.98  32.62                  SMG 2015-01-01 23:00:00  44.0\n",
       "2 -116.88  32.62                  SMG 2015-01-01 23:00:00  44.0\n",
       "3 -116.78  32.62                  POT 2015-01-01 23:00:00  28.0\n",
       "4 -116.68  32.62                  POT 2015-01-01 23:00:00  28.0"
      ]
     },
     "execution_count": 14,
     "metadata": {},
     "output_type": "execute_result"
    }
   ],
   "source": [
    "n_threads = 14\n",
    "\n",
    "def try_except(row):\n",
    "    try:\n",
    "        return mt_regularized_temp_data.loc[(row['time'], row['nearest_station_name']), 'VALUE']\n",
    "    except:\n",
    "        return np.nan\n",
    "    \n",
    "def add_data(noxels):\n",
    "    noxels['temp'] = noxels.apply(lambda row: try_except(row), axis = 1)\n",
    "    return noxels\n",
    "\n",
    "def parallelize(noxels, func, n_cores = n_threads):\n",
    "    '''Parallelizes downsampling, takes list of stations and\n",
    "    splits up the downsampling fuction over avalibile threads'''\n",
    "    noxels_split = np.array_split(noxels, n_cores)\n",
    "    pool = Pool(n_cores)\n",
    "    result = pd.concat(pool.map(func, noxels_split))\n",
    "    pool.close()\n",
    "    pool.join()\n",
    "    return result\n",
    "\n",
    "noxels = parallelize(noxels, add_data)\n",
    "\n",
    "noxels = noxels.dropna()\n",
    "noxels.to_csv('../data/training_data/noxels_1day.csv', index = False)\n",
    "noxels.head()"
   ]
  },
  {
   "cell_type": "code",
   "execution_count": 15,
   "metadata": {},
   "outputs": [
    {
     "name": "stdout",
     "output_type": "stream",
     "text": [
      "<class 'pandas.core.frame.DataFrame'>\n",
      "Int64Index: 70627 entries, 0 to 4135\n",
      "Data columns (total 5 columns):\n",
      "long                    70627 non-null float64\n",
      "lat                     70627 non-null float64\n",
      "nearest_station_name    70627 non-null object\n",
      "time                    70627 non-null datetime64[ns]\n",
      "temp                    70627 non-null float64\n",
      "dtypes: datetime64[ns](1), float64(3), object(1)\n",
      "memory usage: 3.2+ MB\n"
     ]
    }
   ],
   "source": [
    "noxels.info()"
   ]
  },
  {
   "cell_type": "markdown",
   "metadata": {},
   "source": [
    "OK, so, working to a first approximation. Lets check some lengths and see how we did. If we filled every bin with a temperature value, then we should have bins x time_series rows in our data file..."
   ]
  },
  {
   "cell_type": "code",
   "execution_count": 16,
   "metadata": {},
   "outputs": [
    {
     "data": {
      "text/plain": [
       "68.3046421663443"
      ]
     },
     "execution_count": 16,
     "metadata": {},
     "output_type": "execute_result"
    }
   ],
   "source": [
    "(len(noxels) / (len(bins) * len(time_series))) * 100"
   ]
  }
 ],
 "metadata": {
  "kernelspec": {
   "display_name": "Python 3",
   "language": "python",
   "name": "python3"
  },
  "language_info": {
   "codemirror_mode": {
    "name": "ipython",
    "version": 3
   },
   "file_extension": ".py",
   "mimetype": "text/x-python",
   "name": "python",
   "nbconvert_exporter": "python",
   "pygments_lexer": "ipython3",
   "version": "3.6.9"
  }
 },
 "nbformat": 4,
 "nbformat_minor": 2
}
