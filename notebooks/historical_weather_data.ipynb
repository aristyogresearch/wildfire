{
 "cells": [
  {
   "cell_type": "markdown",
   "metadata": {},
   "source": [
    "### Goal ###\n",
    "Find the nearest [California Data Exchange Center](https://cdec.water.ca.gov/) weather station to each of our California bins. This information will be used to assign each bin weather variable values."
   ]
  },
  {
   "cell_type": "code",
   "execution_count": 1,
   "metadata": {},
   "outputs": [],
   "source": [
    "import pandas as pd\n",
    "import numpy as np\n",
    "import matplotlib.pyplot as plt\n",
    "%matplotlib inline\n",
    "%load_ext memory_profiler"
   ]
  },
  {
   "cell_type": "markdown",
   "metadata": {},
   "source": [
    "Lets load the station locations and the bins and take a look."
   ]
  },
  {
   "cell_type": "code",
   "execution_count": 2,
   "metadata": {},
   "outputs": [
    {
     "data": {
      "image/png": "[encoded data removed]",
      "text/plain": [
       "<Figure size 576x576 with 1 Axes>"
      ]
     },
     "metadata": {
      "needs_background": "light"
     },
     "output_type": "display_data"
    }
   ],
   "source": [
    "stations = pd.read_csv('../data/weather_station_data/target_stations.csv')\n",
    "\n",
    "# Rename columns to project standards\n",
    "stations.columns = ['station','elevation', 'lat', 'long']\n",
    "\n",
    "# There is one station which has coordinates 0, 0. Get rid of it\n",
    "stations = stations[stations.long != 0]\n",
    "\n",
    "bins = pd.read_csv('../data/spatial_data/california_bins.csv')\n",
    "\n",
    "plt.rcParams[\"figure.figsize\"] = (8,8)\n",
    "plt.scatter(x=bins['long'], y=bins['lat'], color='black', s=0.5, label='bins')\n",
    "plt.scatter(x=stations['long'], y=stations['lat'], color='green', s=2, label='bins')\n",
    "plt.axis('equal')\n",
    "plt.xlabel('longitude')\n",
    "plt.ylabel('latitude')\n",
    "plt.title('Weather station locations')\n",
    "plt.legend()\n",
    "plt.show()"
   ]
  },
  {
   "cell_type": "markdown",
   "metadata": {},
   "source": [
    "Since we have many bins which do not contain a weather monitoring station, the next step is to fill in their values from the nearest station. First find the nearest station to each bin. To do this we will use scipy.spatial."
   ]
  },
  {
   "cell_type": "code",
   "execution_count": 3,
   "metadata": {},
   "outputs": [
    {
     "data": {
      "text/plain": [
       "array([[-117.08,   32.62],\n",
       "       [-116.98,   32.62],\n",
       "       [-116.88,   32.62],\n",
       "       ...,\n",
       "       [-120.28,   41.92],\n",
       "       [-120.18,   41.92],\n",
       "       [-120.08,   41.92]])"
      ]
     },
     "execution_count": 3,
     "metadata": {},
     "output_type": "execute_result"
    }
   ],
   "source": [
    "bin_array = np.column_stack([bins['long'], bins['lat']])\n",
    "bin_array"
   ]
  },
  {
   "cell_type": "code",
   "execution_count": 4,
   "metadata": {},
   "outputs": [
    {
     "data": {
      "text/plain": [
       "array([[-119.505  ,   37.151  ],\n",
       "       [-118.2    ,   34.446  ],\n",
       "       [-120.792  ,   41.237  ],\n",
       "       ...,\n",
       "       [-123.358  ,   39.42767],\n",
       "       [-123.355  ,   39.43056],\n",
       "       [-120.233  ,   38.847  ]])"
      ]
     },
     "execution_count": 4,
     "metadata": {},
     "output_type": "execute_result"
    }
   ],
   "source": [
    "station_array = np.column_stack([stations['long'], stations['lat']])\n",
    "station_array"
   ]
  },
  {
   "cell_type": "code",
   "execution_count": 5,
   "metadata": {},
   "outputs": [],
   "source": [
    "from scipy import spatial\n",
    "\n",
    "station_tree = spatial.cKDTree(station_array)\n",
    "dist, indexes = station_tree.query(bin_array)"
   ]
  },
  {
   "cell_type": "code",
   "execution_count": 6,
   "metadata": {},
   "outputs": [],
   "source": [
    "nearest_station_names = []\n",
    "for index in indexes:\n",
    "    nearest_station_names.append(stations.iloc[index, 0])"
   ]
  },
  {
   "cell_type": "code",
   "execution_count": 7,
   "metadata": {},
   "outputs": [
    {
     "data": {
      "text/html": [
       "<div>\n",
       "<style scoped>\n",
       "    .dataframe tbody tr th:only-of-type {\n",
       "        vertical-align: middle;\n",
       "    }\n",
       "\n",
       "    .dataframe tbody tr th {\n",
       "        vertical-align: top;\n",
       "    }\n",
       "\n",
       "    .dataframe thead th {\n",
       "        text-align: right;\n",
       "    }\n",
       "</style>\n",
       "<table border=\"1\" class=\"dataframe\">\n",
       "  <thead>\n",
       "    <tr style=\"text-align: right;\">\n",
       "      <th></th>\n",
       "      <th>long</th>\n",
       "      <th>lat</th>\n",
       "      <th>nearest_station_name</th>\n",
       "    </tr>\n",
       "  </thead>\n",
       "  <tbody>\n",
       "    <tr>\n",
       "      <td>0</td>\n",
       "      <td>-117.08</td>\n",
       "      <td>32.62</td>\n",
       "      <td>SMG</td>\n",
       "    </tr>\n",
       "    <tr>\n",
       "      <td>1</td>\n",
       "      <td>-116.98</td>\n",
       "      <td>32.62</td>\n",
       "      <td>SMG</td>\n",
       "    </tr>\n",
       "    <tr>\n",
       "      <td>2</td>\n",
       "      <td>-116.88</td>\n",
       "      <td>32.62</td>\n",
       "      <td>SMG</td>\n",
       "    </tr>\n",
       "    <tr>\n",
       "      <td>3</td>\n",
       "      <td>-116.78</td>\n",
       "      <td>32.62</td>\n",
       "      <td>POT</td>\n",
       "    </tr>\n",
       "    <tr>\n",
       "      <td>4</td>\n",
       "      <td>-116.68</td>\n",
       "      <td>32.62</td>\n",
       "      <td>POT</td>\n",
       "    </tr>\n",
       "  </tbody>\n",
       "</table>\n",
       "</div>"
      ],
      "text/plain": [
       "     long    lat nearest_station_name\n",
       "0 -117.08  32.62                  SMG\n",
       "1 -116.98  32.62                  SMG\n",
       "2 -116.88  32.62                  SMG\n",
       "3 -116.78  32.62                  POT\n",
       "4 -116.68  32.62                  POT"
      ]
     },
     "execution_count": 7,
     "metadata": {},
     "output_type": "execute_result"
    }
   ],
   "source": [
    "bins['nearest_station_name'] = nearest_station_names\n",
    "bins.head()"
   ]
  },
  {
   "cell_type": "markdown",
   "metadata": {},
   "source": [
    "Starting with the temperature dataset as a test case, now we will make an hourly time series spanning from 2006 to 2016 and assign each bin a temprature from it's nearest station each hour. "
   ]
  },
  {
   "cell_type": "code",
   "execution_count": 8,
   "metadata": {},
   "outputs": [
    {
     "data": {
      "text/html": [
       "<div>\n",
       "<style scoped>\n",
       "    .dataframe tbody tr th:only-of-type {\n",
       "        vertical-align: middle;\n",
       "    }\n",
       "\n",
       "    .dataframe tbody tr th {\n",
       "        vertical-align: top;\n",
       "    }\n",
       "\n",
       "    .dataframe thead th {\n",
       "        text-align: right;\n",
       "    }\n",
       "</style>\n",
       "<table border=\"1\" class=\"dataframe\">\n",
       "  <thead>\n",
       "    <tr style=\"text-align: right;\">\n",
       "      <th></th>\n",
       "      <th>STATION_ID</th>\n",
       "      <th>DURATION</th>\n",
       "      <th>SENSOR_NUMBER</th>\n",
       "      <th>SENSOR_TYPE</th>\n",
       "      <th>DATE_TIME</th>\n",
       "      <th>OBS_DATE</th>\n",
       "      <th>VALUE</th>\n",
       "      <th>DATA_FLAG</th>\n",
       "      <th>UNITS</th>\n",
       "    </tr>\n",
       "  </thead>\n",
       "  <tbody>\n",
       "    <tr>\n",
       "      <td>0</td>\n",
       "      <td>ACN</td>\n",
       "      <td>H</td>\n",
       "      <td>4</td>\n",
       "      <td>TEMP</td>\n",
       "      <td>20110101 2300</td>\n",
       "      <td>20110101 2300</td>\n",
       "      <td>38</td>\n",
       "      <td></td>\n",
       "      <td>DEG F</td>\n",
       "    </tr>\n",
       "    <tr>\n",
       "      <td>1</td>\n",
       "      <td>ACN</td>\n",
       "      <td>H</td>\n",
       "      <td>4</td>\n",
       "      <td>TEMP</td>\n",
       "      <td>20110102 0000</td>\n",
       "      <td>20110102 0000</td>\n",
       "      <td>36</td>\n",
       "      <td></td>\n",
       "      <td>DEG F</td>\n",
       "    </tr>\n",
       "    <tr>\n",
       "      <td>2</td>\n",
       "      <td>ACN</td>\n",
       "      <td>H</td>\n",
       "      <td>4</td>\n",
       "      <td>TEMP</td>\n",
       "      <td>20110102 0100</td>\n",
       "      <td>20110102 0100</td>\n",
       "      <td>37</td>\n",
       "      <td></td>\n",
       "      <td>DEG F</td>\n",
       "    </tr>\n",
       "    <tr>\n",
       "      <td>3</td>\n",
       "      <td>ACN</td>\n",
       "      <td>H</td>\n",
       "      <td>4</td>\n",
       "      <td>TEMP</td>\n",
       "      <td>20110102 0200</td>\n",
       "      <td>20110102 0200</td>\n",
       "      <td>35</td>\n",
       "      <td></td>\n",
       "      <td>DEG F</td>\n",
       "    </tr>\n",
       "    <tr>\n",
       "      <td>4</td>\n",
       "      <td>ACN</td>\n",
       "      <td>H</td>\n",
       "      <td>4</td>\n",
       "      <td>TEMP</td>\n",
       "      <td>20110102 0300</td>\n",
       "      <td>20110102 0300</td>\n",
       "      <td>34</td>\n",
       "      <td></td>\n",
       "      <td>DEG F</td>\n",
       "    </tr>\n",
       "  </tbody>\n",
       "</table>\n",
       "</div>"
      ],
      "text/plain": [
       "  STATION_ID DURATION  SENSOR_NUMBER SENSOR_TYPE      DATE_TIME  \\\n",
       "0        ACN        H              4        TEMP  20110101 2300   \n",
       "1        ACN        H              4        TEMP  20110102 0000   \n",
       "2        ACN        H              4        TEMP  20110102 0100   \n",
       "3        ACN        H              4        TEMP  20110102 0200   \n",
       "4        ACN        H              4        TEMP  20110102 0300   \n",
       "\n",
       "        OBS_DATE VALUE DATA_FLAG  UNITS  \n",
       "0  20110101 2300    38            DEG F  \n",
       "1  20110102 0000    36            DEG F  \n",
       "2  20110102 0100    37            DEG F  \n",
       "3  20110102 0200    35            DEG F  \n",
       "4  20110102 0300    34            DEG F  "
      ]
     },
     "execution_count": 8,
     "metadata": {},
     "output_type": "execute_result"
    }
   ],
   "source": [
    "temp_data = pd.read_csv('../data/training_data/weather_data/TEMP.csv', low_memory=False)\n",
    "temp_data.head()"
   ]
  },
  {
   "cell_type": "markdown",
   "metadata": {},
   "source": [
    "Plan here is to use a multiindex first by station, then by datetime so when building the final training dataset each bin can ask for data from its nearest station at a particular time."
   ]
  },
  {
   "cell_type": "code",
   "execution_count": 9,
   "metadata": {},
   "outputs": [
    {
     "data": {
      "text/html": [
       "<div>\n",
       "<style scoped>\n",
       "    .dataframe tbody tr th:only-of-type {\n",
       "        vertical-align: middle;\n",
       "    }\n",
       "\n",
       "    .dataframe tbody tr th {\n",
       "        vertical-align: top;\n",
       "    }\n",
       "\n",
       "    .dataframe thead th {\n",
       "        text-align: right;\n",
       "    }\n",
       "</style>\n",
       "<table border=\"1\" class=\"dataframe\">\n",
       "  <thead>\n",
       "    <tr style=\"text-align: right;\">\n",
       "      <th></th>\n",
       "      <th></th>\n",
       "      <th>VALUE</th>\n",
       "    </tr>\n",
       "    <tr>\n",
       "      <th>STATION_ID</th>\n",
       "      <th>OBS_DATE</th>\n",
       "      <th></th>\n",
       "    </tr>\n",
       "  </thead>\n",
       "  <tbody>\n",
       "    <tr>\n",
       "      <td rowspan=\"5\" valign=\"top\">ACN</td>\n",
       "      <td>2011-01-01 23:00:00</td>\n",
       "      <td>38</td>\n",
       "    </tr>\n",
       "    <tr>\n",
       "      <td>2011-01-02 00:00:00</td>\n",
       "      <td>36</td>\n",
       "    </tr>\n",
       "    <tr>\n",
       "      <td>2011-01-02 01:00:00</td>\n",
       "      <td>37</td>\n",
       "    </tr>\n",
       "    <tr>\n",
       "      <td>2011-01-02 02:00:00</td>\n",
       "      <td>35</td>\n",
       "    </tr>\n",
       "    <tr>\n",
       "      <td>2011-01-02 03:00:00</td>\n",
       "      <td>34</td>\n",
       "    </tr>\n",
       "  </tbody>\n",
       "</table>\n",
       "</div>"
      ],
      "text/plain": [
       "                               VALUE\n",
       "STATION_ID OBS_DATE                 \n",
       "ACN        2011-01-01 23:00:00    38\n",
       "           2011-01-02 00:00:00    36\n",
       "           2011-01-02 01:00:00    37\n",
       "           2011-01-02 02:00:00    35\n",
       "           2011-01-02 03:00:00    34"
      ]
     },
     "execution_count": 9,
     "metadata": {},
     "output_type": "execute_result"
    }
   ],
   "source": [
    "temp_data = temp_data.drop([\"DURATION\", \"SENSOR_NUMBER\", \"SENSOR_TYPE\", \"DATE_TIME\", \"DATA_FLAG\", \"UNITS\"], axis=1)\n",
    "temp_data = temp_data[temp_data.VALUE != '---']\n",
    "temp_data['OBS_DATE'] = pd.to_datetime(temp_data['OBS_DATE'])\n",
    "temp_data = temp_data.set_index(['STATION_ID', 'OBS_DATE'])\n",
    "temp_data = temp_data.sort_index()\n",
    "temp_data = temp_data.drop_duplicates()\n",
    "temp_data.head()"
   ]
  },
  {
   "cell_type": "code",
   "execution_count": 10,
   "metadata": {},
   "outputs": [
    {
     "data": {
      "text/plain": [
       "2011-01-01 23:00:00   2011-01-01 23:00:00\n",
       "2011-01-02 00:00:00   2011-01-02 00:00:00\n",
       "2011-01-02 01:00:00   2011-01-02 01:00:00\n",
       "2011-01-02 02:00:00   2011-01-02 02:00:00\n",
       "2011-01-02 03:00:00   2011-01-02 03:00:00\n",
       "                              ...        \n",
       "2016-01-01 19:00:00   2016-01-01 19:00:00\n",
       "2016-01-01 20:00:00   2016-01-01 20:00:00\n",
       "2016-01-01 21:00:00   2016-01-01 21:00:00\n",
       "2016-01-01 22:00:00   2016-01-01 22:00:00\n",
       "2016-01-01 23:00:00   2016-01-01 23:00:00\n",
       "Freq: 60T, Length: 43825, dtype: datetime64[ns]"
      ]
     },
     "execution_count": 10,
     "metadata": {},
     "output_type": "execute_result"
    }
   ],
   "source": [
    "time_series = pd.date_range(\"2011-01-01 23:00:00\", \"2016-01-01 23:00:00\", freq=\"60min\")\n",
    "time_series = time_series.to_series()\n",
    "time_series"
   ]
  },
  {
   "cell_type": "markdown",
   "metadata": {},
   "source": [
    "Now we make a dataframe of 'noxels' or n-dimentional voxels. Each row will be a bin at a specific time for each bin at all the times. Once we have this dataframe, we can go back though and assign weather variable values to each noxel.\n"
   ]
  },
  {
   "cell_type": "code",
   "execution_count": 11,
   "metadata": {},
   "outputs": [
    {
     "name": "stdout",
     "output_type": "stream",
     "text": [
      "peak memory: 17711.03 MiB, increment: 14107.08 MiB\n"
     ]
    },
    {
     "data": {
      "text/html": [
       "<div>\n",
       "<style scoped>\n",
       "    .dataframe tbody tr th:only-of-type {\n",
       "        vertical-align: middle;\n",
       "    }\n",
       "\n",
       "    .dataframe tbody tr th {\n",
       "        vertical-align: top;\n",
       "    }\n",
       "\n",
       "    .dataframe thead th {\n",
       "        text-align: right;\n",
       "    }\n",
       "</style>\n",
       "<table border=\"1\" class=\"dataframe\">\n",
       "  <thead>\n",
       "    <tr style=\"text-align: right;\">\n",
       "      <th></th>\n",
       "      <th>long</th>\n",
       "      <th>lat</th>\n",
       "      <th>nearest_station_name</th>\n",
       "      <th>time</th>\n",
       "    </tr>\n",
       "  </thead>\n",
       "  <tbody>\n",
       "    <tr>\n",
       "      <td>0</td>\n",
       "      <td>-117.08</td>\n",
       "      <td>32.62</td>\n",
       "      <td>SMG</td>\n",
       "      <td>2011-01-01 23:00:00</td>\n",
       "    </tr>\n",
       "    <tr>\n",
       "      <td>1</td>\n",
       "      <td>-116.98</td>\n",
       "      <td>32.62</td>\n",
       "      <td>SMG</td>\n",
       "      <td>2011-01-01 23:00:00</td>\n",
       "    </tr>\n",
       "    <tr>\n",
       "      <td>2</td>\n",
       "      <td>-116.88</td>\n",
       "      <td>32.62</td>\n",
       "      <td>SMG</td>\n",
       "      <td>2011-01-01 23:00:00</td>\n",
       "    </tr>\n",
       "    <tr>\n",
       "      <td>3</td>\n",
       "      <td>-116.78</td>\n",
       "      <td>32.62</td>\n",
       "      <td>POT</td>\n",
       "      <td>2011-01-01 23:00:00</td>\n",
       "    </tr>\n",
       "    <tr>\n",
       "      <td>4</td>\n",
       "      <td>-116.68</td>\n",
       "      <td>32.62</td>\n",
       "      <td>POT</td>\n",
       "      <td>2011-01-01 23:00:00</td>\n",
       "    </tr>\n",
       "  </tbody>\n",
       "</table>\n",
       "</div>"
      ],
      "text/plain": [
       "     long    lat nearest_station_name                time\n",
       "0 -117.08  32.62                  SMG 2011-01-01 23:00:00\n",
       "1 -116.98  32.62                  SMG 2011-01-01 23:00:00\n",
       "2 -116.88  32.62                  SMG 2011-01-01 23:00:00\n",
       "3 -116.78  32.62                  POT 2011-01-01 23:00:00\n",
       "4 -116.68  32.62                  POT 2011-01-01 23:00:00"
      ]
     },
     "execution_count": 11,
     "metadata": {},
     "output_type": "execute_result"
    }
   ],
   "source": [
    "def apply_to_bins(time_series, bins):\n",
    "    return bins.assign(time = time_series)\n",
    "\n",
    "%memit noxels = pd.concat(time_series.apply(apply_to_bins, args=(bins,)).tolist())\n",
    "noxels.head()"
   ]
  },
  {
   "cell_type": "code",
   "execution_count": null,
   "metadata": {},
   "outputs": [],
   "source": [
    "def assign_data(noxels, temp_data):\n",
    "    return noxels.assign(temp = temp_data.loc[(noxels['station_name'], noxels['time'])])\n",
    "\n",
    "%memit noxels = pd.concat(noxels.apply(assign_data, args=(temp_data,)).tolist())\n",
    "noxels.head()"
   ]
  },
  {
   "cell_type": "code",
   "execution_count": null,
   "metadata": {},
   "outputs": [],
   "source": []
  }
 ],
 "metadata": {
  "kernelspec": {
   "display_name": "Python 3",
   "language": "python",
   "name": "python3"
  },
  "language_info": {
   "codemirror_mode": {
    "name": "ipython",
    "version": 3
   },
   "file_extension": ".py",
   "mimetype": "text/x-python",
   "name": "python",
   "nbconvert_exporter": "python",
   "pygments_lexer": "ipython3",
   "version": "3.6.9"
  }
 },
 "nbformat": 4,
 "nbformat_minor": 2
}
