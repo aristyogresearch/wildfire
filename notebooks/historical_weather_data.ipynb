{
 "cells": [
  {
   "cell_type": "markdown",
   "metadata": {},
   "source": [
    "### Goal ###\n",
    "Find the nearest [California Data Exchange Center](https://cdec.water.ca.gov/) weather station to each of our California bins. This information will be used to assign each bin weather variable values."
   ]
  },
  {
   "cell_type": "code",
   "execution_count": 1,
   "metadata": {},
   "outputs": [],
   "source": [
    "import pandas as pd\n",
    "import numpy as np\n",
    "import matplotlib.pyplot as plt\n",
    "from multiprocessing import Pool\n",
    "%matplotlib inline\n",
    "%load_ext memory_profiler"
   ]
  },
  {
   "cell_type": "markdown",
   "metadata": {},
   "source": [
    "Lets load the station locations and the bins and take a look."
   ]
  },
  {
   "cell_type": "code",
   "execution_count": 2,
   "metadata": {},
   "outputs": [
    {
     "data": {
      "image/png": "[encoded data removed]",
      "text/plain": [
       "<Figure size 576x576 with 1 Axes>"
      ]
     },
     "metadata": {
      "needs_background": "light"
     },
     "output_type": "display_data"
    }
   ],
   "source": [
    "stations = pd.read_csv('../data/CDEC_weather_station_data/target_stations.csv')\n",
    "\n",
    "# Rename columns to project standards\n",
    "stations.columns = ['station','elevation', 'lat', 'long']\n",
    "\n",
    "# There is one station which has coordinates 0, 0. Get rid of it\n",
    "stations = stations[stations.long != 0]\n",
    "\n",
    "bins = pd.read_csv('../data/spatial_data/california_bins.csv')\n",
    "\n",
    "plt.rcParams[\"figure.figsize\"] = (8,8)\n",
    "plt.scatter(x = bins['long'], y = bins['lat'], color = 'black', s = 2, label = 'bins')\n",
    "plt.scatter(x = stations['long'], y = stations['lat'], color = 'green', s = 2, label = 'bins')\n",
    "plt.axis('equal')\n",
    "plt.xlabel('longitude')\n",
    "plt.ylabel('latitude')\n",
    "plt.title('Weather station locations')\n",
    "plt.legend()\n",
    "plt.show()"
   ]
  },
  {
   "cell_type": "markdown",
   "metadata": {},
   "source": [
    "Since we have many bins which do not contain a weather monitoring station, the next step is to fill in their values from the nearest station. First find the nearest station to each bin. To do this we will use scipy.spatial."
   ]
  },
  {
   "cell_type": "code",
   "execution_count": 3,
   "metadata": {},
   "outputs": [],
   "source": [
    "bin_array = np.column_stack([bins['long'], bins['lat']])\n",
    "station_array = np.column_stack([stations['long'], stations['lat']])"
   ]
  },
  {
   "cell_type": "code",
   "execution_count": 4,
   "metadata": {},
   "outputs": [
    {
     "data": {
      "text/html": [
       "<div>\n",
       "<style scoped>\n",
       "    .dataframe tbody tr th:only-of-type {\n",
       "        vertical-align: middle;\n",
       "    }\n",
       "\n",
       "    .dataframe tbody tr th {\n",
       "        vertical-align: top;\n",
       "    }\n",
       "\n",
       "    .dataframe thead th {\n",
       "        text-align: right;\n",
       "    }\n",
       "</style>\n",
       "<table border=\"1\" class=\"dataframe\">\n",
       "  <thead>\n",
       "    <tr style=\"text-align: right;\">\n",
       "      <th></th>\n",
       "      <th>long</th>\n",
       "      <th>lat</th>\n",
       "      <th>nearest_station_name</th>\n",
       "    </tr>\n",
       "  </thead>\n",
       "  <tbody>\n",
       "    <tr>\n",
       "      <td>0</td>\n",
       "      <td>-116.98</td>\n",
       "      <td>33.02</td>\n",
       "      <td>ELC</td>\n",
       "    </tr>\n",
       "    <tr>\n",
       "      <td>1</td>\n",
       "      <td>-116.48</td>\n",
       "      <td>33.02</td>\n",
       "      <td>JUL</td>\n",
       "    </tr>\n",
       "    <tr>\n",
       "      <td>2</td>\n",
       "      <td>-115.98</td>\n",
       "      <td>33.02</td>\n",
       "      <td>FIS</td>\n",
       "    </tr>\n",
       "    <tr>\n",
       "      <td>3</td>\n",
       "      <td>-115.48</td>\n",
       "      <td>33.02</td>\n",
       "      <td>CAU</td>\n",
       "    </tr>\n",
       "    <tr>\n",
       "      <td>4</td>\n",
       "      <td>-114.98</td>\n",
       "      <td>33.02</td>\n",
       "      <td>CAU</td>\n",
       "    </tr>\n",
       "  </tbody>\n",
       "</table>\n",
       "</div>"
      ],
      "text/plain": [
       "     long    lat nearest_station_name\n",
       "0 -116.98  33.02                  ELC\n",
       "1 -116.48  33.02                  JUL\n",
       "2 -115.98  33.02                  FIS\n",
       "3 -115.48  33.02                  CAU\n",
       "4 -114.98  33.02                  CAU"
      ]
     },
     "execution_count": 4,
     "metadata": {},
     "output_type": "execute_result"
    }
   ],
   "source": [
    "from scipy import spatial\n",
    "\n",
    "station_tree = spatial.cKDTree(station_array)\n",
    "dist, indexes = station_tree.query(bin_array)\n",
    "\n",
    "nearest_station_names = []\n",
    "for index in indexes:\n",
    "    nearest_station_names.append(stations.iloc[index, 0])\n",
    "    \n",
    "bins['nearest_station_name'] = nearest_station_names\n",
    "bins.head()"
   ]
  },
  {
   "cell_type": "markdown",
   "metadata": {},
   "source": [
    "Starting with the temperature dataset as a test case, now we will make an hourly time series spanning from 2006 to 2016 and assign each bin a temprature from it's nearest station each hour. "
   ]
  },
  {
   "cell_type": "code",
   "execution_count": 17,
   "metadata": {},
   "outputs": [
    {
     "data": {
      "text/html": [
       "<div>\n",
       "<style scoped>\n",
       "    .dataframe tbody tr th:only-of-type {\n",
       "        vertical-align: middle;\n",
       "    }\n",
       "\n",
       "    .dataframe tbody tr th {\n",
       "        vertical-align: top;\n",
       "    }\n",
       "\n",
       "    .dataframe thead th {\n",
       "        text-align: right;\n",
       "    }\n",
       "</style>\n",
       "<table border=\"1\" class=\"dataframe\">\n",
       "  <thead>\n",
       "    <tr style=\"text-align: right;\">\n",
       "      <th></th>\n",
       "      <th>STATION_ID</th>\n",
       "      <th>VALUE</th>\n",
       "    </tr>\n",
       "    <tr>\n",
       "      <th>OBS_DATE</th>\n",
       "      <th></th>\n",
       "      <th></th>\n",
       "    </tr>\n",
       "  </thead>\n",
       "  <tbody>\n",
       "    <tr>\n",
       "      <td>2015-01-01 23:00:00</td>\n",
       "      <td>ACN</td>\n",
       "      <td>31</td>\n",
       "    </tr>\n",
       "    <tr>\n",
       "      <td>2015-01-02 00:00:00</td>\n",
       "      <td>ACN</td>\n",
       "      <td>30</td>\n",
       "    </tr>\n",
       "    <tr>\n",
       "      <td>2015-01-02 01:00:00</td>\n",
       "      <td>ACN</td>\n",
       "      <td>29</td>\n",
       "    </tr>\n",
       "    <tr>\n",
       "      <td>2015-01-02 02:00:00</td>\n",
       "      <td>ACN</td>\n",
       "      <td>30</td>\n",
       "    </tr>\n",
       "    <tr>\n",
       "      <td>2015-01-02 03:00:00</td>\n",
       "      <td>ACN</td>\n",
       "      <td>33</td>\n",
       "    </tr>\n",
       "  </tbody>\n",
       "</table>\n",
       "</div>"
      ],
      "text/plain": [
       "                    STATION_ID  VALUE\n",
       "OBS_DATE                             \n",
       "2015-01-01 23:00:00        ACN     31\n",
       "2015-01-02 00:00:00        ACN     30\n",
       "2015-01-02 01:00:00        ACN     29\n",
       "2015-01-02 02:00:00        ACN     30\n",
       "2015-01-02 03:00:00        ACN     33"
      ]
     },
     "execution_count": 17,
     "metadata": {},
     "output_type": "execute_result"
    }
   ],
   "source": [
    "# Annoying, but here goes...\n",
    "import warnings\n",
    "warnings.simplefilter(action='ignore', category=FutureWarning)\n",
    "\n",
    "#temp_data = pd.read_csv(\"../data/training_data/weather_data/TEMP_1mo.csv\", usecols = [\"STATION_ID\", \"OBS_DATE\", \"VALUE\"], index_col = \"OBS_DATE\", dtype = {\"STATION_ID\" : \"object\", \"VALUE\" : \"int\"}, parse_dates=['OBS_DATE'])\n",
    "temp_data = pd.read_csv(\"../data/training_data/weather_data/TEMP_1mo.csv\", parse_dates=['OBS_DATE'], usecols = [\"STATION_ID\", \"OBS_DATE\", \"VALUE\"], index_col = \"OBS_DATE\")\n",
    "temp_data = temp_data[temp_data.VALUE != '---']\n",
    "temp_data.head()"
   ]
  },
  {
   "cell_type": "code",
   "execution_count": 18,
   "metadata": {},
   "outputs": [
    {
     "data": {
      "text/plain": [
       "dtype('int64')"
      ]
     },
     "execution_count": 18,
     "metadata": {},
     "output_type": "execute_result"
    }
   ],
   "source": [
    "temp_data['VALUE'].dtype"
   ]
  },
  {
   "cell_type": "markdown",
   "metadata": {},
   "source": [
    "Plan here is to multiindex the weather data by station and datetime so when building the final training dataset each bin can ask for data from its nearest station at a particular time. Lets trim some of the fat first. In order to make the weather data more managable, we will resample with a 6 hour resolution. This will effectivly make the dataset 6x smaller."
   ]
  },
  {
   "cell_type": "code",
   "execution_count": 19,
   "metadata": {},
   "outputs": [],
   "source": [
    "stations = temp_data['STATION_ID'].unique().tolist()"
   ]
  },
  {
   "cell_type": "code",
   "execution_count": 20,
   "metadata": {},
   "outputs": [
    {
     "data": {
      "text/html": [
       "<div>\n",
       "<style scoped>\n",
       "    .dataframe tbody tr th:only-of-type {\n",
       "        vertical-align: middle;\n",
       "    }\n",
       "\n",
       "    .dataframe tbody tr th {\n",
       "        vertical-align: top;\n",
       "    }\n",
       "\n",
       "    .dataframe thead th {\n",
       "        text-align: right;\n",
       "    }\n",
       "</style>\n",
       "<table border=\"1\" class=\"dataframe\">\n",
       "  <thead>\n",
       "    <tr style=\"text-align: right;\">\n",
       "      <th></th>\n",
       "      <th></th>\n",
       "      <th>resampled_value</th>\n",
       "    </tr>\n",
       "    <tr>\n",
       "      <th>OBS_DATE</th>\n",
       "      <th>STATION_ID</th>\n",
       "      <th></th>\n",
       "    </tr>\n",
       "  </thead>\n",
       "  <tbody>\n",
       "    <tr>\n",
       "      <td>2015-01-01 23:00:00</td>\n",
       "      <td>ACN</td>\n",
       "      <td>31.000000</td>\n",
       "    </tr>\n",
       "    <tr>\n",
       "      <td>2015-01-02 05:00:00</td>\n",
       "      <td>ACN</td>\n",
       "      <td>30.363636</td>\n",
       "    </tr>\n",
       "    <tr>\n",
       "      <td>2015-01-02 11:00:00</td>\n",
       "      <td>ACN</td>\n",
       "      <td>38.909091</td>\n",
       "    </tr>\n",
       "    <tr>\n",
       "      <td>2015-01-02 17:00:00</td>\n",
       "      <td>ACN</td>\n",
       "      <td>51.454545</td>\n",
       "    </tr>\n",
       "    <tr>\n",
       "      <td>2015-01-02 23:00:00</td>\n",
       "      <td>ACN</td>\n",
       "      <td>34.909091</td>\n",
       "    </tr>\n",
       "    <tr>\n",
       "      <td>...</td>\n",
       "      <td>...</td>\n",
       "      <td>...</td>\n",
       "    </tr>\n",
       "    <tr>\n",
       "      <td>2015-01-30 23:00:00</td>\n",
       "      <td>WWS</td>\n",
       "      <td>54.833333</td>\n",
       "    </tr>\n",
       "    <tr>\n",
       "      <td>2015-01-31 11:00:00</td>\n",
       "      <td>WWS</td>\n",
       "      <td>60.333333</td>\n",
       "    </tr>\n",
       "    <tr>\n",
       "      <td>2015-01-31 23:00:00</td>\n",
       "      <td>WWS</td>\n",
       "      <td>49.500000</td>\n",
       "    </tr>\n",
       "    <tr>\n",
       "      <td>2015-02-01 11:00:00</td>\n",
       "      <td>WWS</td>\n",
       "      <td>50.000000</td>\n",
       "    </tr>\n",
       "    <tr>\n",
       "      <td>2015-02-01 23:00:00</td>\n",
       "      <td>WWS</td>\n",
       "      <td>54.833333</td>\n",
       "    </tr>\n",
       "  </tbody>\n",
       "</table>\n",
       "<p>76416 rows × 1 columns</p>\n",
       "</div>"
      ],
      "text/plain": [
       "                                resampled_value\n",
       "OBS_DATE            STATION_ID                 \n",
       "2015-01-01 23:00:00 ACN               31.000000\n",
       "2015-01-02 05:00:00 ACN               30.363636\n",
       "2015-01-02 11:00:00 ACN               38.909091\n",
       "2015-01-02 17:00:00 ACN               51.454545\n",
       "2015-01-02 23:00:00 ACN               34.909091\n",
       "...                                         ...\n",
       "2015-01-30 23:00:00 WWS               54.833333\n",
       "2015-01-31 11:00:00 WWS               60.333333\n",
       "2015-01-31 23:00:00 WWS               49.500000\n",
       "2015-02-01 11:00:00 WWS               50.000000\n",
       "2015-02-01 23:00:00 WWS               54.833333\n",
       "\n",
       "[76416 rows x 1 columns]"
      ]
     },
     "execution_count": 20,
     "metadata": {},
     "output_type": "execute_result"
    }
   ],
   "source": [
    "n_threads = 14\n",
    "\n",
    "def downsample_timeseries(group):\n",
    "    group = group.sort_index()\n",
    "    group.loc[:,'resampled_value'] = group.VALUE.rolling('6H').mean()\n",
    "    group = group.drop(['VALUE'], axis = 1)\n",
    "    return group.iloc[0::12, :]\n",
    "\n",
    "def group_timeseries_data(stations):\n",
    "    data = temp_data.loc[temp_data['STATION_ID'].isin(stations)]\n",
    "    grouped_data = data.groupby('STATION_ID')\n",
    "    return grouped_data.apply(downsample_timeseries)\n",
    "    \n",
    "def parallelize(stations, func, n_cores = n_threads):\n",
    "    '''Parallelizes downsampling, takes list of stations and\n",
    "    splits up the downsampling fuction over avalibile threads'''\n",
    "    stations_split = np.array_split(stations, n_cores)\n",
    "    pool = Pool(n_cores)\n",
    "    result = pd.concat(pool.map(func, stations_split))\n",
    "    pool.close()\n",
    "    pool.join()\n",
    "    return result\n",
    "    \n",
    "binned_temp_data = parallelize(stations, group_timeseries_data)\n",
    "binned_temp_data = binned_temp_data.reset_index(level = 0, drop = True)\n",
    "binned_temp_data = binned_temp_data.set_index(['STATION_ID'], append = True)\n",
    "binned_temp_data"
   ]
  },
  {
   "cell_type": "code",
   "execution_count": 21,
   "metadata": {},
   "outputs": [
    {
     "data": {
      "text/plain": [
       "dtype('float64')"
      ]
     },
     "execution_count": 21,
     "metadata": {},
     "output_type": "execute_result"
    }
   ],
   "source": [
    "binned_temp_data['resampled_value'].dtype"
   ]
  },
  {
   "cell_type": "code",
   "execution_count": 22,
   "metadata": {},
   "outputs": [],
   "source": [
    "#binned_temp_data.to_csv('../data/training_data/weather_data/TEMP_1yr_binned_6hr.csv')"
   ]
  },
  {
   "cell_type": "code",
   "execution_count": 23,
   "metadata": {},
   "outputs": [
    {
     "data": {
      "text/plain": [
       "2015-01-01 23:00:00   2015-01-01 23:00:00\n",
       "2015-01-02 05:00:00   2015-01-02 05:00:00\n",
       "2015-01-02 11:00:00   2015-01-02 11:00:00\n",
       "2015-01-02 17:00:00   2015-01-02 17:00:00\n",
       "2015-01-02 23:00:00   2015-01-02 23:00:00\n",
       "Freq: 6H, dtype: datetime64[ns]"
      ]
     },
     "execution_count": 23,
     "metadata": {},
     "output_type": "execute_result"
    }
   ],
   "source": [
    "time_series = pd.date_range(\"2015-01-01 23:00:00\", \"2015-02-01 23:00:00\", freq = \"6H\")\n",
    "time_series = time_series.to_series()\n",
    "time_series.head()"
   ]
  },
  {
   "cell_type": "markdown",
   "metadata": {},
   "source": [
    "Now we make a dataframe of 'noxels' or n-dimentional voxels. Each row will be a bin at a specific time. Once we have this dataframe, we can go back though and assign weather variable values to each noxel."
   ]
  },
  {
   "cell_type": "code",
   "execution_count": 41,
   "metadata": {},
   "outputs": [
    {
     "name": "stdout",
     "output_type": "stream",
     "text": [
      "peak memory: 215.47 MiB, increment: 0.00 MiB\n"
     ]
    },
    {
     "data": {
      "text/html": [
       "<div>\n",
       "<style scoped>\n",
       "    .dataframe tbody tr th:only-of-type {\n",
       "        vertical-align: middle;\n",
       "    }\n",
       "\n",
       "    .dataframe tbody tr th {\n",
       "        vertical-align: top;\n",
       "    }\n",
       "\n",
       "    .dataframe thead th {\n",
       "        text-align: right;\n",
       "    }\n",
       "</style>\n",
       "<table border=\"1\" class=\"dataframe\">\n",
       "  <thead>\n",
       "    <tr style=\"text-align: right;\">\n",
       "      <th></th>\n",
       "      <th>long</th>\n",
       "      <th>lat</th>\n",
       "      <th>nearest_station_name</th>\n",
       "      <th>time</th>\n",
       "    </tr>\n",
       "  </thead>\n",
       "  <tbody>\n",
       "    <tr>\n",
       "      <td>0</td>\n",
       "      <td>-116.98</td>\n",
       "      <td>33.02</td>\n",
       "      <td>ELC</td>\n",
       "      <td>2015-01-01 23:00:00</td>\n",
       "    </tr>\n",
       "    <tr>\n",
       "      <td>1</td>\n",
       "      <td>-116.48</td>\n",
       "      <td>33.02</td>\n",
       "      <td>JUL</td>\n",
       "      <td>2015-01-01 23:00:00</td>\n",
       "    </tr>\n",
       "    <tr>\n",
       "      <td>2</td>\n",
       "      <td>-115.98</td>\n",
       "      <td>33.02</td>\n",
       "      <td>FIS</td>\n",
       "      <td>2015-01-01 23:00:00</td>\n",
       "    </tr>\n",
       "    <tr>\n",
       "      <td>3</td>\n",
       "      <td>-115.48</td>\n",
       "      <td>33.02</td>\n",
       "      <td>CAU</td>\n",
       "      <td>2015-01-01 23:00:00</td>\n",
       "    </tr>\n",
       "    <tr>\n",
       "      <td>4</td>\n",
       "      <td>-114.98</td>\n",
       "      <td>33.02</td>\n",
       "      <td>CAU</td>\n",
       "      <td>2015-01-01 23:00:00</td>\n",
       "    </tr>\n",
       "  </tbody>\n",
       "</table>\n",
       "</div>"
      ],
      "text/plain": [
       "     long    lat nearest_station_name                time\n",
       "0 -116.98  33.02                  ELC 2015-01-01 23:00:00\n",
       "1 -116.48  33.02                  JUL 2015-01-01 23:00:00\n",
       "2 -115.98  33.02                  FIS 2015-01-01 23:00:00\n",
       "3 -115.48  33.02                  CAU 2015-01-01 23:00:00\n",
       "4 -114.98  33.02                  CAU 2015-01-01 23:00:00"
      ]
     },
     "execution_count": 41,
     "metadata": {},
     "output_type": "execute_result"
    }
   ],
   "source": [
    "def apply_to_bins(time_series, bins):\n",
    "    return bins.assign(time = time_series)\n",
    "\n",
    "%memit noxels = pd.concat(time_series.apply(apply_to_bins, args = (bins,)).tolist())\n",
    "noxels.head()"
   ]
  },
  {
   "cell_type": "code",
   "execution_count": 42,
   "metadata": {},
   "outputs": [
    {
     "data": {
      "text/html": [
       "<div>\n",
       "<style scoped>\n",
       "    .dataframe tbody tr th:only-of-type {\n",
       "        vertical-align: middle;\n",
       "    }\n",
       "\n",
       "    .dataframe tbody tr th {\n",
       "        vertical-align: top;\n",
       "    }\n",
       "\n",
       "    .dataframe thead th {\n",
       "        text-align: right;\n",
       "    }\n",
       "</style>\n",
       "<table border=\"1\" class=\"dataframe\">\n",
       "  <thead>\n",
       "    <tr style=\"text-align: right;\">\n",
       "      <th></th>\n",
       "      <th>long</th>\n",
       "      <th>lat</th>\n",
       "      <th>nearest_station_name</th>\n",
       "      <th>time</th>\n",
       "      <th>temp</th>\n",
       "    </tr>\n",
       "  </thead>\n",
       "  <tbody>\n",
       "    <tr>\n",
       "      <td>1</td>\n",
       "      <td>-116.48</td>\n",
       "      <td>33.02</td>\n",
       "      <td>JUL</td>\n",
       "      <td>2015-01-01 23:00:00</td>\n",
       "      <td>23.0</td>\n",
       "    </tr>\n",
       "    <tr>\n",
       "      <td>2</td>\n",
       "      <td>-115.98</td>\n",
       "      <td>33.02</td>\n",
       "      <td>FIS</td>\n",
       "      <td>2015-01-01 23:00:00</td>\n",
       "      <td>45.0</td>\n",
       "    </tr>\n",
       "    <tr>\n",
       "      <td>3</td>\n",
       "      <td>-115.48</td>\n",
       "      <td>33.02</td>\n",
       "      <td>CAU</td>\n",
       "      <td>2015-01-01 23:00:00</td>\n",
       "      <td>39.0</td>\n",
       "    </tr>\n",
       "    <tr>\n",
       "      <td>4</td>\n",
       "      <td>-114.98</td>\n",
       "      <td>33.02</td>\n",
       "      <td>CAU</td>\n",
       "      <td>2015-01-01 23:00:00</td>\n",
       "      <td>39.0</td>\n",
       "    </tr>\n",
       "    <tr>\n",
       "      <td>5</td>\n",
       "      <td>-117.48</td>\n",
       "      <td>33.52</td>\n",
       "      <td>BEC</td>\n",
       "      <td>2015-01-01 23:00:00</td>\n",
       "      <td>42.0</td>\n",
       "    </tr>\n",
       "  </tbody>\n",
       "</table>\n",
       "</div>"
      ],
      "text/plain": [
       "     long    lat nearest_station_name                time  temp\n",
       "1 -116.48  33.02                  JUL 2015-01-01 23:00:00  23.0\n",
       "2 -115.98  33.02                  FIS 2015-01-01 23:00:00  45.0\n",
       "3 -115.48  33.02                  CAU 2015-01-01 23:00:00  39.0\n",
       "4 -114.98  33.02                  CAU 2015-01-01 23:00:00  39.0\n",
       "5 -117.48  33.52                  BEC 2015-01-01 23:00:00  42.0"
      ]
     },
     "execution_count": 42,
     "metadata": {},
     "output_type": "execute_result"
    }
   ],
   "source": [
    "def try_except(row):\n",
    "    try:\n",
    "        return binned_temp_data.loc[row['time'], row['nearest_station_name']]\n",
    "    except:\n",
    "        return np.nan\n",
    "\n",
    "noxels['temp'] = noxels.apply(lambda row: try_except(row), axis = 1)\n",
    "noxels = noxels.dropna()\n",
    "noxels['temp'] = noxels['temp'].str[0]\n",
    "noxels.head()"
   ]
  },
  {
   "cell_type": "code",
   "execution_count": 43,
   "metadata": {},
   "outputs": [],
   "source": [
    "noxels.to_csv('../data/training_data/noxels.csv', index = False)"
   ]
  },
  {
   "cell_type": "markdown",
   "metadata": {},
   "source": [
    "OK, so, working to a first approximation. I am worried that we a loosing a bunch of data somewhere. Lets check some lengths and see. If we filled every bin with a temperature value, then we should have bins x time_series rows in our data file..."
   ]
  },
  {
   "cell_type": "code",
   "execution_count": 48,
   "metadata": {},
   "outputs": [
    {
     "data": {
      "text/plain": [
       "0.48"
      ]
     },
     "execution_count": 48,
     "metadata": {},
     "output_type": "execute_result"
    }
   ],
   "source": [
    "round(len(noxels) / (len(bins) * len(time_series)), 2)"
   ]
  },
  {
   "cell_type": "markdown",
   "metadata": {},
   "source": [
    "Looks like we only caught about half of the data. My brain is toast for the night, but here are the next steps:\n",
    "1. Figure out why only half the noxels are getting data - my hunch is that is has something to do with cell In \\[20\\] in the downsample_timeseries function. Grabbing values on a regular interval and hoping it corresponds to 6 hr. time blocks seems stupid. What if we are missing data?\n",
    "2. Parralize cell 42? We are going to need to to handle **way** more data than this and it's noticeably slow already."
   ]
  },
  {
   "cell_type": "code",
   "execution_count": null,
   "metadata": {},
   "outputs": [],
   "source": []
  }
 ],
 "metadata": {
  "kernelspec": {
   "display_name": "Python 3",
   "language": "python",
   "name": "python3"
  },
  "language_info": {
   "codemirror_mode": {
    "name": "ipython",
    "version": 3
   },
   "file_extension": ".py",
   "mimetype": "text/x-python",
   "name": "python",
   "nbconvert_exporter": "python",
   "pygments_lexer": "ipython3",
   "version": "3.6.9"
  }
 },
 "nbformat": 4,
 "nbformat_minor": 2
}
