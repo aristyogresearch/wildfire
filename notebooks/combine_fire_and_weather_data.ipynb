{
 "cells": [
  {
   "cell_type": "code",
   "execution_count": 1,
   "metadata": {},
   "outputs": [],
   "source": [
    "import pandas as pd\n",
    "import numpy as np\n",
    "from scipy import spatial\n",
    "from multiprocessing import Pool"
   ]
  },
  {
   "cell_type": "code",
   "execution_count": 2,
   "metadata": {},
   "outputs": [],
   "source": [
    "weather_data_file = '../data/NOAA_weather_data/2015_california_only_all.csv'\n",
    "fire_data_file = '../data/USDA_wildfire_data/california_fires.csv'\n",
    "\n",
    "# Parallelization options\n",
    "N_PROCESSES = 15\n",
    "JOBS_PER_PROCESS = 1"
   ]
  },
  {
   "cell_type": "code",
   "execution_count": 3,
   "metadata": {},
   "outputs": [],
   "source": [
    "weather = pd.read_csv(weather_data_file)\n",
    "weather['time'] = pd.to_datetime(weather['time'])\n",
    "#weather.set_index('time', drop=True, inplace=True)\n",
    "weather['ignition'] = 0\n",
    "weather = weather.sort_index()\n",
    "fires = pd.read_csv(fire_data_file)\n",
    "sample_weather = weather[weather['time'] == '2015-12-31']\n",
    "sample_fires = fires[fires['date'] == '2015-12-31']"
   ]
  },
  {
   "cell_type": "code",
   "execution_count": 10,
   "metadata": {},
   "outputs": [
    {
     "name": "stdout",
     "output_type": "stream",
     "text": [
      "<class 'pandas.core.frame.DataFrame'>\n",
      "RangeIndex: 7365 entries, 0 to 7364\n",
      "Data columns (total 3 columns):\n",
      "date    7365 non-null object\n",
      "lat     7365 non-null float64\n",
      "lon     7365 non-null float64\n",
      "dtypes: float64(2), object(1)\n",
      "memory usage: 172.7+ KB\n"
     ]
    }
   ],
   "source": [
    "def bin_fire_ignitions(fire):\n",
    "    date = fire['date']\n",
    "    try:\n",
    "        day = weather[weather['time'] == date]\n",
    "        if len(day) > 0:\n",
    "            bin_location_array = np.column_stack([day['lon'], day['lat']])\n",
    "            fire_location = np.column_stack([fire['lon'], fire['lat']])\n",
    "\n",
    "            bin_tree = spatial.cKDTree(bin_location_array)\n",
    "            dist, index = bin_tree.query(fire_location)\n",
    "\n",
    "            return(pd.Series([date, day.iloc[index[0], 1], day.iat[index[0], 2]]))\n",
    "        else:\n",
    "            return(pd.Series([np.nan, np.nan, np.nan]))\n",
    "        \n",
    "    except KeyError:\n",
    "        return(pd.Series([np.nan, np.nan, np.nan]))\n",
    "    \n",
    "def parallel_apply(df):\n",
    "    result = df.apply(bin_fire_ignitions, axis=1)\n",
    "    if len(result) > 0:\n",
    "        return(result)\n",
    "    \n",
    "    else:\n",
    "        return(pd.Series([np.nan, np.nan, np.nan]))\n",
    "    \n",
    "def parallelize(function, df, n_processes, jobs_per_process):\n",
    "    '''Parallelizes a function. Takes function name, dataframe\n",
    "    and number of threads. Splits up function call over\n",
    "    avalible threads. Joins and returns the results.'''  \n",
    "    df_split = np.array_split(df, (n_processes * jobs_per_process))\n",
    "    with Pool(n_processes) as pool:\n",
    "        result = pd.concat(pool.map(function, df_split))\n",
    "                                           \n",
    "    pool.close()\n",
    "    pool.join()\n",
    "    return result\n",
    "\n",
    "result = parallelize(parallel_apply, fires, N_PROCESSES, JOBS_PER_PROCESS)\n",
    "#result = sample_fires.apply(bin_fire_ignitions, axis=1)\n",
    "\n",
    "cleaned_result = result\n",
    "cleaned_result.dropna(inplace = True)\n",
    "cleaned_result.reset_index(drop = True, inplace = True)\n",
    "cleaned_result.columns = ['date', 'lat', 'lon']\n",
    "cleaned_result.info()"
   ]
  },
  {
   "cell_type": "code",
   "execution_count": 17,
   "metadata": {},
   "outputs": [
    {
     "data": {
      "text/html": [
       "<div>\n",
       "<style scoped>\n",
       "    .dataframe tbody tr th:only-of-type {\n",
       "        vertical-align: middle;\n",
       "    }\n",
       "\n",
       "    .dataframe tbody tr th {\n",
       "        vertical-align: top;\n",
       "    }\n",
       "\n",
       "    .dataframe thead th {\n",
       "        text-align: right;\n",
       "    }\n",
       "</style>\n",
       "<table border=\"1\" class=\"dataframe\">\n",
       "  <thead>\n",
       "    <tr style=\"text-align: right;\">\n",
       "      <th></th>\n",
       "      <th>date</th>\n",
       "      <th>lat</th>\n",
       "      <th>lon</th>\n",
       "    </tr>\n",
       "  </thead>\n",
       "  <tbody>\n",
       "    <tr>\n",
       "      <td>0</td>\n",
       "      <td>2015-07-08</td>\n",
       "      <td>38.67550</td>\n",
       "      <td>-119.7325</td>\n",
       "    </tr>\n",
       "    <tr>\n",
       "      <td>1</td>\n",
       "      <td>2015-08-12</td>\n",
       "      <td>38.15829</td>\n",
       "      <td>-119.2505</td>\n",
       "    </tr>\n",
       "    <tr>\n",
       "      <td>2</td>\n",
       "      <td>2015-06-29</td>\n",
       "      <td>38.39312</td>\n",
       "      <td>-119.6706</td>\n",
       "    </tr>\n",
       "    <tr>\n",
       "      <td>3</td>\n",
       "      <td>2015-06-15</td>\n",
       "      <td>38.39312</td>\n",
       "      <td>-119.6706</td>\n",
       "    </tr>\n",
       "    <tr>\n",
       "      <td>4</td>\n",
       "      <td>2015-06-27</td>\n",
       "      <td>38.39312</td>\n",
       "      <td>-119.6706</td>\n",
       "    </tr>\n",
       "  </tbody>\n",
       "</table>\n",
       "</div>"
      ],
      "text/plain": [
       "         date       lat       lon\n",
       "0  2015-07-08  38.67550 -119.7325\n",
       "1  2015-08-12  38.15829 -119.2505\n",
       "2  2015-06-29  38.39312 -119.6706\n",
       "3  2015-06-15  38.39312 -119.6706\n",
       "4  2015-06-27  38.39312 -119.6706"
      ]
     },
     "execution_count": 17,
     "metadata": {},
     "output_type": "execute_result"
    }
   ],
   "source": [
    "cleaned_result.head()"
   ]
  },
  {
   "cell_type": "code",
   "execution_count": null,
   "metadata": {},
   "outputs": [],
   "source": [
    "for index, row in cleaned_result.iterrows():\n",
    "    date = row['date']\n",
    "    lat = row['lat']\n",
    "    lon = row['lon']\n",
    "    weather.loc[(weather['time'] == date) & (weather['lat'] == lat) & (weather['lon'] == lon), 'ignition'] = 1"
   ]
  },
  {
   "cell_type": "code",
   "execution_count": 26,
   "metadata": {},
   "outputs": [
    {
     "data": {
      "text/plain": [
       "731694    0\n",
       "Name: ignition, dtype: int64"
      ]
     },
     "execution_count": 26,
     "metadata": {},
     "output_type": "execute_result"
    }
   ],
   "source": [
    "weather.loc[(weather['time'] == '2015-08-12') & (weather['lat'] == 38.15829) & (weather['lon'] == -119.2505), 'ignition']"
   ]
  },
  {
   "cell_type": "code",
   "execution_count": null,
   "metadata": {},
   "outputs": [],
   "source": []
  }
 ],
 "metadata": {
  "kernelspec": {
   "display_name": "Python 3",
   "language": "python",
   "name": "python3"
  },
  "language_info": {
   "codemirror_mode": {
    "name": "ipython",
    "version": 3
   },
   "file_extension": ".py",
   "mimetype": "text/x-python",
   "name": "python",
   "nbconvert_exporter": "python",
   "pygments_lexer": "ipython3",
   "version": "3.6.9"
  }
 },
 "nbformat": 4,
 "nbformat_minor": 2
}
